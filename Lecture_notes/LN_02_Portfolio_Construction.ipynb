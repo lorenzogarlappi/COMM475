{
  "cells": [
    {
      "cell_type": "markdown",
      "id": "e9187954",
      "metadata": {
        "id": "e9187954"
      },
      "source": [
        "# **COMM475--Investment Policies: Portfolio Construction**\n",
        "\n",
        "Instructor: Lorenzo Garlappi &copy; 2024<sup>*</sup>\n",
        "\n",
        "TA: Tianping Wu\n",
        "\n",
        "<sup>*</sup> <small>These notes are based on Rob Heinkel and Bill Tilford's lecture notes. I am grateful to them for generously sharing this material with me.</small>"
      ]
    },
    {
      "cell_type": "markdown",
      "id": "489afdae",
      "metadata": {
        "id": "489afdae"
      },
      "source": [
        "# Portfolio Construction Techniques\n",
        "\n",
        "This section introduces three portfolio construction techniques:\n",
        "    \n",
        "1. Mean-Variance Analysis (MVA)\n",
        "    \n",
        "2. Risk Parity Portfolio Construction (RP)\n",
        "    \n",
        "3. Multi-Risk Factor Model (MRF)\n",
        "    \n",
        "MVA should be a review of what you have already seen in earlier finance courses. Risk Parity Construction was created many years ago, but has seen a revival in recent years. We will view the RP model as a subset of the Multi-Risk Factor (MRF) model, which we will develop in more detail in the course, as we develop an Asset-Liability Model (ALM)."
      ]
    },
    {
      "cell_type": "markdown",
      "id": "d8ccd819",
      "metadata": {
        "id": "d8ccd819"
      },
      "source": [
        "# **1. Mean-Variance Analysis (MVA)**\n"
      ]
    },
    {
      "cell_type": "markdown",
      "id": "IxTpWWdhoiRQ",
      "metadata": {
        "id": "IxTpWWdhoiRQ"
      },
      "source": [
        "\n",
        "Consider a universe of $N$ assets, $i=1, 2, \\ldots, N$. Each asset has an expected return $E[R_i]$ and volatility $\\sigma[R_i]$. A **portfolio** is a set of weights $w =(w_1, w_2,\\ldots,. w_N)$ combining these $N$ assets.   \n",
        "\n",
        "**Efficient Frontier:**\n",
        "\n",
        "1. **Mean return** of portfolio w: $$E[R(w)] = \\sum_{i=1}^N w_iE[R_i]$$\n",
        "\n",
        "where $R(w)$ denotes the random return on portfolio $w$.\n",
        "\n",
        "2. **Return variance** of portfolio w: $$Var[R(w)] = \\sum_{i=1}^N\\sum_{j=1}^N w_iw_j cov[R_i,R_j]$$\n",
        "where the **covariance** $cov[R_i,R_j]= \\rho_{ij}\\sigma[R_i]\\sigma[R_j]$, with $\\rho_{ij}$ denoting the **correlation** between return of asset $i$  and $j$. **Return volatility** is simply\n",
        " $$ \\sigma[R(w)] = \\sqrt{Var[R(w)]}$$\n",
        "\n",
        "3. **Sharpe ratio** of portfolio $w$: $$S_w = \\frac{E[R(w)]-R_f}{\\sigma[R(w)]}$$\n",
        "Where $R_f$ denotes the risk free rate.\n",
        "\n",
        "4. A **mean-variance efficient portfolio** is a portfolio $w$ that has the minium variance (or volatility) among all portfolio with the same expected return $\\mu^*$, that is, a mean-variance portfolio solves the following problem:\n",
        "\n",
        "$$\\min_{w} \\sigma[R(w)],~~~s.t.~~ E[R(w)] = \\mu^*,~~\\text{and}~~\\sum_{i=1}^N w_i = 1. $$\n",
        "\n",
        "5. The **mean variance frontier** is the **set** of all mean-variance efficient portfolios. That is, as we vary $\\mu^*$, we obtain a whole set of mean-variance efficient portfolios, one for each $\\mu^*$. Because the problem is **quadratic** we know that for every $\\mu^*$ there is a unique mean-variance efficient portfolio $w$, hence the frontier is well defined.  \n",
        "\n",
        "## Matrix algebra\n",
        "\n",
        "All the above is much simplified by using **matrix notation**.\n",
        "\n",
        "a. Let $w$ denote a $(N\\times 1)$ vector of portfolio weights: $w = (w_1, \\ldots, w_N)^\\top$, where $^\\top$ means \"transposed vector\"\n",
        "\n",
        "b. Let $\\mu$ denote a $(N\\times 1)$ vector of portfolio expcted returns:\n",
        "$\\mu = (\\mu_1, \\ldots, \\mu_N)^\\top$\n",
        "\n",
        "c. Let $\\sigma$ denote a $(N\\times 1)$ vector of portfolio volatilities:\n",
        "$\\sigma = (\\sigma_1, \\ldots, \\sigma_N)^\\top$\n",
        "\n",
        "d. Let $\\rho$ denote the $N\\times N$ **correlation matrix** and $\\Sigma$ denotes the $N\\times N$ **variance-covariance** matrix\n",
        "$$ \\Sigma \\equiv \\rho \\odot  (\\sigma \\times \\sigma^\\top)$$\n",
        "with $\\odot$ denoting \"element-wise multiplication\"\n",
        "\n",
        "Then the above quantities can be expressed as follows:\n",
        "\n",
        "$$E[R(w)] = w^\\top \\mu$$\n",
        "\n",
        "$$ \\sigma[R(w)] = \\sqrt{w^\\top \\Sigma\\, w}$$\n",
        "\n",
        "The mean variance frontier is the set of portfolios that solves\n",
        "\n",
        "$$\\min_{w} \\sqrt{w^\\top \\Sigma w},~~~\\text{s.t.}~~ w^\\top \\mu = \\mu^*~~\\text{and}~~w^\\top\\mathbf{1} =1 $$\n",
        "where $\\mathbf{1}$ is a $N\\times 1$ vector of ones, that is $ \\mathbf{1} = (1,1,\\ldots,1)^\\top$.\n",
        "\n",
        "\n",
        "\n",
        "\n"
      ]
    },
    {
      "cell_type": "markdown",
      "id": "OlQ3vP0ifM3T",
      "metadata": {
        "id": "OlQ3vP0ifM3T"
      },
      "source": [
        "## Mean-Variance frontier with 3 risky assets and 1 riskless asset"
      ]
    },
    {
      "cell_type": "markdown",
      "id": "wawGKsrofvfe",
      "metadata": {
        "id": "wawGKsrofvfe"
      },
      "source": [
        "The two tables below contain the **input** data for an MVA. The data requirement includes:\n",
        "\n",
        "i. The asset classes to be employed: here we will use cash, C, bonds, B, stocks, S and private equity, E;\n",
        "\n",
        "ii. Expected returns on the asset classes;\n",
        "\n",
        "iii. The volatility (standard deviations) of the asset class returns\n",
        "\n",
        "iv. The correlations of the returns between the asset classes.\n",
        "\n",
        "The table shows that asset class expected returns increase with riskier asset classes. We'll show where these expected returns come from in the MRF model; here, we'll just take them as given.\n",
        "\n",
        "\n",
        "|   | Expected <br> Return  | Volatility |\n",
        "|---|---------|--------|\n",
        "| **C** (Cash) | 0.020    | 0.000      |\n",
        "| **B** (Bonds) | 0.054   | 0.075  |\n",
        "| **S** (Stocks) | 0.066   | 0.133  |\n",
        "| **E** (Private equity) | 0.098   | 0.164  |\n",
        "\n",
        "\n",
        "<br>\n",
        "\n",
        "Correlation matrix\n",
        "\n",
        "|   | C     | B     | S     | E     |\n",
        "|---|-------|-------|-------|-------|\n",
        "| **C** | 1.00  | 0.00  | 0.00  | 0.00  |\n",
        "| **B** |   | 1.00  | 0.08  | 0.06  |\n",
        "| **S** |   |   | 1.00  | 0.14  |\n",
        "| **E** |   |   |   | 1.00  |\n"
      ]
    },
    {
      "cell_type": "markdown",
      "id": "jwoA1qrACSPB",
      "metadata": {
        "id": "jwoA1qrACSPB"
      },
      "source": [
        "We now write Python code to produce the mean-variance frontier. Once we have the code we can apply to **any** dataset. We first test it on the  data above and then scale up the analysis to real data. Using the above input data, the python code shown below can trace out the \"efficient frontier\": portfolio mixes that, for different expected portfolio returns, minimize the portfolio volatility (here defined as the standard deviation of portfolio return)."
      ]
    },
    {
      "cell_type": "markdown",
      "id": "g-rsiCVkHY8-",
      "metadata": {
        "id": "g-rsiCVkHY8-"
      },
      "source": [
        "Let us first import packages that we need for our analysis"
      ]
    },
    {
      "cell_type": "code",
      "execution_count": 1,
      "id": "ne9dk6DcMgf1",
      "metadata": {
        "id": "ne9dk6DcMgf1"
      },
      "outputs": [],
      "source": [
        "# import packages\n",
        "\n",
        "import numpy as np   # needed to perform mathematical operations\n",
        "import matplotlib.pyplot as plt # needed to plot graphs\n",
        "from scipy.optimize import minimize # needed to solve optimization problems\n",
        "import pandas as pd  # to handle dataframes\n",
        "\n"
      ]
    },
    {
      "cell_type": "markdown",
      "id": "r3C1VzIQHd05",
      "metadata": {
        "id": "r3C1VzIQHd05"
      },
      "source": [
        "Here we manually input the expected returns, variances and correlations of Cash (C), Bonds (B), Stocks (S), and Private Equity (E)"
      ]
    },
    {
      "cell_type": "code",
      "execution_count": 2,
      "id": "zUspnbXyMsNq",
      "metadata": {
        "id": "zUspnbXyMsNq"
      },
      "outputs": [],
      "source": [
        "# Input Data\n",
        "\n",
        "# Expected returns\n",
        "mu_C = 0.02   # Cash\n",
        "mu_B = 0.054  # Bonds\n",
        "mu_S = 0.066  # Stocks (public equity)\n",
        "mu_E = 0.098  # Private equity\n",
        "\n",
        "# Volatilities\n",
        "sigma_C = 0.0\n",
        "sigma_B = 0.075\n",
        "sigma_S = 0.133\n",
        "sigma_E = 0.164\n",
        "\n",
        "# Correlations\n",
        "rho_CC = 1.0\n",
        "rho_CB = 0.0\n",
        "rho_CS = 0.0\n",
        "rho_CE = 0.0\n",
        "\n",
        "rho_BC = rho_CB\n",
        "rho_BB = 1.0\n",
        "rho_BS = 0.08\n",
        "rho_BE = 0.06\n",
        "\n",
        "rho_SC = rho_CS\n",
        "rho_SB = rho_BS\n",
        "rho_SS = 1.0\n",
        "rho_SE = 0.14\n",
        "\n",
        "rho_EC = rho_CE\n",
        "rho_EB = rho_BE\n",
        "rho_ES = rho_SE\n",
        "rho_EE = 1"
      ]
    },
    {
      "cell_type": "markdown",
      "id": "L6BAbSxVKaCA",
      "metadata": {
        "id": "L6BAbSxVKaCA"
      },
      "source": [
        "Next, the input code is to collect data of risky assets in the vector/matrix form:"
      ]
    },
    {
      "cell_type": "code",
      "execution_count": 3,
      "id": "Kou5CcqiMscw",
      "metadata": {
        "colab": {
          "base_uri": "https://localhost:8080/"
        },
        "id": "Kou5CcqiMscw",
        "outputId": "0ea17402-6de4-4329-a8ed-127abbfc553e"
      },
      "outputs": [
        {
          "name": "stdout",
          "output_type": "stream",
          "text": [
            "[0.075 0.133 0.164]\n",
            "[0.054 0.066 0.098]\n",
            "['B', 'S', 'E']\n"
          ]
        }
      ],
      "source": [
        "# Collect data of risky assets in vector/matrix form\n",
        "mu_vec = np.array([mu_B, mu_S, mu_E])\n",
        "sigmas = np.array([sigma_B, sigma_S, sigma_E])\n",
        "\n",
        "# Typical asset used in the\n",
        "asset_labels = ['B', 'S', 'E']\n",
        "\n",
        "#correlation matrix -- Risky assets only\n",
        "corr = np.array([\n",
        "    [rho_BB, rho_BS, rho_BE],\n",
        "    [rho_SB, rho_SS, rho_SE],\n",
        "    [rho_EB, rho_ES, rho_EE]\n",
        "])\n",
        "\n",
        "#correlation matrix -- Risky and riskless assets\n",
        "# corr = np.array([\n",
        "#     [rho_CC, rho_CB, rho_CS, rho_CE],\n",
        "#     [rho_BC, rho_BB, rho_BS, rho_BE],\n",
        "#     [rho_SC, rho_SB, rho_SS, rho_SE],\n",
        "#     [rho_EC, rho_EB, rho_ES, rho_EE]\n",
        "# ])\n",
        "\n",
        "cov_matrix = np.outer(sigmas, sigmas) * corr #covariance matrix\n",
        "risk_free_rate = mu_C  # Risk-free rate is the expected return of cash\n",
        "\n",
        "print(sigmas)\n",
        "print(mu_vec)\n",
        "\n",
        "print(asset_labels)"
      ]
    },
    {
      "cell_type": "markdown",
      "id": "Nmr5KXhVQtoh",
      "metadata": {
        "id": "Nmr5KXhVQtoh"
      },
      "source": [
        "Here we construct two functions that take a generic portfolio $w$ and compute\n",
        "1. the expected portfolio return (`portfolio_return`)\n",
        "2. the portfolio volatility (`portfolio_volatility`)"
      ]
    },
    {
      "cell_type": "code",
      "execution_count": 4,
      "id": "_Fbzrv1ZMsg7",
      "metadata": {
        "colab": {
          "base_uri": "https://localhost:8080/"
        },
        "id": "_Fbzrv1ZMsg7",
        "outputId": "04aee2e8-58c5-484e-ad7e-db8621fda921"
      },
      "outputs": [
        {
          "name": "stdout",
          "output_type": "stream",
          "text": [
            "0.07266666666666666\n",
            "0.08123310764569935\n"
          ]
        }
      ],
      "source": [
        "# Functions for portfolio return, volatility, and Sharpe Ratio\n",
        "def portfolio_return(w, mu):\n",
        "    # return np.dot(w, mu)\n",
        "    return w @ mu\n",
        "\n",
        "def portfolio_volatility(w, cov_matrix):\n",
        "    # return np.sqrt(np.dot(w.T, np.dot(cov_matrix, w)))\n",
        "    return np.sqrt( w @ cov_matrix @ w)\n",
        "\n",
        "\n",
        "# Let us test that the functions work using the equal weight 1/N\n",
        "w = np.ones(len(mu_vec)) * (1.0 / len(mu_vec))\n",
        "\n",
        "print(portfolio_return(w, mu_vec))\n",
        "print(portfolio_volatility(w, cov_matrix))"
      ]
    },
    {
      "cell_type": "markdown",
      "id": "scoVPORoRhFg",
      "metadata": {
        "id": "scoVPORoRhFg"
      },
      "source": [
        "The next function construct the mean-variance frontier by solving the problem:\n",
        "$$\\min_w \\sqrt{w^\\top \\Sigma w},~~s.t.~~w^\n",
        "\\top \\mu = \\mu^*,~~\\text{and}~~w^\\top\\mathbf{1}=1.$$\n",
        "\n",
        "By varying the target $\\mu^*$ we can trace the whole frontier"
      ]
    },
    {
      "cell_type": "code",
      "execution_count": 5,
      "id": "7d996139",
      "metadata": {},
      "outputs": [
        {
          "data": {
            "text/plain": [
              "array([0.25462962, 0.21238427, 0.53298611])"
            ]
          },
          "execution_count": 5,
          "metadata": {},
          "output_type": "execute_result"
        }
      ],
      "source": [
        "# This function computes the minimum volatility portfolio for a given target return\n",
        "def find_min_volatility_given_target_mean(mu, cov_matrix, return_target, constr_sw, guess):\n",
        "    \n",
        "    N = len(mu) #number of assets\n",
        "    #Here we define the cobnstraints for our optimization problem\n",
        "    constraints = ({'type': 'eq', 'fun': lambda x: portfolio_return(x, mu) - return_target}, #portfolio return= target\n",
        "                    {'type': 'eq', 'fun': lambda x: np.sum(x) - 1})                               # sum of weights =1\n",
        "\n",
        "    if constr_sw == 1:\n",
        "        bounds = [(0, 1)] * N #No short-selling in all assets\n",
        "\n",
        "        # You can customize the constraints here\n",
        "        #  bounds = [(-0.1, 0.5), (-0.1, 0.5), (0, 0.5)]\n",
        "    \n",
        "    # Solve the optimization problem\n",
        "    if constr_sw==1:\n",
        "        result = minimize(portfolio_volatility, guess, args=(cov_matrix), method='SLSQP', bounds = bounds, constraints=constraints)\n",
        "    else:\n",
        "        result = minimize(portfolio_volatility, guess, args=(cov_matrix), method='SLSQP', constraints=constraints)\n",
        "\n",
        "    \n",
        "    return result\n",
        "\n",
        "\n",
        "# Test the function\n",
        "guess = np.ones(len(mu_vec)) * (1.0 / len(mu_vec))\n",
        "constr_sw = 1\n",
        "mu_target = 0.08\n",
        "result = find_min_volatility_given_target_mean(mu_vec, cov_matrix, mu_target, constr_sw, guess)\n",
        "\n",
        "result.x"
      ]
    },
    {
      "cell_type": "code",
      "execution_count": 6,
      "id": "QIU0ZIKenCVS",
      "metadata": {
        "id": "QIU0ZIKenCVS"
      },
      "outputs": [],
      "source": [
        "# Function that generates the Efficient Frontier\n",
        "num_points = 100 # number of points (mu_targets) used to draw the frontier\n",
        "\n",
        "def construct_mv_frontier(mu_vec, cov_matrix, constr_sw=0):\n",
        "    mu_LB = min(mu_vec)/1.01 # Lower bound of expected return target\n",
        "    mu_UB = max(mu_vec)*1.01 # Upper biond of expected return target\n",
        "\n",
        "    frontier_returns = np.linspace(mu_LB, mu_UB, num_points)  #construct a grid of expexted returns\n",
        "    frontier_risks = np.full(num_points, np.nan) #Initialize the frontier to NaN (= Not a Number)\n",
        "    sharpe_ratios = np.full(num_points, np.nan) #sharpe ratio, which helps to find the tangent portfolio\n",
        "    tangent_portfolio_weights = None #Initial value of the tangent portfolio weights\n",
        "    all_weights = []  # Collect portfolio weights for each iteration\n",
        "\n",
        "\n",
        "    N = len(mu_vec)\n",
        "    init_guess = np.ones(N) * (1.0 / N) # this is the initial guess used by the optimization algorithm\n",
        "\n",
        "    # Define constraints and bounds (no short selling for the first asset)\n",
        "    for i in range(num_points):\n",
        "        return_target = frontier_returns[i]\n",
        "\n",
        "        #Here we define the cobnstraints for our optimization\n",
        "        result = find_min_volatility_given_target_mean(mu_vec, cov_matrix, return_target, constr_sw, init_guess)\n",
        "\n",
        "    # Collect portfolio weights, expected return, and volatility\n",
        "        weights_dict = {'Weights': result.x, 'Expected Return': return_target, 'Volatility': result.fun}\n",
        "        all_weights.append(weights_dict)\n",
        "\n",
        "     # updated Initial guess to the most recent solution\n",
        "        init_guess = result.x\n",
        "\n",
        "        if result.success:\n",
        "            frontier_risks[i] = result.fun\n",
        "            sharpe_ratios[i] = (return_target - risk_free_rate) / frontier_risks[i]\n",
        "\n",
        "     # Update the tangent portfolio weights if this is the max Sharpe ratio so far\n",
        "            if sharpe_ratios[i] == np.nanmax(sharpe_ratios):\n",
        "                tangent_portfolio_weights = result.x\n",
        "\n",
        "    max_sharpe_idx = np.nanargmax(sharpe_ratios)  #Find the index of the max Sharpe ratio portfolio\n",
        "    tangent_return = frontier_returns[max_sharpe_idx] #Find the expected rerturn of the max Sharpe ratio portfolio\n",
        "    tangent_risk = frontier_risks[max_sharpe_idx] #Find the volatility of the max Sharpe ratio portfolio\n",
        "\n",
        "    # Convert the list of dictionaries to a DataFrame\n",
        "    df_weights = pd.DataFrame(all_weights)\n",
        "\n",
        "    return frontier_risks, frontier_returns, tangent_return, tangent_risk, tangent_portfolio_weights, df_weights"
      ]
    },
    {
      "cell_type": "markdown",
      "id": "EpoGgXoUjPxu",
      "metadata": {
        "id": "EpoGgXoUjPxu"
      },
      "source": [
        "### Unconstrained frontier"
      ]
    },
    {
      "cell_type": "code",
      "execution_count": 8,
      "id": "9uUIUpqEjXap",
      "metadata": {
        "colab": {
          "base_uri": "https://localhost:8080/",
          "height": 565
        },
        "id": "9uUIUpqEjXap",
        "outputId": "096e0da9-38b3-476a-b92f-adb3f5d4ec3d"
      },
      "outputs": [
        {
          "name": "stdout",
          "output_type": "stream",
          "text": [
            "Expected return of tangent portfolio (unconstrained):  0.0677174097409741\n",
            "Volatility of tangent portfolio (unconstrained): 0.06955087945054839\n",
            "Tangent Sharpe Ratio (unconstrained):  0.6860791713626254\n",
            "Weights of the tangent portfolio (unconstrained):  [0.5500628  0.18999459 0.25994261]\n",
            "\n"
          ]
        },
        {
          "data": {
            "image/png": "[encoded data removed]",
            "text/plain": [
              "<Figure size 640x480 with 1 Axes>"
            ]
          },
          "metadata": {},
          "output_type": "display_data"
        }
      ],
      "source": [
        "#Unconstrained frontier\n",
        "# Generate mean-variance and find Tangent Portfolio\n",
        "\n",
        "\n",
        "#This command allows to \"freeze\" the current plot so that any new plot will be superimposed\n",
        "%matplotlib inline\n",
        "\n",
        "frontier_risks_unconstr, frontier_returns_unconstr,\\\n",
        " tangent_return_unconstr, tangent_risk_unconstr, tangent_weights_unconstr, df_weights_unconstr =\\\n",
        "      construct_mv_frontier(mu_vec, cov_matrix, constr_sw=0)\n",
        "\n",
        "\n",
        "sharpe_ratio_unconstr = (tangent_return_unconstr - risk_free_rate)/tangent_risk_unconstr\n",
        "\n",
        "# Define the sigma range range for the capital allocation line\n",
        "sigma_range = np.linspace(0, np.nanmax(frontier_risks_unconstr))\n",
        "cal_constr = risk_free_rate + sharpe_ratio_unconstr * sigma_range\n",
        "\n",
        "# Plot the frontier\n",
        "fig, ax = plt.subplots()\n",
        "ax.plot(frontier_risks_unconstr, frontier_returns_unconstr, 'b--', linewidth=2, label='Unconstrained Frontier')\n",
        "\n",
        "# Mark the position of the assets\n",
        "ax.scatter(sigmas, mu_vec, color='black', alpha=0.5, s=40, marker='.')  # Asset points\n",
        "ax.scatter(0, risk_free_rate, color='black', alpha=0.5, s=40, marker='.') # risk-free rate\n",
        "\n",
        "# Add labels for each asset\n",
        "for i, txt in enumerate(asset_labels):\n",
        "    ax.text(sigmas[i] + 0.001, mu_vec[i] + 0.001, txt, ha='right', va='bottom')  # Adjust label positioning if necessary\n",
        "\n",
        "ax.text(0, risk_free_rate, 'C', ha='right', va='bottom')\n",
        "\n",
        "\n",
        "# Plotting the cal line\n",
        "ax.plot(sigma_range, cal_constr, 'b:', linewidth=1, label='CAL')\n",
        "\n",
        "\n",
        "# Mark the tangent portfolios\n",
        "ax.scatter(tangent_risk_unconstr, tangent_return_unconstr, color='blue', marker='*', s=50, label='Tangent Portfolio (Unconstrained)')\n",
        "\n",
        "\n",
        "# Add axis labels and title\n",
        "ax.set_xlabel(r'Volatility, $\\sigma$')\n",
        "ax.set_ylabel(r'Expected return, $\\mu$')\n",
        "ax.set_title('Efficient Frontier')\n",
        "\n",
        "# Show legend\n",
        "ax.legend()\n",
        "\n",
        "\n",
        "# The tangent portfolio information\n",
        "print(\"Expected return of tangent portfolio (unconstrained): \", tangent_return_unconstr)\n",
        "print(\"Volatility of tangent portfolio (unconstrained):\", tangent_risk_unconstr)\n",
        "print(\"Tangent Sharpe Ratio (unconstrained): \", sharpe_ratio_unconstr)\n",
        "print(\"Weights of the tangent portfolio (unconstrained): \", tangent_weights_unconstr)\n",
        "print(\"\")"
      ]
    },
    {
      "cell_type": "markdown",
      "id": "npJqj57ejhUF",
      "metadata": {
        "id": "npJqj57ejhUF"
      },
      "source": [
        "### Constrained frontier"
      ]
    },
    {
      "cell_type": "markdown",
      "id": "0ae90e42",
      "metadata": {
        "id": "0ae90e42"
      },
      "source": [
        "Many pension plans are not allowed to borrow or taking short position. In what follows we construct the portfolio frontier under the constraint that no weight can be negative (short positions).\n",
        "\n",
        "All we need to do now to generate the constrained frontier is to call the function `construct_mv_frontier` with the argument `constr_sw=1`. This tells the function to apply the constraint in the optimization"
      ]
    },
    {
      "cell_type": "code",
      "execution_count": 9,
      "id": "_Go-QF-1Jbm5",
      "metadata": {
        "colab": {
          "base_uri": "https://localhost:8080/",
          "height": 547
        },
        "id": "_Go-QF-1Jbm5",
        "outputId": "0dc2abd1-945c-49c4-d67e-340c280733ea"
      },
      "outputs": [
        {
          "data": {
            "image/png": "[encoded data removed]",
            "text/plain": [
              "<Figure size 640x480 with 1 Axes>"
            ]
          },
          "metadata": {},
          "output_type": "display_data"
        },
        {
          "name": "stdout",
          "output_type": "stream",
          "text": [
            "CONSTRAINED FRONTIER\n",
            "Expected return of tangent portfolio (constrained):  0.0677174097409741\n",
            "Volatility of tangent portfolio (constrained): 0.06955087945281144\n",
            "Tangent Sharpe Ratio (constrained):  0.6860791713403017\n",
            "Weights of the tangent portfolio (constrained):  [0.5500628  0.18999459 0.25994261]\n",
            "\n",
            "UNCONSTRAINED FRONTIER\n",
            "Expected return of tangent portfolio (unconstrained):  0.0677174097409741\n",
            "Volatility of tangent portfolio (unconstrained): 0.06955087945054839\n",
            "Tangent Sharpe Ratio (unconstrained):  0.6860791713626254\n",
            "Weights of the tangent portfolio (unconstrained):  [0.5500628  0.18999459 0.25994261]\n",
            "\n"
          ]
        }
      ],
      "source": [
        "#Constrained frontier\n",
        "# Generate Efficient Frontier and find Tangent Portfolio\n",
        "\n",
        "# This command allows to \"freeze\" the previous plot so that any new plot will be superimposed\n",
        "\n",
        "%matplotlib inline\n",
        "frontier_risks_constr, frontier_returns_constr, \\\n",
        "tangent_return_constr, tangent_risk_constr, tangent_weights_constr, df_weights_constr = construct_mv_frontier(mu_vec, cov_matrix, constr_sw=1)\n",
        "\n",
        "sharpe_ratio_constr = (tangent_return_constr - risk_free_rate)/tangent_risk_constr\n",
        "\n",
        "# Define the sigma range range for the capital allocation line\n",
        "sigma_range = np.linspace(0, np.nanmax(frontier_risks_constr))\n",
        "cal_constr = risk_free_rate + sharpe_ratio_constr * sigma_range\n",
        "\n",
        "# Plot the frontier\n",
        "ax.plot(frontier_risks_constr, frontier_returns_constr, 'r--', linewidth=2, label='Constrained Frontier')\n",
        "\n",
        "# Mark the position of the assets\n",
        "ax.scatter(sigmas, mu_vec, color='black', alpha=0.5, s=40, marker='.')  # Asset points\n",
        "ax.scatter(0, risk_free_rate, color='black', alpha=0.5, s=40, marker='.') # risk-free rate\n",
        "\n",
        "# Add labels for each asset\n",
        "for i, txt in enumerate(asset_labels):\n",
        "    ax.text(sigmas[i] + 0.001, mu_vec[i] + 0.001, txt, ha='right', va='bottom')  # Adjust label positioning if necessary\n",
        "\n",
        "ax.text(0, risk_free_rate, 'C', ha='right', va='bottom')\n",
        "\n",
        "\n",
        "# Plotting the cal line\n",
        "ax.plot(sigma_range, cal_constr, 'r:', linewidth=1, label='CAL')\n",
        "\n",
        "\n",
        "# Mark the tangent portfolios\n",
        "ax.scatter(tangent_risk_constr, tangent_return_constr, color='red', marker='*', s=50, label='Tangent Portfolio (Constrained)')\n",
        "\n",
        "\n",
        "# Add axis labels and title\n",
        "# plt.xlabel(r'Volatility, $\\sigma$')\n",
        "# plt.ylabel(r'Expected return, $\\mu$')\n",
        "# plt.title('Efficient Frontier')\n",
        "\n",
        "# Show legend\n",
        "ax.legend()\n",
        "\n",
        "# Show the plot\n",
        "# plt.show()\n",
        "\n",
        "display(fig)\n",
        "\n",
        "\n",
        "\n",
        "# The tangent portfolio information\n",
        "print(\"CONSTRAINED FRONTIER\")\n",
        "print(\"Expected return of tangent portfolio (constrained): \", tangent_return_constr)\n",
        "print(\"Volatility of tangent portfolio (constrained):\", tangent_risk_constr)\n",
        "print(\"Tangent Sharpe Ratio (constrained): \", sharpe_ratio_constr)\n",
        "print(\"Weights of the tangent portfolio (constrained): \", tangent_weights_constr)\n",
        "\n",
        "print(\"\")\n",
        "print(\"UNCONSTRAINED FRONTIER\")\n",
        "print(\"Expected return of tangent portfolio (unconstrained): \", tangent_return_unconstr)\n",
        "print(\"Volatility of tangent portfolio (unconstrained):\", tangent_risk_unconstr)\n",
        "print(\"Tangent Sharpe Ratio (unconstrained): \", sharpe_ratio_unconstr)\n",
        "print(\"Weights of the tangent portfolio (unconstrained): \", tangent_weights_unconstr)\n",
        "print(\"\")\n",
        "\n"
      ]
    },
    {
      "cell_type": "markdown",
      "id": "cwLobL4rcNCG",
      "metadata": {
        "id": "cwLobL4rcNCG"
      },
      "source": [
        "Note that, except for very low or very high expected returns the constrained and unconstrained frontier are very close. You can experiment by making the constraints more severe and see what happens."
      ]
    },
    {
      "cell_type": "markdown",
      "id": "5BqqPIuM4rzP",
      "metadata": {
        "id": "5BqqPIuM4rzP"
      },
      "source": [
        "### Case Analysis"
      ]
    },
    {
      "cell_type": "markdown",
      "id": "JCGGZox0LJfB",
      "metadata": {
        "id": "JCGGZox0LJfB"
      },
      "source": [
        "In this section we look at some portfolios on the unconstrained and constrained frontier and discuss some of their properties\n",
        "\n",
        "Suppose we want to know the portfolio of risky assets that generates an expected return of 8%. We can easily find it by searching on the frontier.\n",
        "\n",
        "The expected return and volatility values on the unconstrained frontier are collected in the variable  `frontier_return_unconstr` and `frontier_risks_unconstr`, respectively\n",
        "\n",
        "Similarly, the expected return and volatility values on the constrained frontier are collected in the variable  `frontier_return_constr` and `frontier_risks_constr`, respectively\n",
        "\n",
        "The code below finds the portfolio with the return as close as possible to 8% on the frontiers we constructed above."
      ]
    },
    {
      "cell_type": "code",
      "execution_count": 17,
      "id": "rAb4z2cVLPtC",
      "metadata": {
        "colab": {
          "base_uri": "https://localhost:8080/"
        },
        "id": "rAb4z2cVLPtC",
        "outputId": "2171ee3e-3a09-4a8f-e690-586805a0fd09"
      },
      "outputs": [
        {
          "name": "stdout",
          "output_type": "stream",
          "text": [
            "[0.2531 0.2104 0.5365]\n",
            "[0.2531 0.2104 0.5365]\n"
          ]
        }
      ],
      "source": [
        "target_return = 0.08\n",
        "\n",
        "# Find the row with the 'Expected Return' closest to the target\n",
        "closest_row_unconstr = df_weights_unconstr.loc[\n",
        "    np.abs(df_weights_unconstr['Expected Return'] - target_return).idxmin()\n",
        "]\n",
        "\n",
        "closest_row_constr = df_weights_constr.loc[\n",
        "    np.abs(df_weights_constr['Expected Return'] - target_return).idxmin()\n",
        "]\n",
        "\n",
        "\n",
        "weight_riskyOnly_unconstr = closest_row_unconstr.Weights\n",
        "weight_riskyOnly_constr = closest_row_constr.Weights\n",
        "\n",
        "# Display the portfolios\n",
        "print(weight_riskyOnly_unconstr.round(4))\n",
        "print(weight_riskyOnly_constr.round(4))"
      ]
    },
    {
      "cell_type": "markdown",
      "id": "7c624abe",
      "metadata": {},
      "source": [
        "The following code computes the exact portfolio that delivers 8% with a minimum volatility. We do so by invoking the function `find_min_volatility_given_target_mean` that we created above"
      ]
    },
    {
      "cell_type": "code",
      "execution_count": 18,
      "id": "8982ad00",
      "metadata": {},
      "outputs": [
        {
          "name": "stdout",
          "output_type": "stream",
          "text": [
            "Risky-only, unconstrained portfolio that delivers 8% return [0.25462962 0.21238427 0.53298611]\n",
            "Risky-only, constrained portfolio that delivers 8% return   [0.25462962 0.21238427 0.53298611]\n"
          ]
        }
      ],
      "source": [
        "constr_sw = 0\n",
        "guess = np.ones(len(mu_vec)) * (1.0 / len(mu_vec))\n",
        "\n",
        "result_unconstr = find_min_volatility_given_target_mean(mu_vec, cov_matrix, target_return, constr_sw, guess)\n",
        "\n",
        "constr_sw = 1\n",
        "guess = np.ones(len(mu_vec)) * (1.0 / len(mu_vec))\n",
        "\n",
        "result_constr = find_min_volatility_given_target_mean(mu_vec, cov_matrix, target_return, constr_sw, guess)\n",
        "\n",
        "print(\"Risky-only, unconstrained portfolio that delivers 8% return\", result_unconstr.x)\n",
        "print(\"Risky-only, constrained portfolio that delivers 8% return  \", result_constr.x)"
      ]
    },
    {
      "cell_type": "markdown",
      "id": "9Fc9K6aegSqA",
      "metadata": {
        "id": "9Fc9K6aegSqA"
      },
      "source": [
        "Note that the two set of weights are basically the same. The short-selling constraint does not bind.\n",
        "\n",
        "\n"
      ]
    },
    {
      "cell_type": "markdown",
      "id": "98ac5de6",
      "metadata": {
        "id": "98ac5de6"
      },
      "source": [
        "Here below we find the **global minimum variance portfolio**, that is, the portfolio with the lowest variance among all risky portfolios."
      ]
    },
    {
      "cell_type": "code",
      "execution_count": 20,
      "id": "8ee56624",
      "metadata": {
        "colab": {
          "base_uri": "https://localhost:8080/"
        },
        "id": "8ee56624",
        "outputId": "94a15053-db2c-4ce8-c5c7-a3326ffbfaaf"
      },
      "outputs": [
        {
          "name": "stdout",
          "output_type": "stream",
          "text": [
            "Volatility and Expected return of MVP (unconstrained):  0.06128099409940994 0.06459933460037634\n",
            "Volatility and Expected return of MVP (constrained):  0.06128099409940994 0.06459933459772833\n"
          ]
        }
      ],
      "source": [
        "#write code to find the mimimum variance portfolio  (unconstrained)\n",
        "\n",
        "def find_MVP(frontier_risk, frontier_returns):\n",
        "    min_vol_index = np.nanargmin(frontier_risk)\n",
        "    mu_MVP = frontier_returns[min_vol_index]\n",
        "    sigma_MVP = frontier_risk[min_vol_index]\n",
        "    return mu_MVP, sigma_MVP\n",
        "\n",
        "mu_MVP_unconstr, sigma_MVP_unconstr = find_MVP(frontier_risks_unconstr,frontier_returns_unconstr)\n",
        "mu_MVP_constr, sigma_MVP_constr = find_MVP(frontier_risks_constr,frontier_returns_constr)\n",
        "\n",
        "print(\"Volatility and Expected return of MVP (unconstrained): \", mu_MVP_unconstr, sigma_MVP_unconstr)\n",
        "print(\"Volatility and Expected return of MVP (constrained): \", mu_MVP_constr, sigma_MVP_constr)"
      ]
    },
    {
      "cell_type": "markdown",
      "id": "38d71117",
      "metadata": {
        "id": "38d71117"
      },
      "source": [
        "#### Allowing cash in the portfolio (CAL)\n",
        "\n",
        "If we are allowed to short cash, C, which means we can borrow money to invest in other assets, we can find any portfolios that lie along the \"tangent line\": a line connecting cash, C, to the \"tangent portfolio,\" T, in the MVA graph.\n",
        "\n",
        "Given a target return we can find the portfolio on the CAL associated with it by solving\n",
        "$$\\mu^{target} = (1-x) r_f + x \\mu^{tangent} \\implies x = \\frac{\\mu^{target} - r_f}{\\mu^{tangent} - r_f} $$\n",
        "\n",
        "where $x$ represent the fraction of wealth invested in the tangency portfolio, $T$. Because $T$ consists of $N$ risky assets,\n",
        "$$ w^T = (w_1, w_2, \\ldots, w_N),$$\n",
        "we have that investing a fraction $x$ of wealth in the tangency portfolio corresponds to investing $xw_1$ in the risky asset 1, $xw_2$ in the risky asset 2, $\\ldots$, and $xw_N$  in the risky asset $N$.\n",
        "\n",
        "The following code determine the investment in each asset that achieves a particulat target expected return.\n"
      ]
    },
    {
      "cell_type": "code",
      "execution_count": 21,
      "id": "519f21a8",
      "metadata": {
        "colab": {
          "base_uri": "https://localhost:8080/"
        },
        "id": "519f21a8",
        "outputId": "41f53d19-738d-4ebc-eac6-b5d1613aea2e"
      },
      "outputs": [
        {
          "name": "stdout",
          "output_type": "stream",
          "text": [
            "Portfolio of cash + risky asset only that delivers 8%: [-0.2574027   0.69165046  0.23889971  0.32685254]\n",
            "portfolio volatility: 0.08745346383798368\n"
          ]
        }
      ],
      "source": [
        "def find_weights_cal(target_return):\n",
        "    # This function finds the weights on the Capital Allocation Line (CAL) for a given target return\n",
        "    x = (target_return - risk_free_rate)/(tangent_return_unconstr-risk_free_rate)\n",
        "    w_risky = x * tangent_weights_constr\n",
        "    w = np.append(1-x, w_risky)  #total portfolio, including the risk-free asset\n",
        "\n",
        "    return w\n",
        "\n",
        "target_rturn = 0.08\n",
        "weights_with_rf = find_weights_cal(target_rturn)\n",
        "\n",
        "print(\"Portfolio of cash + risky asset only that delivers 8%:\" ,weights_with_rf)\n",
        "\n",
        "\n",
        "print(\"portfolio volatility:\", portfolio_volatility(weights_with_rf[1:], cov_matrix))\n"
      ]
    },
    {
      "cell_type": "markdown",
      "id": "0967830f",
      "metadata": {
        "id": "0967830f"
      },
      "source": [
        "Notice that the above portfolio contains leverage, that is a negative position in cash. This portfolio achieves the same expected return as a portfolio on the mean-variance frontier of risky assets (see analysis above) but with a much lower volatility. This happens because the portfolio contains a risk-free position.\n",
        "\n",
        "For reference, here below we report the portfolio of risky assets only (B, S, E, zero position in cash, C) that achieves a similar expected return. This is the portfolio we already compouted and stored in the variable `weight_riskyOnly_constr`\n",
        "\n",
        "\n"
      ]
    },
    {
      "cell_type": "code",
      "execution_count": 22,
      "id": "HAGhp4JCqaQ3",
      "metadata": {
        "colab": {
          "base_uri": "https://localhost:8080/"
        },
        "id": "HAGhp4JCqaQ3",
        "outputId": "3b7ff5b5-add0-494a-b89f-be4dfb1b1a41"
      },
      "outputs": [
        {
          "name": "stdout",
          "output_type": "stream",
          "text": [
            "Portfolio of cash + risky asset only that delivers 8%:        [-0.2574027   0.69165046  0.23889971  0.32685254]\n",
            "Unconstrained portfolio of risky asset only that delivers 8%: [0.         0.25308274 0.2104332  0.53648406]\n",
            "Constrained portfolio of risky asset only that delivers 8%:   [0.         0.25308274 0.2104332  0.53648406]\n"
          ]
        }
      ],
      "source": [
        "print(\"Portfolio of cash + risky asset only that delivers 8%:       \", weights_with_rf)\n",
        "print(\"Unconstrained portfolio of risky asset only that delivers 8%:\", np.append(0,weight_riskyOnly_unconstr))\n",
        "print(\"Constrained portfolio of risky asset only that delivers 8%:  \", np.append(0,weight_riskyOnly_constr))\n"
      ]
    },
    {
      "cell_type": "markdown",
      "id": "RbfonttWqlMa",
      "metadata": {
        "id": "RbfonttWqlMa"
      },
      "source": [
        "In general, the risky-only portfolios (constrained and unconstrained) load more on risky assets (S and E, the last two entries in the vectors above) than the total portfolio (cash+risky-assets) in order to achieve the same expected return. That is, we have less \"macro\" risk exposure (i.e., exposure to the public/private equity markets) with the total portfolio. Risk Parity portfolio (see below) is a way to deal with this issue."
      ]
    },
    {
      "cell_type": "markdown",
      "id": "7rA7LjJboTte",
      "metadata": {
        "id": "7rA7LjJboTte"
      },
      "source": [
        "## Construction of the Mean-Variance frontier with simulations (no optimization)"
      ]
    },
    {
      "cell_type": "markdown",
      "id": "LqG6v9RcVV5w",
      "metadata": {
        "id": "LqG6v9RcVV5w"
      },
      "source": [
        "Here we provide another method to find the efficient frontier. This is an example of a **simulation-based method**. Specifically, we start with the same original assets but instead of solving a constrained mimimization problem as before, we adopt a **brute force** approach in which we randomly draw many porttfolio weights $w$. For each portfolio we compute the mean return $E[R(w)]$ and volatility $\\sigma[R(w)]$ an report them on the mean-variance plane. The left-most edge of the scatter plot we obtain  **is** the mean-variance frontier."
      ]
    },
    {
      "cell_type": "markdown",
      "id": "iQUz-XhEsazM",
      "metadata": {
        "id": "iQUz-XhEsazM"
      },
      "source": [
        "Set random seed for reproducibility:"
      ]
    },
    {
      "cell_type": "code",
      "execution_count": 23,
      "id": "VCvOBDPRsbKF",
      "metadata": {
        "id": "VCvOBDPRsbKF"
      },
      "outputs": [],
      "source": [
        "np.random.seed(42)"
      ]
    },
    {
      "cell_type": "markdown",
      "id": "ckiyI1kJzXDG",
      "metadata": {
        "id": "ckiyI1kJzXDG"
      },
      "source": [
        "In the code below, we randomly draw many portfolio weights and record the associated expected return, volatilty, and Sharpe ratio in the dataframe `portfolio_results`. "
      ]
    },
    {
      "cell_type": "code",
      "execution_count": 24,
      "id": "eJ2JHdlFVI2d",
      "metadata": {
        "id": "eJ2JHdlFVI2d"
      },
      "outputs": [],
      "source": [
        "# Number of portfolios to simulate\n",
        "num_portfolios = 10000\n",
        "\n",
        "# Set up array to hold results\n",
        "results = np.zeros((3, num_portfolios))\n",
        "\n",
        "# Monte Carlo simulation\n",
        "for i in range(num_portfolios):\n",
        "    # Generate random weights for portfolio holdings\n",
        "    weights = np.random.random(len(mu_vec))\n",
        "    weights = weights / np.sum(weights)\n",
        "\n",
        "    # Calculate return and volatility for random portfolio\n",
        "    p_return = portfolio_return(weights, mu_vec)\n",
        "    p_volatility = portfolio_volatility(weights, cov_matrix)\n",
        "\n",
        "    # Store return and volatility in results array\n",
        "    results[0,i] = p_return\n",
        "    results[1,i] = p_volatility\n",
        "\n",
        "    # Store sharpe ratio in results array\n",
        "    results[2,i] = (p_return - risk_free_rate) / p_volatility\n",
        "\n",
        "# Convert results array to DataFrame\n",
        "portfolio_results = pd.DataFrame(results.T, columns=['Return', 'Volatility', 'Sharpe'])\n",
        "\n",
        "# Find portfolio with maximum Sharpe Ratio\n",
        "max_sharpe_port = portfolio_results.iloc[portfolio_results['Sharpe'].idxmax()]"
      ]
    },
    {
      "cell_type": "markdown",
      "id": "984c61b2",
      "metadata": {},
      "source": [
        "Let's take a peek at the dataframe `portfolio_results`"
      ]
    },
    {
      "cell_type": "code",
      "execution_count": 25,
      "id": "PFgSfHwf0aG7",
      "metadata": {
        "colab": {
          "base_uri": "https://localhost:8080/",
          "height": 424
        },
        "id": "PFgSfHwf0aG7",
        "outputId": "df380430-b879-4eea-9477-3572741a33db"
      },
      "outputs": [
        {
          "data": {
            "text/html": [
              "<div>\n",
              "<style scoped>\n",
              "    .dataframe tbody tr th:only-of-type {\n",
              "        vertical-align: middle;\n",
              "    }\n",
              "\n",
              "    .dataframe tbody tr th {\n",
              "        vertical-align: top;\n",
              "    }\n",
              "\n",
              "    .dataframe thead th {\n",
              "        text-align: right;\n",
              "    }\n",
              "</style>\n",
              "<table border=\"1\" class=\"dataframe\">\n",
              "  <thead>\n",
              "    <tr style=\"text-align: right;\">\n",
              "      <th></th>\n",
              "      <th>Return</th>\n",
              "      <th>Volatility</th>\n",
              "      <th>Sharpe</th>\n",
              "    </tr>\n",
              "  </thead>\n",
              "  <tbody>\n",
              "    <tr>\n",
              "      <th>0</th>\n",
              "      <td>0.075201</td>\n",
              "      <td>0.092754</td>\n",
              "      <td>0.595133</td>\n",
              "    </tr>\n",
              "    <tr>\n",
              "      <th>1</th>\n",
              "      <td>0.063593</td>\n",
              "      <td>0.065303</td>\n",
              "      <td>0.667553</td>\n",
              "    </tr>\n",
              "    <tr>\n",
              "      <th>2</th>\n",
              "      <td>0.078154</td>\n",
              "      <td>0.106358</td>\n",
              "      <td>0.546769</td>\n",
              "    </tr>\n",
              "    <tr>\n",
              "      <th>3</th>\n",
              "      <td>0.079270</td>\n",
              "      <td>0.100754</td>\n",
              "      <td>0.588263</td>\n",
              "    </tr>\n",
              "    <tr>\n",
              "      <th>4</th>\n",
              "      <td>0.062600</td>\n",
              "      <td>0.064842</td>\n",
              "      <td>0.656973</td>\n",
              "    </tr>\n",
              "  </tbody>\n",
              "</table>\n",
              "</div>"
            ],
            "text/plain": [
              "     Return  Volatility    Sharpe\n",
              "0  0.075201    0.092754  0.595133\n",
              "1  0.063593    0.065303  0.667553\n",
              "2  0.078154    0.106358  0.546769\n",
              "3  0.079270    0.100754  0.588263\n",
              "4  0.062600    0.064842  0.656973"
            ]
          },
          "execution_count": 25,
          "metadata": {},
          "output_type": "execute_result"
        }
      ],
      "source": [
        "portfolio_results.head()"
      ]
    },
    {
      "cell_type": "markdown",
      "id": "xHA8f6AltTXN",
      "metadata": {
        "id": "xHA8f6AltTXN"
      },
      "source": [
        "We can now just generate a scatter plots of the expected returns and volatility of the simulated portfolios "
      ]
    },
    {
      "cell_type": "code",
      "execution_count": 26,
      "id": "z7MN9IYy1Nph",
      "metadata": {
        "colab": {
          "base_uri": "https://localhost:8080/",
          "height": 476
        },
        "id": "z7MN9IYy1Nph",
        "outputId": "e5bab37d-1b41-4e45-f7bd-dfe5da95321a"
      },
      "outputs": [
        {
          "data": {
            "image/png": "[encoded data removed]",
            "text/plain": [
              "<Figure size 640x480 with 2 Axes>"
            ]
          },
          "metadata": {},
          "output_type": "display_data"
        }
      ],
      "source": [
        "# Plot the simulation results\n",
        "\n",
        "fig, ax = plt.subplots()\n",
        "\n",
        "# Scatter plot with color mapped to Sharpe ratio\n",
        "scatter = ax.scatter(portfolio_results['Volatility'], portfolio_results['Return'], c=portfolio_results['Sharpe'], cmap='coolwarm', s=0.5)\n",
        "\n",
        "# Add colorbar\n",
        "cbar = plt.colorbar(scatter, ax=ax, label='Sharpe Ratio')\n",
        "\n",
        "# Mark the point with max sharpe ratio\n",
        "ax.scatter(max_sharpe_port.iloc[1], max_sharpe_port.iloc[0], s=50, color='red', marker='*', label='Maximum Sharpe Ratio')\n",
        "\n",
        "# Capital Allocation Line\n",
        "# Define the sigma range range for the capital allocation line\n",
        "sigma_range = np.linspace(0, np.nanmax(portfolio_results['Volatility']))\n",
        "cal = risk_free_rate + max_sharpe_port['Sharpe'] * sigma_range\n",
        "\n",
        "# Plot the capital allocation line\n",
        "ax.plot(sigma_range, cal, 'k:', linewidth=1, label='CAL')\n",
        "\n",
        "# Set labels and title\n",
        "ax.set_xlabel(r'Volatility, $\\sigma$')\n",
        "ax.set_ylabel(r'Expected return, $\\mu$')\n",
        "ax.set_title('Efficient Frontier')\n",
        "\n",
        "# Add legend with adjusted label spacing\n",
        "ax.legend(labelspacing=0.8)\n",
        "\n",
        "# Show the plot\n",
        "plt.show()\n",
        "\n",
        "\n"
      ]
    },
    {
      "cell_type": "markdown",
      "id": "Y5fQXwb4FdLB",
      "metadata": {
        "id": "Y5fQXwb4FdLB"
      },
      "source": [
        "## Mean Variance frontier with real data"
      ]
    },
    {
      "cell_type": "markdown",
      "id": "NeUylCiOUhvG",
      "metadata": {
        "id": "NeUylCiOUhvG"
      },
      "source": [
        "Now we repeat the above analysis with real data. We download data of a subset of publicly-traded US stocks.\n",
        "\n",
        "First, let us import some packages that we need for our analysis"
      ]
    },
    {
      "cell_type": "code",
      "execution_count": 27,
      "id": "xJbTG4JZU0Pz",
      "metadata": {
        "id": "xJbTG4JZU0Pz"
      },
      "outputs": [],
      "source": [
        "# import packages\n",
        "import numpy as np\n",
        "import pandas as pd\n",
        "import matplotlib.pyplot as plt\n",
        "from scipy.optimize import minimize\n",
        "import yfinance as yf #to download data from Yahoo Finance\n",
        "\n"
      ]
    },
    {
      "cell_type": "markdown",
      "id": "8wCCDT_AKGEb",
      "metadata": {
        "id": "8wCCDT_AKGEb"
      },
      "source": [
        "Here we can choose between\n",
        "1. A small subset of a few stocks manually picked (set the variable small_set =1)\n",
        "2. The entire set of 30 stocks that compose the DJIA index (set the variable small_set =0)\n",
        "\n",
        "The next code block creates an array that contains the ticker symbols chosen\n",
        "\n"
      ]
    },
    {
      "cell_type": "code",
      "execution_count": 28,
      "id": "_Wh5eX66UnKp",
      "metadata": {
        "colab": {
          "base_uri": "https://localhost:8080/"
        },
        "id": "_Wh5eX66UnKp",
        "outputId": "4d1cb610-4944-48be-82f3-4b88484b8f6c"
      },
      "outputs": [
        {
          "name": "stdout",
          "output_type": "stream",
          "text": [
            "['AAPL', 'MSFT', 'GOOGL', 'TSLA', 'AMZN', 'META', 'NVDA']\n"
          ]
        }
      ],
      "source": [
        "import ssl\n",
        "ssl._create_default_https_context = ssl._create_unverified_context\n",
        "\n",
        "small_set = 1\n",
        "\n",
        "if small_set == 1:\n",
        "  symbols = [\"AAPL\", \"MSFT\", \"GOOGL\", \"TSLA\", \"AMZN\", \"META\", \"NVDA\"] # Choose a small set of stocks (the \"Magnificent 7\"!)\n",
        "\n",
        "else: # Download all the symbols for firms in the DJIA index\n",
        "\n",
        "  url = (\"https://www.ssga.com/us/en/institutional/etfs/library-content/products/fund-data/etfs/us/holdings-daily-us-en-dia.xlsx\")\n",
        "\n",
        "  symbols = (pd.read_excel(url, skiprows=4, nrows=30)\n",
        "    .get(\"Ticker\")\n",
        "    .tolist()\n",
        "    )\n",
        "\n",
        "len(symbols)\n",
        "print(symbols)"
      ]
    },
    {
      "cell_type": "markdown",
      "id": "9Xnih-aGKr4u",
      "metadata": {
        "id": "9Xnih-aGKr4u"
      },
      "source": [
        "In the next block of code we download price information for the chosen stocks\n",
        "you can select the start and end date"
      ]
    },
    {
      "cell_type": "code",
      "execution_count": 29,
      "id": "s3txyg7IUuzv",
      "metadata": {
        "colab": {
          "base_uri": "https://localhost:8080/"
        },
        "id": "s3txyg7IUuzv",
        "outputId": "1be359fa-78f4-4ee5-83be-6d5ac508c1c5"
      },
      "outputs": [
        {
          "name": "stdout",
          "output_type": "stream",
          "text": [
            "[*********************100%%**********************]  7 of 7 completed\n"
          ]
        }
      ],
      "source": [
        "index_prices = (yf.download(tickers=symbols,\n",
        "                            start=\"2000-01-01\",\n",
        "                            end=\"2024-01-17\",\n",
        "                            progress=True)\n",
        "  .melt(ignore_index=False, var_name=[\"variable\", \"symbol\"])\n",
        "  .reset_index()\n",
        "  .pivot(index=[\"Date\", \"symbol\"], columns=\"variable\", values=\"value\")\n",
        "  .reset_index()\n",
        "  .rename(columns = {\"Date\": \"date\",\n",
        "                     \"Open\": \"open\",\n",
        "                     \"High\": \"high\",\n",
        "                     \"Low\": \"low\",\n",
        "                     \"Close\": \"close\",\n",
        "                     \"Adj Close\": \"adjusted\",\n",
        "                     \"Volume\": \"volume\"\n",
        "                    })\n",
        ")"
      ]
    },
    {
      "cell_type": "markdown",
      "id": "Mnz81GnSLGuf",
      "metadata": {
        "id": "Mnz81GnSLGuf"
      },
      "source": [
        "Let us take a peek at how the data we downloaded looks like by looking at the first few lines"
      ]
    },
    {
      "cell_type": "code",
      "execution_count": 30,
      "id": "FOCYkkUnWm01",
      "metadata": {
        "colab": {
          "base_uri": "https://localhost:8080/",
          "height": 206
        },
        "id": "FOCYkkUnWm01",
        "outputId": "ee267648-bcc3-4447-e446-579f643ef4ff"
      },
      "outputs": [
        {
          "data": {
            "text/html": [
              "<div>\n",
              "<style scoped>\n",
              "    .dataframe tbody tr th:only-of-type {\n",
              "        vertical-align: middle;\n",
              "    }\n",
              "\n",
              "    .dataframe tbody tr th {\n",
              "        vertical-align: top;\n",
              "    }\n",
              "\n",
              "    .dataframe thead th {\n",
              "        text-align: right;\n",
              "    }\n",
              "</style>\n",
              "<table border=\"1\" class=\"dataframe\">\n",
              "  <thead>\n",
              "    <tr style=\"text-align: right;\">\n",
              "      <th>variable</th>\n",
              "      <th>date</th>\n",
              "      <th>symbol</th>\n",
              "      <th>adjusted</th>\n",
              "      <th>close</th>\n",
              "      <th>high</th>\n",
              "      <th>low</th>\n",
              "      <th>open</th>\n",
              "      <th>volume</th>\n",
              "    </tr>\n",
              "  </thead>\n",
              "  <tbody>\n",
              "    <tr>\n",
              "      <th>42324</th>\n",
              "      <td>2024-01-16</td>\n",
              "      <td>GOOGL</td>\n",
              "      <td>142.490005</td>\n",
              "      <td>142.490005</td>\n",
              "      <td>144.350006</td>\n",
              "      <td>141.449997</td>\n",
              "      <td>142.000000</td>\n",
              "      <td>22670500.0</td>\n",
              "    </tr>\n",
              "    <tr>\n",
              "      <th>42325</th>\n",
              "      <td>2024-01-16</td>\n",
              "      <td>META</td>\n",
              "      <td>367.459991</td>\n",
              "      <td>367.459991</td>\n",
              "      <td>375.609985</td>\n",
              "      <td>367.230011</td>\n",
              "      <td>373.649994</td>\n",
              "      <td>15306900.0</td>\n",
              "    </tr>\n",
              "    <tr>\n",
              "      <th>42326</th>\n",
              "      <td>2024-01-16</td>\n",
              "      <td>MSFT</td>\n",
              "      <td>390.269989</td>\n",
              "      <td>390.269989</td>\n",
              "      <td>394.029999</td>\n",
              "      <td>387.619995</td>\n",
              "      <td>393.660004</td>\n",
              "      <td>27202300.0</td>\n",
              "    </tr>\n",
              "    <tr>\n",
              "      <th>42327</th>\n",
              "      <td>2024-01-16</td>\n",
              "      <td>NVDA</td>\n",
              "      <td>563.820007</td>\n",
              "      <td>563.820007</td>\n",
              "      <td>568.349976</td>\n",
              "      <td>549.000000</td>\n",
              "      <td>550.179993</td>\n",
              "      <td>44958000.0</td>\n",
              "    </tr>\n",
              "    <tr>\n",
              "      <th>42328</th>\n",
              "      <td>2024-01-16</td>\n",
              "      <td>TSLA</td>\n",
              "      <td>219.910004</td>\n",
              "      <td>219.910004</td>\n",
              "      <td>223.490005</td>\n",
              "      <td>212.179993</td>\n",
              "      <td>215.100006</td>\n",
              "      <td>115355000.0</td>\n",
              "    </tr>\n",
              "  </tbody>\n",
              "</table>\n",
              "</div>"
            ],
            "text/plain": [
              "variable       date symbol    adjusted       close        high         low  \\\n",
              "42324    2024-01-16  GOOGL  142.490005  142.490005  144.350006  141.449997   \n",
              "42325    2024-01-16   META  367.459991  367.459991  375.609985  367.230011   \n",
              "42326    2024-01-16   MSFT  390.269989  390.269989  394.029999  387.619995   \n",
              "42327    2024-01-16   NVDA  563.820007  563.820007  568.349976  549.000000   \n",
              "42328    2024-01-16   TSLA  219.910004  219.910004  223.490005  212.179993   \n",
              "\n",
              "variable        open       volume  \n",
              "42324     142.000000   22670500.0  \n",
              "42325     373.649994   15306900.0  \n",
              "42326     393.660004   27202300.0  \n",
              "42327     550.179993   44958000.0  \n",
              "42328     215.100006  115355000.0  "
            ]
          },
          "execution_count": 30,
          "metadata": {},
          "output_type": "execute_result"
        }
      ],
      "source": [
        "index_prices.tail()"
      ]
    },
    {
      "cell_type": "markdown",
      "id": "iyTIQSf2LYH0",
      "metadata": {
        "id": "iyTIQSf2LYH0"
      },
      "source": [
        "As you see from the table above, the data are arranged by date/firms. We would like to rearrange the data so that each column contains the time series of adjusted prices for each firm. This is like doing a pivot table in Excel. We will use the command \".pivot\" in the line of code below. Take a look at how the data looks like after we rearrange them"
      ]
    },
    {
      "cell_type": "code",
      "execution_count": 31,
      "id": "d6ipAsKxMRD7",
      "metadata": {
        "colab": {
          "base_uri": "https://localhost:8080/",
          "height": 374
        },
        "id": "d6ipAsKxMRD7",
        "outputId": "fdf28ef9-4e72-41d2-86e9-8be123fb093f"
      },
      "outputs": [
        {
          "data": {
            "text/html": [
              "<div>\n",
              "<style scoped>\n",
              "    .dataframe tbody tr th:only-of-type {\n",
              "        vertical-align: middle;\n",
              "    }\n",
              "\n",
              "    .dataframe tbody tr th {\n",
              "        vertical-align: top;\n",
              "    }\n",
              "\n",
              "    .dataframe thead th {\n",
              "        text-align: right;\n",
              "    }\n",
              "</style>\n",
              "<table border=\"1\" class=\"dataframe\">\n",
              "  <thead>\n",
              "    <tr style=\"text-align: right;\">\n",
              "      <th>symbol</th>\n",
              "      <th>AAPL</th>\n",
              "      <th>AMZN</th>\n",
              "      <th>GOOGL</th>\n",
              "      <th>META</th>\n",
              "      <th>MSFT</th>\n",
              "      <th>NVDA</th>\n",
              "      <th>TSLA</th>\n",
              "    </tr>\n",
              "    <tr>\n",
              "      <th>date</th>\n",
              "      <th></th>\n",
              "      <th></th>\n",
              "      <th></th>\n",
              "      <th></th>\n",
              "      <th></th>\n",
              "      <th></th>\n",
              "      <th></th>\n",
              "    </tr>\n",
              "  </thead>\n",
              "  <tbody>\n",
              "    <tr>\n",
              "      <th>2000-01-03</th>\n",
              "      <td>0.847207</td>\n",
              "      <td>4.468750</td>\n",
              "      <td>NaN</td>\n",
              "      <td>NaN</td>\n",
              "      <td>36.132252</td>\n",
              "      <td>0.894650</td>\n",
              "      <td>NaN</td>\n",
              "    </tr>\n",
              "    <tr>\n",
              "      <th>2000-01-04</th>\n",
              "      <td>0.775779</td>\n",
              "      <td>4.096875</td>\n",
              "      <td>NaN</td>\n",
              "      <td>NaN</td>\n",
              "      <td>34.911705</td>\n",
              "      <td>0.870761</td>\n",
              "      <td>NaN</td>\n",
              "    </tr>\n",
              "    <tr>\n",
              "      <th>2000-01-05</th>\n",
              "      <td>0.787131</td>\n",
              "      <td>3.487500</td>\n",
              "      <td>NaN</td>\n",
              "      <td>NaN</td>\n",
              "      <td>35.279819</td>\n",
              "      <td>0.842094</td>\n",
              "      <td>NaN</td>\n",
              "    </tr>\n",
              "    <tr>\n",
              "      <th>2000-01-06</th>\n",
              "      <td>0.719014</td>\n",
              "      <td>3.278125</td>\n",
              "      <td>NaN</td>\n",
              "      <td>NaN</td>\n",
              "      <td>34.098007</td>\n",
              "      <td>0.787149</td>\n",
              "      <td>NaN</td>\n",
              "    </tr>\n",
              "    <tr>\n",
              "      <th>2000-01-07</th>\n",
              "      <td>0.753073</td>\n",
              "      <td>3.478125</td>\n",
              "      <td>NaN</td>\n",
              "      <td>NaN</td>\n",
              "      <td>34.543606</td>\n",
              "      <td>0.800288</td>\n",
              "      <td>NaN</td>\n",
              "    </tr>\n",
              "  </tbody>\n",
              "</table>\n",
              "</div>"
            ],
            "text/plain": [
              "symbol          AAPL      AMZN  GOOGL  META       MSFT      NVDA  TSLA\n",
              "date                                                                  \n",
              "2000-01-03  0.847207  4.468750    NaN   NaN  36.132252  0.894650   NaN\n",
              "2000-01-04  0.775779  4.096875    NaN   NaN  34.911705  0.870761   NaN\n",
              "2000-01-05  0.787131  3.487500    NaN   NaN  35.279819  0.842094   NaN\n",
              "2000-01-06  0.719014  3.278125    NaN   NaN  34.098007  0.787149   NaN\n",
              "2000-01-07  0.753073  3.478125    NaN   NaN  34.543606  0.800288   NaN"
            ]
          },
          "execution_count": 31,
          "metadata": {},
          "output_type": "execute_result"
        }
      ],
      "source": [
        "adjusted_prices = index_prices.pivot(index='date', columns='symbol', values='adjusted')\n",
        "\n",
        "adjusted_prices.head()"
      ]
    },
    {
      "cell_type": "markdown",
      "id": "XF2yXCifM1ob",
      "metadata": {
        "id": "XF2yXCifM1ob"
      },
      "source": [
        "We now plot the data we downloaded"
      ]
    },
    {
      "cell_type": "code",
      "execution_count": 32,
      "id": "jIyzFETKVhHK",
      "metadata": {
        "colab": {
          "base_uri": "https://localhost:8080/",
          "height": 719
        },
        "id": "jIyzFETKVhHK",
        "outputId": "18d09e2a-ca3b-4055-ba30-46d110e381f4"
      },
      "outputs": [
        {
          "data": {
            "image/png": "[encoded data removed]",
            "text/plain": [
              "<Figure size 1000x600 with 1 Axes>"
            ]
          },
          "metadata": {},
          "output_type": "display_data"
        }
      ],
      "source": [
        "# Plotting adjusted prices\n",
        "plt.figure(figsize=(10, 6))\n",
        "\n",
        "adjusted_prices.plot(ax=plt.gca(), legend=True)  # Plot directly from DataFrame and remove legend\n",
        "\n",
        "\n",
        "plt.title('Adjusted Prices Over Time')\n",
        "plt.xlabel('Date')\n",
        "plt.ylabel('Adjusted Price')\n",
        "plt.grid(True)\n",
        "plt.tight_layout()\n",
        "\n",
        "\n",
        "# Display the plot\n",
        "plt.show()"
      ]
    },
    {
      "cell_type": "markdown",
      "id": "CJVrGluAM7h1",
      "metadata": {
        "id": "CJVrGluAM7h1"
      },
      "source": [
        "From the prices we now compute returns. We compute daily net returns defined as $r_t = p_t/p_{t-1} -1$, where $p_t$ is the adjusted price on day $t$.\n",
        "The function pct_change() is helpful because it computes this percentage change.\n",
        "\n",
        "Before computing the returns, we use groupby(\"symbol\") such that the assign() command is performed for each symbol individually."
      ]
    },
    {
      "cell_type": "code",
      "execution_count": 33,
      "id": "dC4dL7G47gFG",
      "metadata": {
        "colab": {
          "base_uri": "https://localhost:8080/",
          "height": 778
        },
        "id": "dC4dL7G47gFG",
        "outputId": "776c9f33-3e92-4ff4-e45a-62de03d91556"
      },
      "outputs": [
        {
          "name": "stdout",
          "output_type": "stream",
          "text": [
            "         count   mean    std    min    25%    50%    75%    max\n",
            "symbol                                                         \n",
            "AAPL    6046.0  0.001  0.025 -0.519 -0.010  0.001  0.013  0.139\n",
            "AMZN    6046.0  0.001  0.032 -0.248 -0.012  0.000  0.014  0.345\n",
            "GOOGL   4884.0  0.001  0.019 -0.116 -0.008  0.001  0.010  0.200\n",
            "META    2932.0  0.001  0.025 -0.264 -0.010  0.001  0.013  0.296\n",
            "MSFT    6046.0  0.001  0.019 -0.156 -0.008  0.000  0.009  0.196\n",
            "NVDA    6046.0  0.002  0.038 -0.352 -0.016  0.001  0.018  0.424\n",
            "TSLA    3409.0  0.002  0.036 -0.211 -0.016  0.001  0.019  0.244\n"
          ]
        },
        {
          "name": "stderr",
          "output_type": "stream",
          "text": [
            "/var/folders/tn/2d55tgm53078fm976n24n72w0000gp/T/ipykernel_82006/818195454.py:3: FutureWarning: The default fill_method='ffill' in SeriesGroupBy.pct_change is deprecated and will be removed in a future version. Call ffill before calling pct_change to retain current behavior and silence this warning.\n",
            "  ret=lambda x: x.groupby(\"symbol\")[\"adjusted\"].pct_change()\n"
          ]
        },
        {
          "data": {
            "text/html": [
              "<div>\n",
              "<style scoped>\n",
              "    .dataframe tbody tr th:only-of-type {\n",
              "        vertical-align: middle;\n",
              "    }\n",
              "\n",
              "    .dataframe tbody tr th {\n",
              "        vertical-align: top;\n",
              "    }\n",
              "\n",
              "    .dataframe thead th {\n",
              "        text-align: right;\n",
              "    }\n",
              "</style>\n",
              "<table border=\"1\" class=\"dataframe\">\n",
              "  <thead>\n",
              "    <tr style=\"text-align: right;\">\n",
              "      <th>variable</th>\n",
              "      <th>date</th>\n",
              "      <th>symbol</th>\n",
              "      <th>adjusted</th>\n",
              "      <th>close</th>\n",
              "      <th>high</th>\n",
              "      <th>low</th>\n",
              "      <th>open</th>\n",
              "      <th>volume</th>\n",
              "      <th>ret</th>\n",
              "    </tr>\n",
              "  </thead>\n",
              "  <tbody>\n",
              "    <tr>\n",
              "      <th>42324</th>\n",
              "      <td>2024-01-16</td>\n",
              "      <td>GOOGL</td>\n",
              "      <td>142.490005</td>\n",
              "      <td>142.490005</td>\n",
              "      <td>144.350006</td>\n",
              "      <td>141.449997</td>\n",
              "      <td>142.000000</td>\n",
              "      <td>22670500.0</td>\n",
              "      <td>-0.001122</td>\n",
              "    </tr>\n",
              "    <tr>\n",
              "      <th>42325</th>\n",
              "      <td>2024-01-16</td>\n",
              "      <td>META</td>\n",
              "      <td>367.459991</td>\n",
              "      <td>367.459991</td>\n",
              "      <td>375.609985</td>\n",
              "      <td>367.230011</td>\n",
              "      <td>373.649994</td>\n",
              "      <td>15306900.0</td>\n",
              "      <td>-0.018772</td>\n",
              "    </tr>\n",
              "    <tr>\n",
              "      <th>42326</th>\n",
              "      <td>2024-01-16</td>\n",
              "      <td>MSFT</td>\n",
              "      <td>390.269989</td>\n",
              "      <td>390.269989</td>\n",
              "      <td>394.029999</td>\n",
              "      <td>387.619995</td>\n",
              "      <td>393.660004</td>\n",
              "      <td>27202300.0</td>\n",
              "      <td>0.004634</td>\n",
              "    </tr>\n",
              "    <tr>\n",
              "      <th>42327</th>\n",
              "      <td>2024-01-16</td>\n",
              "      <td>NVDA</td>\n",
              "      <td>563.820007</td>\n",
              "      <td>563.820007</td>\n",
              "      <td>568.349976</td>\n",
              "      <td>549.000000</td>\n",
              "      <td>550.179993</td>\n",
              "      <td>44958000.0</td>\n",
              "      <td>0.030561</td>\n",
              "    </tr>\n",
              "    <tr>\n",
              "      <th>42328</th>\n",
              "      <td>2024-01-16</td>\n",
              "      <td>TSLA</td>\n",
              "      <td>219.910004</td>\n",
              "      <td>219.910004</td>\n",
              "      <td>223.490005</td>\n",
              "      <td>212.179993</td>\n",
              "      <td>215.100006</td>\n",
              "      <td>115355000.0</td>\n",
              "      <td>0.004660</td>\n",
              "    </tr>\n",
              "  </tbody>\n",
              "</table>\n",
              "</div>"
            ],
            "text/plain": [
              "variable       date symbol    adjusted       close        high         low  \\\n",
              "42324    2024-01-16  GOOGL  142.490005  142.490005  144.350006  141.449997   \n",
              "42325    2024-01-16   META  367.459991  367.459991  375.609985  367.230011   \n",
              "42326    2024-01-16   MSFT  390.269989  390.269989  394.029999  387.619995   \n",
              "42327    2024-01-16   NVDA  563.820007  563.820007  568.349976  549.000000   \n",
              "42328    2024-01-16   TSLA  219.910004  219.910004  223.490005  212.179993   \n",
              "\n",
              "variable        open       volume       ret  \n",
              "42324     142.000000   22670500.0 -0.001122  \n",
              "42325     373.649994   15306900.0 -0.018772  \n",
              "42326     393.660004   27202300.0  0.004634  \n",
              "42327     550.179993   44958000.0  0.030561  \n",
              "42328     215.100006  115355000.0  0.004660  "
            ]
          },
          "execution_count": 33,
          "metadata": {},
          "output_type": "execute_result"
        }
      ],
      "source": [
        "# Step 1: Compute daily returns for each stock in the dataset\n",
        "returns_with_index_prices = index_prices.assign(\n",
        "    ret=lambda x: x.groupby(\"symbol\")[\"adjusted\"].pct_change()\n",
        ")\n",
        "\n",
        "# Step 2: Select required columns and drop rows with missing returns\n",
        "filtered_returns = returns_with_index_prices[[\"symbol\", \"date\", \"ret\"]].dropna(subset=[\"ret\"])\n",
        "\n",
        "# Step 3: Calculate summary statistics for daily returns by stock symbol\n",
        "summary_statistics = (\n",
        "    filtered_returns.groupby(\"symbol\")[\"ret\"]\n",
        "    .describe()\n",
        "    .round(3)\n",
        ")\n",
        "\n",
        "\n",
        "print(summary_statistics)\n",
        "\n",
        "returns_with_index_prices.tail()\n"
      ]
    },
    {
      "cell_type": "markdown",
      "id": "ofuxN9o_Qux2",
      "metadata": {
        "id": "ofuxN9o_Qux2"
      },
      "source": [
        "Here we create a table in which each column contains monthly returns. We use this data to compute the mean and covariance matrix."
      ]
    },
    {
      "cell_type": "code",
      "execution_count": 34,
      "id": "XVQgg624BuUk",
      "metadata": {
        "colab": {
          "base_uri": "https://localhost:8080/",
          "height": 374
        },
        "id": "XVQgg624BuUk",
        "outputId": "9061c8e7-eb42-4803-f983-cb089201e1cc"
      },
      "outputs": [
        {
          "data": {
            "text/html": [
              "<div>\n",
              "<style scoped>\n",
              "    .dataframe tbody tr th:only-of-type {\n",
              "        vertical-align: middle;\n",
              "    }\n",
              "\n",
              "    .dataframe tbody tr th {\n",
              "        vertical-align: top;\n",
              "    }\n",
              "\n",
              "    .dataframe thead th {\n",
              "        text-align: right;\n",
              "    }\n",
              "</style>\n",
              "<table border=\"1\" class=\"dataframe\">\n",
              "  <thead>\n",
              "    <tr style=\"text-align: right;\">\n",
              "      <th>symbol</th>\n",
              "      <th>AAPL</th>\n",
              "      <th>AMZN</th>\n",
              "      <th>GOOGL</th>\n",
              "      <th>META</th>\n",
              "      <th>MSFT</th>\n",
              "      <th>NVDA</th>\n",
              "      <th>TSLA</th>\n",
              "    </tr>\n",
              "    <tr>\n",
              "      <th>date</th>\n",
              "      <th></th>\n",
              "      <th></th>\n",
              "      <th></th>\n",
              "      <th></th>\n",
              "      <th></th>\n",
              "      <th></th>\n",
              "      <th></th>\n",
              "    </tr>\n",
              "  </thead>\n",
              "  <tbody>\n",
              "    <tr>\n",
              "      <th>2012-06-30</th>\n",
              "      <td>0.010853</td>\n",
              "      <td>0.072519</td>\n",
              "      <td>-0.001360</td>\n",
              "      <td>0.050676</td>\n",
              "      <td>0.047961</td>\n",
              "      <td>0.111826</td>\n",
              "      <td>0.060678</td>\n",
              "    </tr>\n",
              "    <tr>\n",
              "      <th>2012-07-31</th>\n",
              "      <td>0.045821</td>\n",
              "      <td>0.021677</td>\n",
              "      <td>0.091196</td>\n",
              "      <td>-0.301929</td>\n",
              "      <td>-0.036613</td>\n",
              "      <td>-0.020260</td>\n",
              "      <td>-0.123682</td>\n",
              "    </tr>\n",
              "    <tr>\n",
              "      <th>2012-08-31</th>\n",
              "      <td>0.093877</td>\n",
              "      <td>0.064166</td>\n",
              "      <td>0.082342</td>\n",
              "      <td>-0.168125</td>\n",
              "      <td>0.052738</td>\n",
              "      <td>0.036189</td>\n",
              "      <td>0.040117</td>\n",
              "    </tr>\n",
              "    <tr>\n",
              "      <th>2012-09-30</th>\n",
              "      <td>0.002796</td>\n",
              "      <td>0.024369</td>\n",
              "      <td>0.101315</td>\n",
              "      <td>0.199336</td>\n",
              "      <td>-0.034393</td>\n",
              "      <td>-0.049180</td>\n",
              "      <td>0.026648</td>\n",
              "    </tr>\n",
              "    <tr>\n",
              "      <th>2012-10-31</th>\n",
              "      <td>-0.107600</td>\n",
              "      <td>-0.084264</td>\n",
              "      <td>-0.098343</td>\n",
              "      <td>-0.025392</td>\n",
              "      <td>-0.040995</td>\n",
              "      <td>-0.101949</td>\n",
              "      <td>-0.039276</td>\n",
              "    </tr>\n",
              "  </tbody>\n",
              "</table>\n",
              "</div>"
            ],
            "text/plain": [
              "symbol          AAPL      AMZN     GOOGL      META      MSFT      NVDA  \\\n",
              "date                                                                     \n",
              "2012-06-30  0.010853  0.072519 -0.001360  0.050676  0.047961  0.111826   \n",
              "2012-07-31  0.045821  0.021677  0.091196 -0.301929 -0.036613 -0.020260   \n",
              "2012-08-31  0.093877  0.064166  0.082342 -0.168125  0.052738  0.036189   \n",
              "2012-09-30  0.002796  0.024369  0.101315  0.199336 -0.034393 -0.049180   \n",
              "2012-10-31 -0.107600 -0.084264 -0.098343 -0.025392 -0.040995 -0.101949   \n",
              "\n",
              "symbol          TSLA  \n",
              "date                  \n",
              "2012-06-30  0.060678  \n",
              "2012-07-31 -0.123682  \n",
              "2012-08-31  0.040117  \n",
              "2012-09-30  0.026648  \n",
              "2012-10-31 -0.039276  "
            ]
          },
          "execution_count": 34,
          "metadata": {},
          "output_type": "execute_result"
        }
      ],
      "source": [
        "# Step 1: Pivot the prices DataFrame to create a matrix of adjusted prices with dates as rows and symbols as columns\n",
        "prices_matrix = index_prices.pivot(\n",
        "    columns=\"symbol\",\n",
        "    values=\"adjusted\",\n",
        "    index=\"date\"\n",
        ")\n",
        "\n",
        "# Step 2: Resample the pivoted matrix to monthly frequency and select the last value of each month\n",
        "monthly_prices = prices_matrix.resample(\"M\").last()\n",
        "\n",
        "# Step 3: Calculate the percentage change of the monthly prices matrix\n",
        "returns_matrix = monthly_prices.pct_change()\n",
        "\n",
        "# Step 4: Drop rows with missing values (NaNs) resulting from percentage change calculation\n",
        "returns_matrix = returns_matrix.dropna()\n",
        "\n",
        "\n",
        "returns_matrix.head()"
      ]
    },
    {
      "cell_type": "markdown",
      "id": "fm3te60ORkOj",
      "metadata": {
        "id": "fm3te60ORkOj"
      },
      "source": [
        "We now compute the mean monthly return and the covariance matrix"
      ]
    },
    {
      "cell_type": "code",
      "execution_count": 35,
      "id": "oFOb5tgsRjNh",
      "metadata": {
        "id": "oFOb5tgsRjNh"
      },
      "outputs": [],
      "source": [
        "# Compute the mean, covariance matrix, and a vector of volatilities\n",
        "\n",
        "mu_vec = np.array(returns_matrix.mean()).T\n",
        "cov_matrix = np.array(returns_matrix.cov())\n",
        "sigma_vec = np.sqrt(np.diag(cov_matrix))\n",
        "\n",
        "# print(mu_vec)\n",
        "# print(cov_matrix)\n",
        "# print(sigma_vec)\n",
        "\n",
        "\n"
      ]
    },
    {
      "cell_type": "markdown",
      "id": "WAo4VvzDus86",
      "metadata": {
        "id": "WAo4VvzDus86"
      },
      "source": [
        "Here we reproduce the functions that compute portfolio mean return, volatility and the portfolio frontier"
      ]
    },
    {
      "cell_type": "code",
      "execution_count": 36,
      "id": "2mQChZu0upTC",
      "metadata": {
        "colab": {
          "base_uri": "https://localhost:8080/"
        },
        "id": "2mQChZu0upTC",
        "outputId": "89f449a1-0d20-49bb-87e7-923cd32b7430"
      },
      "outputs": [
        {
          "name": "stdout",
          "output_type": "stream",
          "text": [
            "0.029014712115802897\n",
            "0.07184050048637554\n"
          ]
        }
      ],
      "source": [
        "# Let us test that the functions work using the equal weight 1/N\n",
        "w = np.ones(len(mu_vec)) * (1.0 / len(mu_vec))\n",
        "\n",
        "print(portfolio_return(w, mu_vec))\n",
        "print(portfolio_volatility(w, cov_matrix))"
      ]
    },
    {
      "cell_type": "markdown",
      "id": "PqXbNzhdR26n",
      "metadata": {
        "id": "PqXbNzhdR26n"
      },
      "source": [
        "Let us check the mean and volatility of a generic portfolio w"
      ]
    },
    {
      "cell_type": "markdown",
      "id": "0uB9o7EcSm2R",
      "metadata": {
        "id": "0uB9o7EcSm2R"
      },
      "source": [
        "We can now call our function that construct the mean variance frontier. We construct both an unconstrained and constrained frontier"
      ]
    },
    {
      "cell_type": "code",
      "execution_count": 37,
      "id": "PnMzvzaYCjew",
      "metadata": {
        "id": "PnMzvzaYCjew"
      },
      "outputs": [],
      "source": [
        "frontier_sigma_unconstr, frontier_mu_unconstr, _, _, _, _ = construct_mv_frontier(mu_vec, cov_matrix, constr_sw = 0)\n",
        "frontier_sigma_constr, frontier_mu_constr, _, _, _, _ = construct_mv_frontier(mu_vec, cov_matrix, constr_sw = 1)"
      ]
    },
    {
      "cell_type": "markdown",
      "id": "XA9EltGCSyD9",
      "metadata": {
        "id": "XA9EltGCSyD9"
      },
      "source": [
        "Here we plot the frontier and the different stocks we used to construct it"
      ]
    },
    {
      "cell_type": "code",
      "execution_count": 38,
      "id": "Sh-_jKoNDT0m",
      "metadata": {
        "colab": {
          "base_uri": "https://localhost:8080/",
          "height": 476
        },
        "id": "Sh-_jKoNDT0m",
        "outputId": "db8bcb16-5041-435d-e42c-d85dc70ead00"
      },
      "outputs": [
        {
          "data": {
            "image/png": "[encoded data removed]",
            "text/plain": [
              "<Figure size 640x480 with 1 Axes>"
            ]
          },
          "metadata": {},
          "output_type": "display_data"
        }
      ],
      "source": [
        "plt.plot(frontier_sigma_unconstr, frontier_mu_unconstr, 'b--', linewidth=2, label='Unconstrained')\n",
        "plt.plot(frontier_sigma_constr, frontier_mu_constr, 'r--', linewidth=2, label='Constrained')\n",
        "\n",
        "\n",
        "plt.scatter(sigma_vec, mu_vec, color='black', alpha=0.5, s=40,marker='.')  # Adjust 's' for smaller/larger points\n",
        "\n",
        "# Add labels for each point\n",
        "for i, txt in enumerate(symbols):\n",
        "    plt.text(sigma_vec[i], mu_vec[i], txt, ha='right', va='bottom')\n",
        "\n",
        "plt.legend()\n",
        "\n",
        "# Add axis labels and title if needed\n",
        "plt.xlabel(r'Volatility, $\\sigma$')\n",
        "plt.ylabel(r'Expected return, $\\mu$')\n",
        "plt.title('Mean-Variance Frontier')\n",
        "\n",
        "# Show the plot\n",
        "plt.show()"
      ]
    },
    {
      "cell_type": "markdown",
      "id": "fc90de69",
      "metadata": {
        "id": "fc90de69"
      },
      "source": [
        "# **2. Risk Parity (RP) Portfolio Construction**"
      ]
    },
    {
      "cell_type": "markdown",
      "id": "d046f24d",
      "metadata": {
        "id": "d046f24d"
      },
      "source": [
        "\n",
        "The **Risk Parity (RP)** approach to portfolio construction seeks to diversify the **sources of risk**. The key idea is that different asset classes might be capturing different sources of \"factor risks\" such as **economic risk** or **inflation risk**.\n",
        "\n",
        "\"Economic risk\" refers to changes in economic output, often measured as GDP. [This link contains US GDP data from the St.Louis Fed](https://fred.stlouisfed.org/series/GDP)\n",
        "We often measure economic risk factor shocks by percentage changes in GDP over time.\n",
        "\n",
        "As should seem sensible, equities like S and E, are more sensitive to economic shocks than bonds, B.\n",
        "\n",
        "Inflation is another major risk factor. This is often measured as the percentage change in the CPI (consumer price index) over time. [Follow this link for updated CPI data in the US](https://fred.stlouisfed.org/series/FPCPITOTLZGUSA)\n",
        "\n",
        "Since bonds pay fixed nominal payments they react much more negatively to inflation than equities do; in fact, equities may go up with inflation because earnings and dividends on stocks may go up with inflation.\n",
        "\n",
        "In a typical portfolio on the MV frontier, different assets contribute to the total portfolio risk differently.\n",
        "In a RP portfolio the goal is to control the amount of risk each asset contributes to the overall portfolio. By doing so we indirectly limit our exposure to broader factor such as GDP growth and Inflation.  \n",
        "\n",
        "Recall the properties of the portfolios with 8% target expected return we computed in the MVA above"
      ]
    },
    {
      "cell_type": "code",
      "execution_count": 39,
      "id": "8b9098dc",
      "metadata": {},
      "outputs": [
        {
          "name": "stdout",
          "output_type": "stream",
          "text": [
            "Portfolio of cash + risky asset only that delivers 8%:        [-0.2574027   0.69165046  0.23889971  0.32685254]\n",
            "Unconstrained portfolio of risky asset only that delivers 8%: [0.         0.25308274 0.2104332  0.53648406]\n",
            "Constrained portfolio of risky asset only that delivers 8%:   [0.         0.25308274 0.2104332  0.53648406]\n"
          ]
        }
      ],
      "source": [
        "print(\"Portfolio of cash + risky asset only that delivers 8%:       \", weights_with_rf)\n",
        "print(\"Unconstrained portfolio of risky asset only that delivers 8%:\", np.append(0,weight_riskyOnly_unconstr))\n",
        "print(\"Constrained portfolio of risky asset only that delivers 8%:  \", np.append(0,weight_riskyOnly_constr))\n"
      ]
    },
    {
      "cell_type": "markdown",
      "id": "f4bcece0",
      "metadata": {},
      "source": [
        "The above portfolio contain **a lot** of macro risk, as the positions in S and E (the last two entries).\n",
        "\n",
        "To control such exposures, we may want each asset to contribute **equally** to the total portfolio risk, hence the name \"risk parity\". Note that, mathematically, a RP portfolio in general **is not** on the mean-variance frontier, because its total risk is not minimum for a given level of expected return. The risk is distributed more \"evenly\" in the portfolio, but this does not guarantee that the portfolio has the minimum volatility, given the level of expected return.  \n",
        "\n",
        "**Implementation.** Let us consider the MVA model with the three risky asset classes discussed above (B, S, and E). Each asset class had different expected returns.\n",
        "\n",
        "To implement a RP portfolio we first alter each risky asset class so that the altered asset class has the desired expected return - in our example, that is 8%. These levered or delevered asset classes are what [BridgeWater](https://www.bridgewater.com/) calls \"risk-adjusted asset classes\" (they are really return- AND risk-adjusted).\n",
        "\n",
        "Suppose we have an asset class $i$ with an expected return $\\mu_i$ and volatility $\\sigma_i$. Suppose we have a target expected return $\\mu^*$ for our overall portfolio. Then by combining asset class $i$ with cash (expected return $\\mu_C=r_f$ and $\\sigma_C=0$), we can always find the portfolio weight in cash $X_i$ such that\n",
        "\n",
        "$$ \\mu^{*} = (1-X_i)\\times \\mu_C + X_i\\times  \\mu_i\\implies X_i = \\frac{\\mu^*-r_f}{\\mu_i-r_f}$$\n",
        "\n",
        "Note that if $\\mu^*>\\mu_i$ then $X_i>1$ and therefore $(1-X_i)< 0$, implyng that to achieve a target $\\mu^*$ we need to **borrow**, or **lever up** asset $i$.\n",
        "\n",
        "Following this logic in our example above, we will use cash to lever up or down the assets B, S, E to obtain the  risk-return-adjusted (levered or unlevered) asset classes, B', S' and E'. Each of these new asset classes (a mix of C and that asset) has an expected return of $\\mu^*$.\n",
        "\n",
        "\n",
        "The following function computes the weight $X_i$ needed to achieve a given target return $\\mu^*$.\n"
      ]
    },
    {
      "cell_type": "code",
      "execution_count": 40,
      "id": "dv5b0LeBuIuz",
      "metadata": {
        "id": "dv5b0LeBuIuz"
      },
      "outputs": [],
      "source": [
        "def find_leverage(asset_expected_return, target_expected_return, risk_free_rate):\n",
        "  # Find the weight X_i sugh that the adjusted asset has an expected return equal to the target\n",
        "  X_i = (target_expected_return - risk_free_rate) / (asset_expected_return - risk_free_rate)\n",
        "\n",
        "  return X_i\n"
      ]
    },
    {
      "cell_type": "markdown",
      "id": "OIER6YDZvvUn",
      "metadata": {
        "id": "OIER6YDZvvUn"
      },
      "source": [
        "Suppose now we have a target expected return $\\mu^*=8\\%$.\n",
        "Let us compute the adjustment weights $X_B$, $X_S$ and $X_E$."
      ]
    },
    {
      "cell_type": "code",
      "execution_count": 41,
      "id": "VB9ffq9tv9mY",
      "metadata": {
        "colab": {
          "base_uri": "https://localhost:8080/"
        },
        "id": "VB9ffq9tv9mY",
        "outputId": "c04b7524-246b-480a-927b-623ed48a1fce"
      },
      "outputs": [
        {
          "name": "stdout",
          "output_type": "stream",
          "text": [
            "1.764705882352941\n",
            "1.3043478260869565\n",
            "0.7692307692307692\n"
          ]
        }
      ],
      "source": [
        "target_expected_return = 0.08\n",
        "\n",
        "X_B = find_leverage(mu_B, target_expected_return, risk_free_rate)\n",
        "X_S = find_leverage(mu_S, target_expected_return, risk_free_rate)\n",
        "X_E = find_leverage(mu_E, target_expected_return, risk_free_rate)\n",
        "\n",
        "print(X_B)\n",
        "print(X_S)\n",
        "print(X_E)"
      ]
    },
    {
      "cell_type": "markdown",
      "id": "25xcnaPYwBkh",
      "metadata": {
        "id": "25xcnaPYwBkh"
      },
      "source": [
        "The result above show that we need to lever up B and S (because their expected return is less than 8%) and lever down E (because its expected return is higher than 8%).\n",
        "\n",
        "For example,  \"risk-adjusted\" B asset class,  B', has, for every 1 dollar invested by the client, \\$0.76 borrowed from C and invested in B.\n",
        "The risk-adjusted asset class $B^{\\prime}$ has $E[r_{B'}] = 0.08$ and $\\sigma[r_{B'}] = 1.76\\times \\sigma_{B}$.\n",
        "\n",
        "Similarly,\n",
        "\n",
        "$E[r_{S'}] = 0.08$ and $\\sigma[r_{S'}] = 1.30\\times \\sigma_{S}$.\n",
        "\n",
        "$E[r_{E'}] = 0.08$ and $\\sigma[r_{E'}] = 0.76\\times \\sigma_{E}$.\n",
        "\n",
        "All risk-adjusted asset classes have the same expected return but different volatiltiy.\n"
      ]
    },
    {
      "cell_type": "code",
      "execution_count": 42,
      "id": "K8k_m1SPyb51",
      "metadata": {
        "colab": {
          "base_uri": "https://localhost:8080/"
        },
        "id": "K8k_m1SPyb51",
        "outputId": "cd308b41-1d45-47b3-a319-ccf64f403cfc"
      },
      "outputs": [
        {
          "name": "stdout",
          "output_type": "stream",
          "text": [
            "[0.075, 0.13235294117647056]\n",
            "[0.133, 0.17347826086956522]\n",
            "[0.164, 0.12615384615384614]\n"
          ]
        }
      ],
      "source": [
        "def compute_sigma_prime(X, sigma):\n",
        "  #This function computes the volatility of the levered up/down asset\n",
        "  sigma_prime = X * sigma\n",
        "  return sigma_prime\n",
        "\n",
        "\n",
        "mu_B_prime = target_expected_return\n",
        "mu_S_prime = target_expected_return\n",
        "mu_E_prime = target_expected_return\n",
        "\n",
        "sigma_B_prime = compute_sigma_prime(X_B, sigma_B)\n",
        "sigma_S_prime = compute_sigma_prime(X_S, sigma_S)\n",
        "sigma_E_prime = compute_sigma_prime(X_E, sigma_E)\n",
        "\n",
        "print([sigma_B, sigma_B_prime])\n",
        "print([sigma_S, sigma_S_prime])\n",
        "print([sigma_E, sigma_E_prime])\n"
      ]
    },
    {
      "cell_type": "markdown",
      "id": "64mobHFZhzfo",
      "metadata": {
        "id": "64mobHFZhzfo"
      },
      "source": [
        "The following graph illustrates the main idea in the RP construction  "
      ]
    },
    {
      "cell_type": "code",
      "execution_count": 63,
      "id": "XrobcocP0p3Y",
      "metadata": {
        "colab": {
          "base_uri": "https://localhost:8080/",
          "height": 476
        },
        "id": "XrobcocP0p3Y",
        "outputId": "e66cb6f0-bb1c-488c-b3f9-8e34bafdd1e7"
      },
      "outputs": [
        {
          "data": {
            "image/png": "[encoded data removed]",
            "text/plain": [
              "<Figure size 640x480 with 1 Axes>"
            ]
          },
          "metadata": {},
          "output_type": "display_data"
        }
      ],
      "source": [
        "import matplotlib.pyplot as plt\n",
        "import numpy as np\n",
        "\n",
        "# Define lines and points\n",
        "points = {\n",
        "    'C': (sigma_C, mu_C),\n",
        "    'B': (sigma_B, mu_B),\n",
        "    'S': (sigma_S, mu_S),\n",
        "    'E': (sigma_E, mu_E),\n",
        "    'B\\'': (sigma_B_prime, mu_B_prime),\n",
        "    'S\\'': (sigma_S_prime, mu_S_prime),\n",
        "    'E\\'': (sigma_E_prime, mu_E_prime)\n",
        "}\n",
        "\n",
        "lines = {\n",
        "    'orange': ('C', 'S', 'S\\''),\n",
        "    'green': ('C', 'B', 'B\\''),\n",
        "    'black': ('C', 'E', 'E\\'')\n",
        "}\n",
        "\n",
        "# Plot lines\n",
        "for color, line_points in lines.items():\n",
        "    x_values, y_values = zip(*[points[pt] for pt in line_points])\n",
        "    plt.plot(x_values, y_values, linestyle='dotted', color=color)\n",
        "\n",
        "# Plot points and labels\n",
        "for label, (x, y) in points.items():\n",
        "    if label == 'C':\n",
        "        plt.scatter(x, y, color='black', zorder=5)\n",
        "    elif label in ['B\\'', 'E\\'', 'S\\'']:\n",
        "        plt.scatter(x, y, color='red', zorder=5)\n",
        "    else:\n",
        "        plt.scatter(x, y, color='blue', zorder=5)\n",
        "\n",
        "    if label == 'B\\'':\n",
        "        plt.text(x + 0.01, y, f'  {label}', va='bottom', ha='right', fontsize=12)\n",
        "    elif label == 'E\\'':\n",
        "        plt.text(x - 0.01, y, f'  {label}', va='bottom', ha='left', fontsize=12)\n",
        "    else:\n",
        "        plt.text(x, y, f'  {label}', va='bottom', ha='right', fontsize=12)\n",
        "\n",
        "# Draw u-shaped arrow from B to B'\n",
        "arrow_properties_b = dict(facecolor='black', edgecolor='black', arrowstyle='->', shrinkA=0, connectionstyle=\"arc3,rad=0.3\")\n",
        "plt.annotate('', points['B\\''], points['B'], arrowprops=arrow_properties_b)\n",
        "\n",
        "# Draw inverted u-shaped arrow from E to E'\n",
        "arrow_properties_e = dict(facecolor='black', edgecolor='black', arrowstyle='->', shrinkA=0, connectionstyle=\"arc3,rad=0.3\")\n",
        "plt.annotate('', points['E\\''], points['E'], arrowprops=arrow_properties_e)\n",
        "\n",
        "# Draw inverted u-shaped arrow from E to E'\n",
        "arrow_properties_e = dict(facecolor='black', edgecolor='black', arrowstyle='->', shrinkA=0, connectionstyle=\"arc3,rad=0.3\")\n",
        "plt.annotate('', points['S\\''], points['S'], arrowprops=arrow_properties_e)\n",
        "\n",
        "# Draw the horizontal line for the 8% target return\n",
        "plt.axhline(y=0.08, color='black', linestyle='-')\n",
        "\n",
        "# Set the labels and title\n",
        "plt.xlabel(r'Volatility, $\\sigma$')\n",
        "plt.ylabel(r'Expected return, $\\mu$')\n",
        "plt.title('Risk Parity Portfolio Construction')\n",
        "\n",
        "# Show the grid\n",
        "plt.grid(True)\n",
        "\n",
        "# Save the figure in the /Figures subfolder\n",
        "# plt.savefig('Figures/risk_parity_plot.png')\n",
        "\n",
        "\n",
        "# Show the figure\n",
        "plt.show()\n",
        "\n"
      ]
    },
    {
      "cell_type": "markdown",
      "id": "DiqPNxYr9AgK",
      "metadata": {
        "id": "DiqPNxYr9AgK"
      },
      "source": [
        "So, with asset classes $B'$, $S'$ and $E'$, we have three asset classes, all with $E[r] = 0.08$. On the RP Graph, all three new asset classes lie along a straight line going from left to right from $E[r] = 0.08$. Each has different volatilities, but the same $E[r]$.\n",
        "\n",
        "Now **any** portfolio that combines $B'$, $S'$ and $E'$ will have the desired expected return $(0.08)$.\n",
        "\n",
        "The following table summarizes the dollar position in each asset class needed to achieve the desired expected return."
      ]
    },
    {
      "cell_type": "code",
      "execution_count": 44,
      "id": "SKYyXubyClGn",
      "metadata": {
        "colab": {
          "base_uri": "https://localhost:8080/",
          "height": 143
        },
        "id": "SKYyXubyClGn",
        "outputId": "d9e1a725-c00d-4ab9-c53d-bc9dda6a7bf7"
      },
      "outputs": [
        {
          "data": {
            "text/html": [
              "<div>\n",
              "<style scoped>\n",
              "    .dataframe tbody tr th:only-of-type {\n",
              "        vertical-align: middle;\n",
              "    }\n",
              "\n",
              "    .dataframe tbody tr th {\n",
              "        vertical-align: top;\n",
              "    }\n",
              "\n",
              "    .dataframe thead th {\n",
              "        text-align: right;\n",
              "    }\n",
              "</style>\n",
              "<table border=\"1\" class=\"dataframe\">\n",
              "  <thead>\n",
              "    <tr style=\"text-align: right;\">\n",
              "      <th></th>\n",
              "      <th>Exp Rtn</th>\n",
              "      <th>rf</th>\n",
              "      <th>$ Risky</th>\n",
              "      <th>$ Tbill</th>\n",
              "      <th>$ Total</th>\n",
              "      <th>Target</th>\n",
              "    </tr>\n",
              "  </thead>\n",
              "  <tbody>\n",
              "    <tr>\n",
              "      <th>B</th>\n",
              "      <td>0.054</td>\n",
              "      <td>0.02</td>\n",
              "      <td>1.764706</td>\n",
              "      <td>-0.764706</td>\n",
              "      <td>1.0</td>\n",
              "      <td>0.08</td>\n",
              "    </tr>\n",
              "    <tr>\n",
              "      <th>S</th>\n",
              "      <td>0.066</td>\n",
              "      <td>0.02</td>\n",
              "      <td>1.304348</td>\n",
              "      <td>-0.304348</td>\n",
              "      <td>1.0</td>\n",
              "      <td>0.08</td>\n",
              "    </tr>\n",
              "    <tr>\n",
              "      <th>E</th>\n",
              "      <td>0.098</td>\n",
              "      <td>0.02</td>\n",
              "      <td>0.769231</td>\n",
              "      <td>0.230769</td>\n",
              "      <td>1.0</td>\n",
              "      <td>0.08</td>\n",
              "    </tr>\n",
              "  </tbody>\n",
              "</table>\n",
              "</div>"
            ],
            "text/plain": [
              "   Exp Rtn    rf   $ Risky   $ Tbill  $ Total  Target\n",
              "B    0.054  0.02  1.764706 -0.764706      1.0    0.08\n",
              "S    0.066  0.02  1.304348 -0.304348      1.0    0.08\n",
              "E    0.098  0.02  0.769231  0.230769      1.0    0.08"
            ]
          },
          "execution_count": 44,
          "metadata": {},
          "output_type": "execute_result"
        }
      ],
      "source": [
        "import pandas as pd\n",
        "\n",
        "# Define variables\n",
        "exp_rtn_values = [mu_B, mu_S, mu_E]\n",
        "rf_values = [risk_free_rate] * 3\n",
        "X_values = [X_B, X_S, X_E]\n",
        "tbill_values = [1-X_B,1-X_S, 1-X_E]\n",
        "total_values = [X + tbill for X, tbill in zip(X_values, tbill_values)]\n",
        "target_return = [X * exp_rtn + tbill * rf for X, exp_rtn, tbill,rf in zip(X_values, exp_rtn_values, tbill_values, rf_values)  ]\n",
        "\n",
        "# Create a DataFrame\n",
        "data = {\n",
        "    'Exp Rtn': exp_rtn_values,\n",
        "    'rf': rf_values,\n",
        "    '$ Risky': X_values,\n",
        "    '$ Tbill': tbill_values,\n",
        "    '$ Total': total_values,\n",
        "    'Target' : target_return\n",
        "}\n",
        "\n",
        "df = pd.DataFrame(data, index=['B', 'S', 'E'])\n",
        "\n",
        "# Display the DataFrame\n",
        "df\n"
      ]
    },
    {
      "cell_type": "markdown",
      "id": "rQ3_WR0JEjMA",
      "metadata": {
        "id": "rQ3_WR0JEjMA"
      },
      "source": [
        "Note: The \"\\$ Risky\" and \"\\$ Tbill\" values are how \\$1 should be used in an asset class to generate the desired expected return in that asset class. These are the \"risk-adjusted\" asset class investments referred to by BridgeWater."
      ]
    },
    {
      "cell_type": "markdown",
      "id": "a7cbb308",
      "metadata": {
        "id": "a7cbb308"
      },
      "source": [
        "We can now choose **any** mix of B', S' and E' and each portfolio will have E(rp) = 0.08. Each portfolio we choose will have different volatilities, but that is not the primary focus of RP. What RP focuses on is how to spread exposure to broader \"risk factors,\" like economic risk or inflation risk. Let's talk about those two major risks.\n",
        "\n",
        "\n",
        "So, how do we choose among B', S' and E' to get the risk factor exposure we want (any mix will have an 8\\% expected return, as we desire)?\n",
        "\n",
        "Suppose we are managing a $6 billion portfolio and we want to position our portfolio so that it has:\n",
        "1. An exposure of 1/3 to Economic risks (captured equally by S and E assets)\n",
        "2. An exposure of 2/3 to Inflation risks (captured by B assets)\n",
        "\n",
        "We also want to target an expected return $\\mu^*$ (8% in our previous example)\n",
        "\n",
        "The following table shows the dollar allocation to the risk-adjsted asset classes, B', S' and E'."
      ]
    },
    {
      "cell_type": "code",
      "execution_count": 45,
      "id": "zCCbXVlgHg9h",
      "metadata": {
        "colab": {
          "base_uri": "https://localhost:8080/",
          "height": 175
        },
        "id": "zCCbXVlgHg9h",
        "outputId": "02663993-a1d0-4b3b-d275-b4379fd4c67c"
      },
      "outputs": [
        {
          "data": {
            "text/html": [
              "<div>\n",
              "<style scoped>\n",
              "    .dataframe tbody tr th:only-of-type {\n",
              "        vertical-align: middle;\n",
              "    }\n",
              "\n",
              "    .dataframe tbody tr th {\n",
              "        vertical-align: top;\n",
              "    }\n",
              "\n",
              "    .dataframe thead th {\n",
              "        text-align: right;\n",
              "    }\n",
              "</style>\n",
              "<table border=\"1\" class=\"dataframe\">\n",
              "  <thead>\n",
              "    <tr style=\"text-align: right;\">\n",
              "      <th></th>\n",
              "      <th>$ invested</th>\n",
              "      <th>% exposure</th>\n",
              "    </tr>\n",
              "  </thead>\n",
              "  <tbody>\n",
              "    <tr>\n",
              "      <th>B'</th>\n",
              "      <td>4.0</td>\n",
              "      <td>0.666667</td>\n",
              "    </tr>\n",
              "    <tr>\n",
              "      <th>S'</th>\n",
              "      <td>1.0</td>\n",
              "      <td>0.166667</td>\n",
              "    </tr>\n",
              "    <tr>\n",
              "      <th>E'</th>\n",
              "      <td>1.0</td>\n",
              "      <td>0.166667</td>\n",
              "    </tr>\n",
              "    <tr>\n",
              "      <th>Total</th>\n",
              "      <td>6.0</td>\n",
              "      <td>1.000000</td>\n",
              "    </tr>\n",
              "  </tbody>\n",
              "</table>\n",
              "</div>"
            ],
            "text/plain": [
              "       $ invested  % exposure\n",
              "B'            4.0    0.666667\n",
              "S'            1.0    0.166667\n",
              "E'            1.0    0.166667\n",
              "Total         6.0    1.000000"
            ]
          },
          "execution_count": 45,
          "metadata": {},
          "output_type": "execute_result"
        }
      ],
      "source": [
        "wealth = 6\n",
        "GDP_exposure = 1/3\n",
        "INFL_exposure = 2/3\n",
        "\n",
        "Bprime_dollar = INFL_exposure * wealth\n",
        "Eprime_dollar = GDP_exposure * wealth / 2\n",
        "Sprime_dollar = GDP_exposure * wealth / 2\n",
        "\n",
        "# Create a DataFrame\n",
        "data_pf = {\n",
        "    '$ invested': [Bprime_dollar, Eprime_dollar, Sprime_dollar],\n",
        "    '% exposure': [Bprime_dollar/wealth, Eprime_dollar/wealth, Sprime_dollar/wealth]\n",
        "}\n",
        "\n",
        "df = pd.DataFrame(data_pf, index=['B\\'', 'S\\'', 'E\\''])\n",
        "\n",
        "# Add a row for totals\n",
        "df.loc['Total'] = df.sum()\n",
        "\n",
        "# Display the DataFrame\n",
        "df\n",
        "\n",
        "\n"
      ]
    },
    {
      "cell_type": "markdown",
      "id": "und3KXRE-jfO",
      "metadata": {
        "id": "und3KXRE-jfO"
      },
      "source": [
        "The above table shows that we have 2/3 of our money in bonds (B, low economic risk exposure) and only 1/3 in equities (both public, S, and private, E), with high economic risk exposure.\n",
        "\n",
        "We saw that a problem with the MVA portfolios is that in order to achieve a target return of 8% we needed to have about $75\\%$ (risky-only portfolio) or  58 \\% (unconstrained risky + cash) in public and private equities. "
      ]
    },
    {
      "cell_type": "code",
      "execution_count": 46,
      "id": "feb5fe53",
      "metadata": {},
      "outputs": [
        {
          "name": "stdout",
          "output_type": "stream",
          "text": [
            "Portfolio of cash + risky asset only that delivers 8%:        [-0.2574027   0.69165046  0.23889971  0.32685254]\n",
            "Unconstrained portfolio of risky asset only that delivers 8%: [0.         0.25308274 0.2104332  0.53648406]\n",
            "Constrained portfolio of risky asset only that delivers 8%:   [0.         0.25308274 0.2104332  0.53648406]\n"
          ]
        }
      ],
      "source": [
        "print(\"Portfolio of cash + risky asset only that delivers 8%:       \", weights_with_rf)\n",
        "print(\"Unconstrained portfolio of risky asset only that delivers 8%:\", np.append(0,weight_riskyOnly_unconstr))\n",
        "print(\"Constrained portfolio of risky asset only that delivers 8%:  \", np.append(0,weight_riskyOnly_constr))\n"
      ]
    },
    {
      "cell_type": "markdown",
      "id": "14a379fe",
      "metadata": {},
      "source": [
        "This is a LOT of exposure to the \"economic risk factor.\" We reproduce here the three portfolio we derived in the MVA section of this notebook.\n",
        "\n",
        "If the economy collapses (that might be why we do this!), this portfolio will perform better than either of the MVA portfolios. However, if the economy takes off the RP portfolio will do worse than the MVA portfolio. But, the key is that in the RP portfolio **we got to choose our risk factor exposures**.\n",
        "\n",
        "Once we have decided our factor exposure, that is, the allocation to the risk-adjusted assets B', S', and E', we can easily figure out how in practice we can achieve the desired factor exposure by finding the weights in the **actual** assets B, S, and E. For example, we know that each dollar we invest in B' is equivalent to investing $X_B$ in B and $1-X_B$ in cash. Therefore, \\$4b\n",
        "invested in B' is equivalent of a portfolio in which\n",
        "1. $\\$4b \\times X_B$ is invested in B\n",
        "2. $\\$4b \\times (1-X_B)$ is invested in cash\n",
        "\n",
        "The following code computes the actual positions in the original assets\n",
        "\n",
        "The following table shows how you would achieve your 4/1/1 asset allocation in the risk-adjusted asset classes by using the REAL (not hypothetical) asset classes. You can see you short C, put a LOT in B and not very much in S or E."
      ]
    },
    {
      "cell_type": "code",
      "execution_count": 47,
      "id": "7xyZoNkbN3WS",
      "metadata": {
        "colab": {
          "base_uri": "https://localhost:8080/",
          "height": 175
        },
        "id": "7xyZoNkbN3WS",
        "outputId": "10456a48-6aea-408c-e8d8-08475844ec8f"
      },
      "outputs": [
        {
          "name": "stdout",
          "output_type": "stream",
          "text": [
            "RP_weights: [-0.5220670207882483, 1.176470588235294, 0.21739130434782608, 0.1282051282051282]\n"
          ]
        },
        {
          "data": {
            "text/html": [
              "<div>\n",
              "<style scoped>\n",
              "    .dataframe tbody tr th:only-of-type {\n",
              "        vertical-align: middle;\n",
              "    }\n",
              "\n",
              "    .dataframe tbody tr th {\n",
              "        vertical-align: top;\n",
              "    }\n",
              "\n",
              "    .dataframe thead th {\n",
              "        text-align: right;\n",
              "    }\n",
              "</style>\n",
              "<table border=\"1\" class=\"dataframe\">\n",
              "  <thead>\n",
              "    <tr style=\"text-align: right;\">\n",
              "      <th></th>\n",
              "      <th>$ risky</th>\n",
              "      <th>$ t-bill</th>\n",
              "      <th>$ risk-adjusted</th>\n",
              "      <th>% risky</th>\n",
              "      <th>% t-bill</th>\n",
              "      <th>Total %</th>\n",
              "    </tr>\n",
              "  </thead>\n",
              "  <tbody>\n",
              "    <tr>\n",
              "      <th>B</th>\n",
              "      <td>7.058824</td>\n",
              "      <td>-3.058824</td>\n",
              "      <td>4.0</td>\n",
              "      <td>1.176471</td>\n",
              "      <td>-0.509804</td>\n",
              "      <td>0.666667</td>\n",
              "    </tr>\n",
              "    <tr>\n",
              "      <th>S</th>\n",
              "      <td>1.304348</td>\n",
              "      <td>-0.304348</td>\n",
              "      <td>1.0</td>\n",
              "      <td>0.217391</td>\n",
              "      <td>-0.050725</td>\n",
              "      <td>0.166667</td>\n",
              "    </tr>\n",
              "    <tr>\n",
              "      <th>E</th>\n",
              "      <td>0.769231</td>\n",
              "      <td>0.230769</td>\n",
              "      <td>1.0</td>\n",
              "      <td>0.128205</td>\n",
              "      <td>0.038462</td>\n",
              "      <td>0.166667</td>\n",
              "    </tr>\n",
              "    <tr>\n",
              "      <th>Total</th>\n",
              "      <td>9.132402</td>\n",
              "      <td>-3.132402</td>\n",
              "      <td>6.0</td>\n",
              "      <td>1.522067</td>\n",
              "      <td>-0.522067</td>\n",
              "      <td>1.000000</td>\n",
              "    </tr>\n",
              "  </tbody>\n",
              "</table>\n",
              "</div>"
            ],
            "text/plain": [
              "        $ risky  $ t-bill  $ risk-adjusted   % risky  % t-bill   Total %\n",
              "B      7.058824 -3.058824              4.0  1.176471 -0.509804  0.666667\n",
              "S      1.304348 -0.304348              1.0  0.217391 -0.050725  0.166667\n",
              "E      0.769231  0.230769              1.0  0.128205  0.038462  0.166667\n",
              "Total  9.132402 -3.132402              6.0  1.522067 -0.522067  1.000000"
            ]
          },
          "execution_count": 47,
          "metadata": {},
          "output_type": "execute_result"
        }
      ],
      "source": [
        "dollar_B_original = Bprime_dollar * X_B\n",
        "dollar_S_original = Sprime_dollar * X_S\n",
        "dollar_E_original = Eprime_dollar * X_E\n",
        "\n",
        "dollar_cash_B = Bprime_dollar * (1-X_B)\n",
        "dollar_cash_S = Sprime_dollar * (1-X_S)\n",
        "dollar_cash_E = Eprime_dollar * (1-X_E)\n",
        "\n",
        "dollar_cash = dollar_cash_B + dollar_cash_S + dollar_cash_E\n",
        "\n",
        "# print(dollar_B_original)\n",
        "# print(dollar_S_original)\n",
        "# print(dollar_E_original)\n",
        "# print(dollar_cash)\n",
        "\n",
        "\n",
        "# Create a DataFrame\n",
        "data_riskParity = {\n",
        "    '$ risky':  [dollar_B_original, dollar_S_original, dollar_E_original],\n",
        "    '$ t-bill': [dollar_cash_B, dollar_cash_S, dollar_cash_E],\n",
        "    '$ risk-adjusted' : [dollar_B_original + dollar_cash_B, dollar_S_original + dollar_cash_S, dollar_E_original + dollar_cash_E],\n",
        "    '% risky':  [dollar_B_original/wealth, dollar_S_original/wealth, dollar_E_original/wealth],\n",
        "    '% t-bill': [dollar_cash_B/wealth, dollar_cash_S/wealth, dollar_cash_E/wealth],\n",
        "\n",
        "}\n",
        "\n",
        "df_RP = pd.DataFrame(data_riskParity, index=['B', 'S', 'E'])\n",
        "\n",
        "# Add a column for the sum of the last two columns\n",
        "df_RP['Total %'] = df_RP['% risky'] + df_RP['% t-bill']\n",
        "\n",
        "\n",
        "# Add a row for totals\n",
        "df_RP.loc['Total'] = df_RP.sum()\n",
        "\n",
        "\n",
        "# The risk-parity (RP) portfolio in the original assets C, B, S, E is \n",
        "RP_weights = [df_RP['% t-bill'].loc['Total'], df_RP['% risky'].loc['B'], df_RP['% risky'].loc['S'], df_RP['% risky'].loc['E']]\n",
        "\n",
        "print(\"RP_weights:\", RP_weights)\n",
        "\n",
        "# Display the DataFrame\n",
        "df_RP\n",
        "\n",
        "# produce a latex table from df_RP\n",
        "# print(df_RP.to_latex())\n",
        "\n"
      ]
    },
    {
      "cell_type": "markdown",
      "id": "ctsAokg_PDk8",
      "metadata": {
        "id": "ctsAokg_PDk8"
      },
      "source": [
        "A final word of **caution** about Risk Parity:\n",
        "\n",
        "1. By construction, risk parity overweights assets that have **low volatilities**\n",
        "2. Past volatility tends to be low when today's **prices are high**\n",
        "3. Hence with risk parity your portfolio loads on **expensive** assets!"
      ]
    },
    {
      "cell_type": "markdown",
      "id": "NjoiK52q1qO_",
      "metadata": {
        "id": "NjoiK52q1qO_"
      },
      "source": [
        "# **3. Multi-Risk Factor Model (MRF)**"
      ]
    },
    {
      "cell_type": "markdown",
      "id": "-4GsaSeaUd9t",
      "metadata": {
        "id": "-4GsaSeaUd9t"
      },
      "source": [
        "In the analysis above we have used the following data for the four asset classes C, B, S, and E"
      ]
    },
    {
      "cell_type": "code",
      "execution_count": 48,
      "id": "07zGBfvTT-iQ",
      "metadata": {
        "colab": {
          "base_uri": "https://localhost:8080/",
          "height": 175
        },
        "id": "07zGBfvTT-iQ",
        "outputId": "e1c5ef38-9693-4ce6-bf16-19d7e95ffa57"
      },
      "outputs": [
        {
          "data": {
            "text/html": [
              "<div>\n",
              "<style scoped>\n",
              "    .dataframe tbody tr th:only-of-type {\n",
              "        vertical-align: middle;\n",
              "    }\n",
              "\n",
              "    .dataframe tbody tr th {\n",
              "        vertical-align: top;\n",
              "    }\n",
              "\n",
              "    .dataframe thead th {\n",
              "        text-align: right;\n",
              "    }\n",
              "</style>\n",
              "<table border=\"1\" class=\"dataframe\">\n",
              "  <thead>\n",
              "    <tr style=\"text-align: right;\">\n",
              "      <th></th>\n",
              "      <th>Expected Return</th>\n",
              "      <th>Volatility</th>\n",
              "    </tr>\n",
              "  </thead>\n",
              "  <tbody>\n",
              "    <tr>\n",
              "      <th>C</th>\n",
              "      <td>0.020</td>\n",
              "      <td>0.000</td>\n",
              "    </tr>\n",
              "    <tr>\n",
              "      <th>B</th>\n",
              "      <td>0.054</td>\n",
              "      <td>0.075</td>\n",
              "    </tr>\n",
              "    <tr>\n",
              "      <th>S</th>\n",
              "      <td>0.066</td>\n",
              "      <td>0.133</td>\n",
              "    </tr>\n",
              "    <tr>\n",
              "      <th>E</th>\n",
              "      <td>0.098</td>\n",
              "      <td>0.164</td>\n",
              "    </tr>\n",
              "  </tbody>\n",
              "</table>\n",
              "</div>"
            ],
            "text/plain": [
              "   Expected Return  Volatility\n",
              "C            0.020       0.000\n",
              "B            0.054       0.075\n",
              "S            0.066       0.133\n",
              "E            0.098       0.164"
            ]
          },
          "execution_count": 48,
          "metadata": {},
          "output_type": "execute_result"
        }
      ],
      "source": [
        "# Create a DataFrame\n",
        "data_mean_return = {\n",
        "    'Expected Return': [mu_C, mu_B, mu_S, mu_E],\n",
        "    'Volatility': [sigma_C, sigma_B, sigma_S, sigma_E],\n",
        "\n",
        "}\n",
        "\n",
        "df_exp_return = pd.DataFrame(data_mean_return, index=['C', 'B', 'S', 'E'])\n",
        "\n",
        "# Display the DataFrame\n",
        "df_exp_return"
      ]
    },
    {
      "cell_type": "markdown",
      "id": "8AsWkwKr3X2M",
      "metadata": {
        "id": "8AsWkwKr3X2M"
      },
      "source": [
        "Where do these data come from?\n",
        "\n",
        "The MRF model takes the next step from the RP model by **quantifying** how asset classes (and individual stocks and bonds) are exposed to specified \"risk factors.\"\n",
        "\n",
        "We will use this MRF model to identify specific asset allocations for institutional investors, like pension plans and endowments. Here, we just introduce some of the concepts involved in MRF.\n",
        "\n",
        "According to the MRF model the expected return depends on multiple sources of risk, e.g., a $K$ factor model would look like this:\n",
        "\n",
        "$$ E[r_{s}]=r_{f}+ \\sum_{i=1}^K\\beta_{is}\\lambda_{i}$$\n",
        "\n",
        "where $\\beta_{is}$ denotes the **exposure** of asset $s$ to the risk factor $i$ (\"quantity\" of risk embedded in asset s) and $\\lambda_{i}$ the **price of risk** for factor $i$.\n",
        "\n",
        "We assume that **three** risk factors will push stock and bond prices around:\n",
        "\n",
        "1. **MACR**: This is the \"economic risk\" we spoke of earlier, defined as the percentage change in GDP over some time interval (monthly or quarterly).\n",
        "\n",
        "2. **INFL**: This is inflation, as defined earlier (percentage change in CPI)\n",
        "\n",
        "3. **ILLQ**: This is \"illiquidity risk,\" the risk that, when an investor wants to sell an asset class, it can only be sold at a VERY low price, if it can be sold at all. Assume we measure this by the change in bid-ask spreads: when spreads widen, it gets more difficult to trade assets; this happened in 2008, for example!\n",
        "\n",
        "Hence, according to this model, the expected return of asset $s$ is\n",
        "\n",
        "$$ E[r_s] = r_f + \\beta_{MACR,s}\\lambda_{MACR} + \\beta_{INFL,s}\\lambda_{INFL} + \\beta_{ILLIQ,s}\\lambda_{ILLIQ}.\n",
        "$$\n",
        "\n",
        "The following table shows the input data for a 3-factor MRF model. We show that this input data can be used to generate the expectd returns and volatilities for the C, B, S, and E asset classes used in the two previous models, MVA and RP. So, we've found the mothership!"
      ]
    },
    {
      "cell_type": "code",
      "execution_count": 49,
      "id": "MIVqmi17Zq7E",
      "metadata": {
        "colab": {
          "base_uri": "https://localhost:8080/",
          "height": 143
        },
        "id": "MIVqmi17Zq7E",
        "outputId": "bb86e636-ad4c-4fe2-93ba-eaeedacfb136"
      },
      "outputs": [
        {
          "data": {
            "text/html": [
              "<div>\n",
              "<style scoped>\n",
              "    .dataframe tbody tr th:only-of-type {\n",
              "        vertical-align: middle;\n",
              "    }\n",
              "\n",
              "    .dataframe tbody tr th {\n",
              "        vertical-align: top;\n",
              "    }\n",
              "\n",
              "    .dataframe thead th {\n",
              "        text-align: right;\n",
              "    }\n",
              "</style>\n",
              "<table border=\"1\" class=\"dataframe\">\n",
              "  <thead>\n",
              "    <tr style=\"text-align: right;\">\n",
              "      <th></th>\n",
              "      <th>beta_C</th>\n",
              "      <th>beta_B</th>\n",
              "      <th>beta_S</th>\n",
              "      <th>beta_E</th>\n",
              "      <th>lambda</th>\n",
              "      <th>sigma</th>\n",
              "      <th>rf</th>\n",
              "    </tr>\n",
              "  </thead>\n",
              "  <tbody>\n",
              "    <tr>\n",
              "      <th>MACR</th>\n",
              "      <td>0.0</td>\n",
              "      <td>0.3</td>\n",
              "      <td>0.9</td>\n",
              "      <td>1.1</td>\n",
              "      <td>0.10</td>\n",
              "      <td>0.14</td>\n",
              "      <td>0.02</td>\n",
              "    </tr>\n",
              "    <tr>\n",
              "      <th>INFL</th>\n",
              "      <td>0.0</td>\n",
              "      <td>-0.3</td>\n",
              "      <td>0.4</td>\n",
              "      <td>0.6</td>\n",
              "      <td>-0.08</td>\n",
              "      <td>0.05</td>\n",
              "      <td>0.02</td>\n",
              "    </tr>\n",
              "    <tr>\n",
              "      <th>ILLIQ</th>\n",
              "      <td>0.0</td>\n",
              "      <td>0.5</td>\n",
              "      <td>0.3</td>\n",
              "      <td>-0.4</td>\n",
              "      <td>-0.04</td>\n",
              "      <td>0.12</td>\n",
              "      <td>0.02</td>\n",
              "    </tr>\n",
              "  </tbody>\n",
              "</table>\n",
              "</div>"
            ],
            "text/plain": [
              "       beta_C  beta_B  beta_S  beta_E  lambda  sigma    rf\n",
              "MACR      0.0     0.3     0.9     1.1    0.10   0.14  0.02\n",
              "INFL      0.0    -0.3     0.4     0.6   -0.08   0.05  0.02\n",
              "ILLIQ     0.0     0.5     0.3    -0.4   -0.04   0.12  0.02"
            ]
          },
          "execution_count": 49,
          "metadata": {},
          "output_type": "execute_result"
        }
      ],
      "source": [
        "import pandas as pd\n",
        "\n",
        "# Given data\n",
        "betas = {\n",
        "    'beta_C': [0.0, 0.0, 0.0],\n",
        "    'beta_B': [0.3, -0.3, 0.5],\n",
        "    'beta_S': [0.9, 0.4, 0.3],\n",
        "    'beta_E': [1.1, 0.6, -0.4]\n",
        "}\n",
        "\n",
        "lambdas = {\n",
        "    'MACR': 0.1,\n",
        "    'INFL': -0.08,\n",
        "    'ILLIQ': -0.04\n",
        "}\n",
        "\n",
        "factor_volatilities = {\n",
        "    'MACR': 0.14,\n",
        "    'INFL': 0.05,\n",
        "    'ILLIQ': 0.12\n",
        "}\n",
        "\n",
        "# Create a DataFrame for betas\n",
        "df_mrf = pd.DataFrame(betas, index=['MACR', 'INFL', 'ILLIQ'])\n",
        "\n",
        "# Add a row for lambdas\n",
        "df_mrf['lambda'] = [lambdas['MACR'], lambdas['INFL'], lambdas['ILLIQ']]\n",
        "\n",
        "# Add a row for factor volatilities\n",
        "df_mrf['sigma'] = [factor_volatilities['MACR'], factor_volatilities['INFL'], factor_volatilities['ILLIQ']]\n",
        "\n",
        "# Add a column for risk-free rate (Assuming it's a constant value)\n",
        "df_mrf['rf'] = 0.02\n",
        "\n",
        "# Display the DataFrame for betas, lambdas, factor volatilities, and risk-free rate\n",
        "df_mrf\n"
      ]
    },
    {
      "cell_type": "markdown",
      "id": "yAx8t8Rw2um5",
      "metadata": {
        "id": "yAx8t8Rw2um5"
      },
      "source": [
        "\n",
        "\n",
        "The above table shows, for each asset class (C, B, S and E) the \"risk factor exposures\" (we will also call them \"risk factor betas\") to each risk factor. Here's what the number means: you can see that the private equity (E) is assumed to have a risk factor exposure to economic (MACR) risk of 1.1. This means: if the risk factor shock in a period is, say 0.05 (ie., GDP grew in the period by 5\\%), we expect the private equity asset class to have a return higher by $(1.1) \\times (0.05) = 0.055$ or +5.5\\% than if the MACR shock had been zero. If the economy shrinks by 10\\%, we expect this outcome to force private equity values down by $1.1 \\times (0.10) = 11\\%$, i.e., an 11\\% value loss on private equity holdings.\n",
        "\n",
        "Similarly, you see bonds have a risk factor beta with respect to INFL of -0.30. So, when inflation is 5\\% in a given period, we expect bonds to show a value change due to that inflation of $0.05 \\times (-0.3) = -0.015$ (a 1.5\\% capital loss).\n",
        "\n",
        "So: $\\beta_{MACR, E} = 1.1$ and $\\beta_{INFL, B}= -0.30$.\n",
        "\n",
        "<!-- We number the risk factors: MACR = risk factor1, INFL = risk factor 2 and ILLQ = risk factor 3. -->\n",
        "\n",
        "So, each asset class, or portfolio of asset classes, has THREE risk measures, or risk exposures. In the CAPM, there was one \"beta\" because there was just one risk factor: $r_{m}$, the return on the stock market. Now, we have three betas.\n",
        "\n",
        "Investors feel quite differently about taking on MACR risk versus taking on INFL risk or ILLQ risk. We'll go into this in MUCH more detail later. For now: in the CAPM there was one \"lambda\" called the \"market price of risk,\" and it is often said to be, in the long term, about 0.06. In the CAPM, if the riskless rate is 2\\% and the market price of risk is 6\\%, then the equation for the Security Market Line (SML), which defines an asset or asset class' expected return is:\n",
        "\n",
        "$$\n",
        "E[r_p]=r_f + \\beta_{MKT,p} \\times \\lambda_{MKT}\n",
        "$$\n",
        "\n",
        "If the stock market itself has a beta of 1 (it does), then:\n",
        "\n",
        "$$\n",
        "E[r_m] = 0.02 + 1\\times (0.06) = 0.08 = 8\\%\n",
        "$$\n",
        "\n",
        "But, while the CAPM is a one risk factor model, we are using a 3 risk factor model. We must have three betas for each asset class and we must have a lambda for each risk factor (there was one lambda in the CAPM, here there must be 3 ).\n",
        "\n",
        "We have assumed $\\lambda_{MACR} = 0.10$, $\\lambda_{INFL} = -0.08$ and $\\lambda_{ILLQ} = -0.04$. We will explain why some of the lambdas are positive and some are negative. Just take them as given now.\n",
        "\n",
        "The **MRF Security Market Line (SML)** becomes, for asset class $j=B,S,E$ is then:\n",
        "$$\n",
        "E[r_j] = r_f + \\beta_{MACR,j}\\lambda_{MACR} + \\beta_{INFL,j}\\lambda_{INFL} + \\beta_{ILLIQ,j}\\lambda_{ILLIQ},\n",
        "$$\n",
        "\n",
        "Assuming that the factors are uncorrelated, the volatility of asset class $j=B,S,E$ is then\n",
        "$$\n",
        "\\sigma[r_j]= \\sqrt{\\beta^2_{MACR,j}\\sigma^2_{MACR} + \\beta^2_{INFL,j}\\sigma^2_{INFL} + \\beta^2_{ILLIQ,j}\\sigma^2_{ILLIQ}}\n",
        "$$\n",
        "\n",
        "And therefore the Sharpe ratio of asset $j=B,S,E$ is\n",
        "$$\n",
        "\\text{Sharpe ratio} = \\frac{E[r_j] - r_f}{\\sigma[r_j]}\n",
        "$$\n",
        "\n",
        "The following code uses the data from the MRF model to generate the expected return and volatility of each asset class"
      ]
    },
    {
      "cell_type": "code",
      "execution_count": 50,
      "id": "p73ivJgogVk7",
      "metadata": {
        "colab": {
          "base_uri": "https://localhost:8080/",
          "height": 211
        },
        "id": "p73ivJgogVk7",
        "outputId": "70d285b9-f8d5-4d48-e3ff-e963ef9a20bc"
      },
      "outputs": [
        {
          "name": "stderr",
          "output_type": "stream",
          "text": [
            "/var/folders/tn/2d55tgm53078fm976n24n72w0000gp/T/ipykernel_82006/86824736.py:27: RuntimeWarning: invalid value encountered in divide\n",
            "  sharpe_ratio = (expected_returns - rf)/volatility\n"
          ]
        },
        {
          "data": {
            "text/html": [
              "<div>\n",
              "<style scoped>\n",
              "    .dataframe tbody tr th:only-of-type {\n",
              "        vertical-align: middle;\n",
              "    }\n",
              "\n",
              "    .dataframe tbody tr th {\n",
              "        vertical-align: top;\n",
              "    }\n",
              "\n",
              "    .dataframe thead th {\n",
              "        text-align: right;\n",
              "    }\n",
              "</style>\n",
              "<table border=\"1\" class=\"dataframe\">\n",
              "  <thead>\n",
              "    <tr style=\"text-align: right;\">\n",
              "      <th></th>\n",
              "      <th>Asset</th>\n",
              "      <th>Expected Return</th>\n",
              "      <th>Volatility</th>\n",
              "      <th>Sharpe Ratio</th>\n",
              "    </tr>\n",
              "  </thead>\n",
              "  <tbody>\n",
              "    <tr>\n",
              "      <th>0</th>\n",
              "      <td>C</td>\n",
              "      <td>0.020</td>\n",
              "      <td>0.000000</td>\n",
              "      <td>NaN</td>\n",
              "    </tr>\n",
              "    <tr>\n",
              "      <th>1</th>\n",
              "      <td>B</td>\n",
              "      <td>0.054</td>\n",
              "      <td>0.074760</td>\n",
              "      <td>0.454791</td>\n",
              "    </tr>\n",
              "    <tr>\n",
              "      <th>2</th>\n",
              "      <td>S</td>\n",
              "      <td>0.066</td>\n",
              "      <td>0.132559</td>\n",
              "      <td>0.347014</td>\n",
              "    </tr>\n",
              "    <tr>\n",
              "      <th>3</th>\n",
              "      <td>E</td>\n",
              "      <td>0.098</td>\n",
              "      <td>0.164073</td>\n",
              "      <td>0.475398</td>\n",
              "    </tr>\n",
              "  </tbody>\n",
              "</table>\n",
              "</div>"
            ],
            "text/plain": [
              "  Asset  Expected Return  Volatility  Sharpe Ratio\n",
              "0     C            0.020    0.000000           NaN\n",
              "1     B            0.054    0.074760      0.454791\n",
              "2     S            0.066    0.132559      0.347014\n",
              "3     E            0.098    0.164073      0.475398"
            ]
          },
          "execution_count": 50,
          "metadata": {},
          "output_type": "execute_result"
        }
      ],
      "source": [
        "def calculate_expected_return_volatility(df):\n",
        "    \"\"\"\n",
        "    Calculate the expected return and volatility for each asset.\n",
        "\n",
        "    Parameters:\n",
        "    - df: DataFrame containing betas, lambdas, factor volatilities, and risk-free rate.\n",
        "\n",
        "    Returns:\n",
        "    - DataFrame with expected return and volatility for each asset.\n",
        "    \"\"\"\n",
        "    # Extract relevant data from the DataFrame\n",
        "    betas = df[['beta_C', 'beta_B', 'beta_S', 'beta_E']].values  # No need to transpose here\n",
        "    lambdas = df['lambda'].values\n",
        "    factor_volatilities = df['sigma'].values\n",
        "    rf = df['rf'].iloc[0]\n",
        "\n",
        "    # # Calculate expected return for each asset\n",
        "    expected_returns = rf + lambdas @ betas\n",
        "    # expected_returns = rf + np.dot(lambdas, betas)\n",
        "\n",
        "    # Calculate volatility for each asset\n",
        "    beta_squared = np.square(betas)\n",
        "    factor_variances = np.square(factor_volatilities)\n",
        "\n",
        "    volatility = np.sqrt(factor_variances @ beta_squared)\n",
        "\n",
        "    sharpe_ratio = (expected_returns - rf)/volatility\n",
        "\n",
        "\n",
        "    # Create a new DataFrame with results\n",
        "    results = pd.DataFrame({\n",
        "        'Asset': ['C', 'B', 'S', 'E'],\n",
        "        'Expected Return': expected_returns,\n",
        "        'Volatility' : volatility,\n",
        "        'Sharpe Ratio': sharpe_ratio\n",
        "    })\n",
        "\n",
        "    return results\n",
        "\n",
        "\n",
        "# Calculate and display the expected return and volatility\n",
        "mrf_moments = calculate_expected_return_volatility(df_mrf)\n",
        "\n",
        "\n",
        "mrf_moments\n"
      ]
    },
    {
      "cell_type": "markdown",
      "id": "cRKX2c3nnfKN",
      "metadata": {
        "id": "cRKX2c3nnfKN"
      },
      "source": [
        "As the table shows, these were the input we used when we constructed the mean-variance frontier with \"made-up\" data"
      ]
    },
    {
      "cell_type": "markdown",
      "id": "NSPi_bVlPS_b",
      "metadata": {
        "id": "NSPi_bVlPS_b"
      },
      "source": [
        "The MRF model allows us to directly measure the risk factor exposure of a given portfolio.\n",
        "\n",
        "Given a portfolio $x$ the exposure to a given factor $i$ is simply given by exposure of each asset with respect to the factor $i$, where the weights are the portoflio weights.\n",
        "\n",
        "For example, suppose we have a portfolio $X = (x_C, x_B, x_S, x_E)$. Then the exposure, to, say, the MACR factor is\n",
        "\n",
        "$$\\text{portfolio $X$ exposure to MACR factor:}~~  x_C\\beta_{MACR,C} + x_B\\beta_{MACR,B}+x_S\\beta_{MACR,S}+x_E\\beta_{MACR,E}$$\n",
        "\n",
        "Consider the three different portfolios that have an expected return of 8% and that we constructed above:\n",
        "\n",
        "1. MVA unconstrained\n",
        "2. MVA constrained\n",
        "3. RP portfolio\n",
        "\n",
        "Here below we collect the weights in three separate arrays for further analysis"
      ]
    },
    {
      "cell_type": "code",
      "execution_count": 51,
      "id": "NaDKBqZXpuPK",
      "metadata": {
        "colab": {
          "base_uri": "https://localhost:8080/"
        },
        "id": "NaDKBqZXpuPK",
        "outputId": "f03257c8-ba8a-47b3-cd62-70c34185c4c6"
      },
      "outputs": [
        {
          "name": "stdout",
          "output_type": "stream",
          "text": [
            "MVA_unconstr weights: [-0.2574027   0.69165046  0.23889971  0.32685254]\n",
            "MVA_constr weights. : [0.         0.25308274 0.2104332  0.53648406]\n",
            "RP_weights          : [-0.5220670207882483, 1.176470588235294, 0.21739130434782608, 0.1282051282051282]\n"
          ]
        }
      ],
      "source": [
        "MVA_unconstr_weights = weights_with_rf\n",
        "MVA_constr_weights = np.insert(weight_riskyOnly_constr, 0,0) # Add a zero to the position in cash\n",
        "# RP_weights = [df_RP['% t-bill'].loc['Total'], df_RP['% risky'].loc['B'], df_RP['% risky'].loc['S'], df_RP['% risky'].loc['E']]\n",
        "\n",
        "print(\"MVA_unconstr weights:\", MVA_unconstr_weights)\n",
        "print(\"MVA_constr weights. :\", MVA_constr_weights)\n",
        "print(\"RP_weights          :\", RP_weights)\n",
        "\n"
      ]
    },
    {
      "cell_type": "markdown",
      "id": "0R6AyxCYvSoO",
      "metadata": {
        "id": "0R6AyxCYvSoO"
      },
      "source": [
        "Let us find the exposure to each of the three factors for each of the three portfolios.\n",
        "\n",
        "Recall the data on beta exposures and risk prices are contained in the data frame `df_mrf` which we reproduce here below\n",
        "\n",
        "\n"
      ]
    },
    {
      "cell_type": "code",
      "execution_count": 52,
      "id": "phGylhswvj-v",
      "metadata": {
        "colab": {
          "base_uri": "https://localhost:8080/",
          "height": 143
        },
        "id": "phGylhswvj-v",
        "outputId": "f67cc762-e404-4855-cf77-5c3825336772"
      },
      "outputs": [
        {
          "data": {
            "text/html": [
              "<div>\n",
              "<style scoped>\n",
              "    .dataframe tbody tr th:only-of-type {\n",
              "        vertical-align: middle;\n",
              "    }\n",
              "\n",
              "    .dataframe tbody tr th {\n",
              "        vertical-align: top;\n",
              "    }\n",
              "\n",
              "    .dataframe thead th {\n",
              "        text-align: right;\n",
              "    }\n",
              "</style>\n",
              "<table border=\"1\" class=\"dataframe\">\n",
              "  <thead>\n",
              "    <tr style=\"text-align: right;\">\n",
              "      <th></th>\n",
              "      <th>beta_C</th>\n",
              "      <th>beta_B</th>\n",
              "      <th>beta_S</th>\n",
              "      <th>beta_E</th>\n",
              "      <th>lambda</th>\n",
              "      <th>sigma</th>\n",
              "      <th>rf</th>\n",
              "    </tr>\n",
              "  </thead>\n",
              "  <tbody>\n",
              "    <tr>\n",
              "      <th>MACR</th>\n",
              "      <td>0.0</td>\n",
              "      <td>0.3</td>\n",
              "      <td>0.9</td>\n",
              "      <td>1.1</td>\n",
              "      <td>0.10</td>\n",
              "      <td>0.14</td>\n",
              "      <td>0.02</td>\n",
              "    </tr>\n",
              "    <tr>\n",
              "      <th>INFL</th>\n",
              "      <td>0.0</td>\n",
              "      <td>-0.3</td>\n",
              "      <td>0.4</td>\n",
              "      <td>0.6</td>\n",
              "      <td>-0.08</td>\n",
              "      <td>0.05</td>\n",
              "      <td>0.02</td>\n",
              "    </tr>\n",
              "    <tr>\n",
              "      <th>ILLIQ</th>\n",
              "      <td>0.0</td>\n",
              "      <td>0.5</td>\n",
              "      <td>0.3</td>\n",
              "      <td>-0.4</td>\n",
              "      <td>-0.04</td>\n",
              "      <td>0.12</td>\n",
              "      <td>0.02</td>\n",
              "    </tr>\n",
              "  </tbody>\n",
              "</table>\n",
              "</div>"
            ],
            "text/plain": [
              "       beta_C  beta_B  beta_S  beta_E  lambda  sigma    rf\n",
              "MACR      0.0     0.3     0.9     1.1    0.10   0.14  0.02\n",
              "INFL      0.0    -0.3     0.4     0.6   -0.08   0.05  0.02\n",
              "ILLIQ     0.0     0.5     0.3    -0.4   -0.04   0.12  0.02"
            ]
          },
          "execution_count": 52,
          "metadata": {},
          "output_type": "execute_result"
        }
      ],
      "source": [
        "df_mrf"
      ]
    },
    {
      "cell_type": "markdown",
      "id": "fdq60Cw6wh8l",
      "metadata": {
        "id": "fdq60Cw6wh8l"
      },
      "source": [
        "Let's extract the beta of each assets with respect to the three factors"
      ]
    },
    {
      "cell_type": "code",
      "execution_count": 53,
      "id": "tY8QtjKLvobW",
      "metadata": {
        "id": "tY8QtjKLvobW"
      },
      "outputs": [],
      "source": [
        "beta_MACR = df_mrf.loc['MACR', ['beta_C', 'beta_B', 'beta_S', 'beta_E']]\n",
        "beta_INFL = df_mrf.loc['INFL', ['beta_C', 'beta_B', 'beta_S', 'beta_E']]\n",
        "beta_ILLIQ = df_mrf.loc['ILLIQ', ['beta_C', 'beta_B', 'beta_S', 'beta_E']]\n"
      ]
    },
    {
      "cell_type": "markdown",
      "id": "I-zuBkUfxy2w",
      "metadata": {
        "id": "I-zuBkUfxy2w"
      },
      "source": [
        "The exposure of a portfolio $X$ to the MACR factor is\n",
        "\n",
        "$$\\text{portfolio $X$ exposure to MACR factor:}~~  x_C\\beta_{MACR,C} + x_B\\beta_{MACR,B}+x_S\\beta_{MACR,S}+x_E\\beta_{MACR,E}$$\n",
        "\n",
        "The code below performs this calculation for the three portfolios `MVA_unconstr_weights`, `MVA_constr_weights`, and `RP_weights`"
      ]
    },
    {
      "cell_type": "code",
      "execution_count": 54,
      "id": "WUSyHM1ox-8K",
      "metadata": {
        "colab": {
          "base_uri": "https://localhost:8080/"
        },
        "id": "WUSyHM1ox-8K",
        "outputId": "60093b15-64a1-47b3-f9d2-b3340b0e0a53"
      },
      "outputs": [
        {
          "name": "stdout",
          "output_type": "stream",
          "text": [
            "Exposure of MVA_unconstr portfolio to MACR factor: 0.7820426654939108\n",
            "Exposure of MVA_constr portfolio to MACR factor  : 0.8554471684381988\n",
            "Exposure of RP portfolio to MACR factor          : 0.6896189914092726\n"
          ]
        }
      ],
      "source": [
        "beta_MVA_uconstr_MACR = MVA_unconstr_weights @ beta_MACR\n",
        "beta_MVA_constr_MACR = MVA_constr_weights @ beta_MACR\n",
        "beta_RP_MACR = RP_weights @ beta_MACR\n",
        "\n",
        "print(\"Exposure of MVA_unconstr portfolio to MACR factor:\", beta_MVA_uconstr_MACR)\n",
        "print(\"Exposure of MVA_constr portfolio to MACR factor  :\", beta_MVA_constr_MACR)\n",
        "print(\"Exposure of RP portfolio to MACR factor          :\", beta_RP_MACR)\n"
      ]
    },
    {
      "cell_type": "markdown",
      "id": "3Y01rBzqrS-r",
      "metadata": {
        "id": "3Y01rBzqrS-r"
      },
      "source": [
        "Here below we compute the exposure of the three portfolios to all the three factors and collect the results in a dataframe that we display below"
      ]
    },
    {
      "cell_type": "code",
      "execution_count": 55,
      "id": "_qbJ_loiyiyI",
      "metadata": {
        "colab": {
          "base_uri": "https://localhost:8080/",
          "height": 332
        },
        "id": "_qbJ_loiyiyI",
        "outputId": "780d3678-85bd-47ea-e627-10e3385b9b45"
      },
      "outputs": [
        {
          "data": {
            "text/html": [
              "<div>\n",
              "<style scoped>\n",
              "    .dataframe tbody tr th:only-of-type {\n",
              "        vertical-align: middle;\n",
              "    }\n",
              "\n",
              "    .dataframe tbody tr th {\n",
              "        vertical-align: top;\n",
              "    }\n",
              "\n",
              "    .dataframe thead th {\n",
              "        text-align: right;\n",
              "    }\n",
              "</style>\n",
              "<table border=\"1\" class=\"dataframe\">\n",
              "  <thead>\n",
              "    <tr style=\"text-align: right;\">\n",
              "      <th></th>\n",
              "      <th></th>\n",
              "      <th>MVA_unconstr</th>\n",
              "      <th>MVA_constr</th>\n",
              "      <th>Risk Parity</th>\n",
              "    </tr>\n",
              "  </thead>\n",
              "  <tbody>\n",
              "    <tr>\n",
              "      <th>0</th>\n",
              "      <td>x_C</td>\n",
              "      <td>-0.257403</td>\n",
              "      <td>0.000000</td>\n",
              "      <td>-0.522067</td>\n",
              "    </tr>\n",
              "    <tr>\n",
              "      <th>1</th>\n",
              "      <td>x_B</td>\n",
              "      <td>0.691650</td>\n",
              "      <td>0.253083</td>\n",
              "      <td>1.176471</td>\n",
              "    </tr>\n",
              "    <tr>\n",
              "      <th>2</th>\n",
              "      <td>x_S</td>\n",
              "      <td>0.238900</td>\n",
              "      <td>0.210433</td>\n",
              "      <td>0.217391</td>\n",
              "    </tr>\n",
              "    <tr>\n",
              "      <th>3</th>\n",
              "      <td>x_E</td>\n",
              "      <td>0.326853</td>\n",
              "      <td>0.536484</td>\n",
              "      <td>0.128205</td>\n",
              "    </tr>\n",
              "    <tr>\n",
              "      <th>4</th>\n",
              "      <td>beta_MACR</td>\n",
              "      <td>0.782043</td>\n",
              "      <td>0.855447</td>\n",
              "      <td>0.689619</td>\n",
              "    </tr>\n",
              "    <tr>\n",
              "      <th>5</th>\n",
              "      <td>beta_INFL</td>\n",
              "      <td>0.084176</td>\n",
              "      <td>0.330139</td>\n",
              "      <td>-0.189062</td>\n",
              "    </tr>\n",
              "    <tr>\n",
              "      <th>6</th>\n",
              "      <td>beta_ILLIQ</td>\n",
              "      <td>0.286754</td>\n",
              "      <td>-0.024922</td>\n",
              "      <td>0.602171</td>\n",
              "    </tr>\n",
              "    <tr>\n",
              "      <th>7</th>\n",
              "      <td>Portfolio expected return</td>\n",
              "      <td>0.080000</td>\n",
              "      <td>0.080130</td>\n",
              "      <td>0.080000</td>\n",
              "    </tr>\n",
              "    <tr>\n",
              "      <th>8</th>\n",
              "      <td>Portfolio volatility</td>\n",
              "      <td>0.087308</td>\n",
              "      <td>0.099277</td>\n",
              "      <td>0.099024</td>\n",
              "    </tr>\n",
              "  </tbody>\n",
              "</table>\n",
              "</div>"
            ],
            "text/plain": [
              "                              MVA_unconstr  MVA_constr  Risk Parity\n",
              "0                        x_C     -0.257403    0.000000    -0.522067\n",
              "1                        x_B      0.691650    0.253083     1.176471\n",
              "2                        x_S      0.238900    0.210433     0.217391\n",
              "3                        x_E      0.326853    0.536484     0.128205\n",
              "4                  beta_MACR      0.782043    0.855447     0.689619\n",
              "5                  beta_INFL      0.084176    0.330139    -0.189062\n",
              "6                 beta_ILLIQ      0.286754   -0.024922     0.602171\n",
              "7  Portfolio expected return      0.080000    0.080130     0.080000\n",
              "8       Portfolio volatility      0.087308    0.099277     0.099024"
            ]
          },
          "execution_count": 55,
          "metadata": {},
          "output_type": "execute_result"
        }
      ],
      "source": [
        "# Compute the portfolio exposures to the three factors MACR, INFL, and ILLIQ\n",
        "beta_MVA_unconstr_MACR = MVA_unconstr_weights @ beta_MACR\n",
        "beta_MVA_constr_MACR = MVA_constr_weights @ beta_MACR\n",
        "beta_RP_MACR = RP_weights @ beta_MACR\n",
        "\n",
        "beta_MVA_unconstr_INFL = MVA_unconstr_weights @ beta_INFL\n",
        "beta_MVA_constr_INFL = MVA_constr_weights @ beta_INFL\n",
        "beta_RP_INFL = RP_weights @ beta_INFL\n",
        "\n",
        "beta_MVA_unconstr_ILLIQ = MVA_unconstr_weights @ beta_ILLIQ\n",
        "beta_MVA_constr_ILLIQ = MVA_constr_weights @ beta_ILLIQ\n",
        "beta_RP_ILLIQ = RP_weights @ beta_ILLIQ\n",
        "\n",
        "# Expeted returns\n",
        "\n",
        "mu = mrf_moments['Expected Return']\n",
        "MVA_unconstr_expRet = portfolio_return(MVA_unconstr_weights, mu)\n",
        "MVA_constr_expRet = portfolio_return(MVA_constr_weights, mu)\n",
        "RP_vol_expRet = portfolio_return(RP_weights, mu)\n",
        "\n",
        "#correlation matrix -- Risky and riskless assets\n",
        "corr = np.array([\n",
        "    [rho_CC, rho_CB, rho_CS, rho_CE],\n",
        "    [rho_BC, rho_BB, rho_BS, rho_BE],\n",
        "    [rho_SC, rho_SB, rho_SS, rho_SE],\n",
        "    [rho_EC, rho_EB, rho_ES, rho_EE]\n",
        "])\n",
        "\n",
        "vol = mrf_moments['Volatility'];\n",
        "cov_matrix_full = np.outer(vol, vol) * corr #covariance matrix\n",
        "\n",
        "\n",
        "MVA_unconstr_vol = portfolio_volatility(MVA_unconstr_weights, cov_matrix_full)\n",
        "MVA_constr_vol = portfolio_volatility(MVA_constr_weights, cov_matrix_full)\n",
        "RP_vol = portfolio_volatility(RP_weights, cov_matrix_full)\n",
        "\n",
        "\n",
        "# Collect the results in a dataframe\n",
        "results = pd.DataFrame({\n",
        "        ' ': ['x_C', 'x_B', 'x_S', 'x_E', 'beta_MACR', 'beta_INFL', 'beta_ILLIQ', 'Portfolio expected return', 'Portfolio volatility'],\n",
        "        'MVA_unconstr': np.append(MVA_unconstr_weights, [beta_MVA_unconstr_MACR, beta_MVA_unconstr_INFL, beta_MVA_unconstr_ILLIQ, MVA_unconstr_expRet, MVA_unconstr_vol ]),\n",
        "        'MVA_constr': np.append(MVA_constr_weights, [beta_MVA_constr_MACR, beta_MVA_constr_INFL, beta_MVA_constr_ILLIQ, MVA_constr_expRet, MVA_constr_vol ]),\n",
        "        'Risk Parity': np.append(RP_weights, [beta_RP_MACR, beta_RP_INFL, beta_RP_ILLIQ, RP_vol_expRet, RP_vol ])\n",
        "    })\n",
        "\n",
        "results"
      ]
    },
    {
      "cell_type": "markdown",
      "id": "esKtyBze_Rz_",
      "metadata": {
        "id": "esKtyBze_Rz_"
      },
      "source": [
        "Shorting cash in the MVA allows a reduction in MACR exposure and moves it to ILLIQ. The risk parity portfolio shifts more to ILLIQ and takes less MACR exposure. All of these portfolios achieve an expected return of 8\\%; the difference is what risk exposures we take to get that expected return."
      ]
    }
  ],
  "metadata": {
    "colab": {
      "provenance": []
    },
    "kernelspec": {
      "display_name": "Python 3 (ipykernel)",
      "language": "python",
      "name": "python3"
    },
    "language_info": {
      "codemirror_mode": {
        "name": "ipython",
        "version": 3
      },
      "file_extension": ".py",
      "mimetype": "text/x-python",
      "name": "python",
      "nbconvert_exporter": "python",
      "pygments_lexer": "ipython3",
      "version": "3.12.0"
    }
  },
  "nbformat": 4,
  "nbformat_minor": 5
}
