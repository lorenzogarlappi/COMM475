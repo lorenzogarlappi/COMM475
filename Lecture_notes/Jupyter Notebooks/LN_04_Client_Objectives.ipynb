{
 "cells": [
  {
   "cell_type": "markdown",
   "id": "6331547b",
   "metadata": {
    "id": "6331547b"
   },
   "source": [
    "# **COMM475--Investment Policies: Client Objective**\n",
    "\n",
    "Instructor: Lorenzo Garlappi &copy; 2024<sup>*</sup>\n",
    "\n",
    "TA: Tianping Wu\n",
    "\n",
    "<sup>*</sup> <small>These notes are based on Rob Heinkel and Bill Tilford's lecture notes. I am grateful to them for generously sharing this material with me.</small>"
   ]
  },
  {
   "cell_type": "markdown",
   "id": "oib76FU68A-p",
   "metadata": {
    "id": "oib76FU68A-p"
   },
   "source": [
    "# The Strategic Asset Allocation (SAA) Decision\n",
    "\n",
    "\n",
    "**Client Preferences**\n",
    "\n",
    "a. \"Mean-Variance\" tastes\n",
    "\n",
    "b. Individual Client: has a specific investment horizon (retirement day)\n",
    "\n",
    "c. A dynamic strategy: life-cycle investing\n",
    "\n",
    "d. Institutional Client: has very long (infinite?) stream of payments to make\n",
    "\n",
    "**Individual Risk/Reward Analysis**\n",
    "\n",
    "a. Objective: choose preferred distribution of start-of-retirement wealth\n",
    "\n",
    "b. Variables = Asset Class Weights (SAA)\n",
    "\n",
    "c. Use \"life-cycle investing\" to account for personal human capital\n",
    "\n",
    "**Institutional Risk/Reward Analysis**\n",
    "\n",
    "a. Institution has a liability = the present value of all promised payments into the future\n",
    "\n",
    "b. Pension Plan Structures: Defined Benefits (DB) Plans; Defined Contribution (DC) Plans\n",
    "\n",
    "c. Objective: trustees must choose the reward-risk trade-off of the Funding Surplus (FS): FS = Assets - Liability\n",
    "\n",
    "Choice Variables = Asset Class Weightings (SAA)\n"
   ]
  },
  {
   "cell_type": "markdown",
   "id": "gqglQomyZMkq",
   "metadata": {
    "id": "gqglQomyZMkq"
   },
   "source": [
    "#Individual Client Objectives and the SAA Decision\n",
    "\n",
    "**Using Mean-Variance Analysis to Choose an SAA**\n",
    "\n",
    "**Individual Client: has a specific investment horizon (retirement day)**"
   ]
  },
  {
   "cell_type": "markdown",
   "id": "ZObfM3289Vok",
   "metadata": {
    "id": "ZObfM3289Vok"
   },
   "source": [
    "If the individual is planning for retirement, she is concerned with the expected value of her portfolio at retirement (date $T$) and the range of possible portfolio values at date $T$, i.e., the risk of the portfolio. She can adjust this by choosing the expected return and standard deviation of return on her portfolio. This SAA decision can be re-assessed each year as retirement approaches.\n",
    "\n",
    "On the next page we show a mean-variance efficient frontier (we will demonstrate shortly where this comes from). Each point on the efficient frontier represents a different SAA mix, i.e., different mixes of the allowed asset classes, like T-bills, bonds and stock.\n",
    "\n",
    "Point ($A$) on the efficient frontier corresponds to a low-risk strategic asset allocation: $100\\%$ T-bills. Point ($B$) is a risky strategic asset allocation: $33\\%$ T-bills and $67\\%$ stock. If the client starts with $\\$1$ and is investing for 20 years, the expected ending wealth is shown: $\\$1.486$ for mix ($A$) and $\\$3.207$ for mix ($B$). The range of ending wealth (plus and minus two standard deviations, as shown) is very narrow for the low-risk SAA mix, and very much wider for SAA mix ($B$). Note that there is almost no chance that the riskier mix will leave the investor with less than the low-risk mix, setting aside the likelihood of a \"black swan\" event!\n",
    "\n",
    "Each year the client could re-visit this decision based upon the years remaining to retirement and her actual return experience (i.e., her current wealth).\n"
   ]
  },
  {
   "cell_type": "markdown",
   "id": "ihsXEMIyJCIY",
   "metadata": {
    "id": "ihsXEMIyJCIY"
   },
   "source": [
    "You are considering two extreme points to invest for a 20 year investment horizon:\n",
    "\n",
    "Point $A: E(r_{p})=0.02=2 \\%$ $\\quad \\sigma(r_{p})=0.01=1 \\%$\n",
    "\n",
    "Point $B: E(r_{p})=0.06=6 \\% \\quad \\sigma(r_{p})=0.167=16.7 \\%$\n",
    "\n",
    "The graph below shows the combinations of two assets: a low return, low risk T-Bill / bond portfolio and a high return, high risk stock portfolio."
   ]
  },
  {
   "cell_type": "code",
   "execution_count": 2,
   "id": "Av28unWiVp9k",
   "metadata": {
    "id": "Av28unWiVp9k"
   },
   "outputs": [],
   "source": [
    "#Define the points with the return and volatility of two portfolios\n",
    "\n",
    "#expected return\n",
    "mu_A = 0.02\n",
    "mu_B = 0.06\n",
    "\n",
    "#volatility\n",
    "sigma_A = 0.01\n",
    "sigma_B = 0.167\n",
    "\n",
    "#define the point A and point B\n",
    "points = {\n",
    "    'A': (sigma_A, mu_A),\n",
    "    'B': (sigma_B, mu_B)\n",
    "}"
   ]
  },
  {
   "cell_type": "code",
   "execution_count": 3,
   "id": "6hxrM3F5Yzpm",
   "metadata": {
    "colab": {
     "base_uri": "https://localhost:8080/",
     "height": 469
    },
    "id": "6hxrM3F5Yzpm",
    "outputId": "5621cc40-afda-4a06-bf7a-2075933c48ae"
   },
   "outputs": [
    {
     "data": {
      "image/png": "[encoded data removed]",
      "text/plain": [
       "<Figure size 800x500 with 1 Axes>"
      ]
     },
     "metadata": {},
     "output_type": "display_data"
    }
   ],
   "source": [
    "import matplotlib.pyplot as plt #matplotlib.pyplot for plotting\n",
    "\n",
    "# Create the plot's initial size\n",
    "plt.figure(figsize=(8, 5))\n",
    "\n",
    "# Plot the points\n",
    "for label, (x, y) in points.items():\n",
    "    if label == 'A':\n",
    "        plt.scatter(x, y, color='blue', zorder=5)\n",
    "    else:\n",
    "        plt.scatter(x, y, color='red', zorder=5)\n",
    "    if label == 'A':\n",
    "        plt.text(x + 0.01, y-0.002, f'  {label}', va='bottom', ha='right', fontsize=12)\n",
    "    else:\n",
    "        plt.text(x, y-0.004, f'  {label}', va='bottom', ha='right', fontsize=12)\n",
    "\n",
    "# Set labels and title\n",
    "plt.xlabel(r'Volatility, $\\sigma$')\n",
    "plt.ylabel(r'Expected return, $\\mu$')\n",
    "plt.grid(True)\n",
    "\n",
    "# Show the plot\n",
    "plt.show()"
   ]
  },
  {
   "cell_type": "markdown",
   "id": "sqYnY3Bcmi-O",
   "metadata": {
    "id": "sqYnY3Bcmi-O"
   },
   "source": [
    "We can calculate the range of possible ending (20 year) wealth levels per $\\$1$ invested:"
   ]
  },
  {
   "cell_type": "markdown",
   "id": "AP94_5dkQyTQ",
   "metadata": {
    "id": "AP94_5dkQyTQ"
   },
   "source": [
    "Calculate the horizon expected return, confidence interval and volatility:"
   ]
  },
  {
   "cell_type": "code",
   "execution_count": 4,
   "id": "sOWNlpG_Qgpx",
   "metadata": {
    "id": "sOWNlpG_Qgpx"
   },
   "outputs": [],
   "source": [
    "#Define the function to calculate the horizon expected return\n",
    "def horizon_mu(mu, year):\n",
    "    return (1+mu) ** year\n",
    "\n",
    "#Define the function to calculate the horizon volatility\n",
    "def horizon_sigma(sigma, year):\n",
    "    return sigma*(year ** 0.5)\n",
    "\n",
    "#Define the function to calculate the upper bound of horizon expected return\n",
    "def upper_mu(horizon_mu, horizon_sigma, year):\n",
    "    return horizon_mu + 2*horizon_sigma\n",
    "\n",
    "\n",
    "#Define the function to calculate the lower bound of horizon expected return\n",
    "def lower_mu(horizon_mu, horizon_sigma, year):\n",
    "    return horizon_mu - 2*horizon_sigma"
   ]
  },
  {
   "cell_type": "markdown",
   "id": "vHQknLBASsrH",
   "metadata": {
    "id": "vHQknLBASsrH"
   },
   "source": [
    "Input the value of the year:"
   ]
  },
  {
   "cell_type": "code",
   "execution_count": 5,
   "id": "vi3PgjYDO-1g",
   "metadata": {
    "id": "vi3PgjYDO-1g"
   },
   "outputs": [],
   "source": [
    "year = 20"
   ]
  },
  {
   "cell_type": "markdown",
   "id": "klIrEwjzSyOY",
   "metadata": {
    "id": "klIrEwjzSyOY"
   },
   "source": [
    "Point A:"
   ]
  },
  {
   "cell_type": "code",
   "execution_count": 6,
   "id": "BmsSRiDES0j2",
   "metadata": {
    "colab": {
     "base_uri": "https://localhost:8080/"
    },
    "id": "BmsSRiDES0j2",
    "outputId": "8f80a375-a827-45e6-ac7b-b7e8957efb40"
   },
   "outputs": [
    {
     "name": "stdout",
     "output_type": "stream",
     "text": [
      "Expected return of A after 20 years:  1.486\n",
      "Volatility of A after 20 years:  0.045\n",
      "Upper bound of A after 20 years:  1.575\n",
      "Lower bound of A after 20 years:  1.397\n"
     ]
    }
   ],
   "source": [
    "## input expected return and volatility of A\n",
    "mu = mu_A\n",
    "sigma = sigma_A\n",
    "\n",
    "## output\n",
    "print(\"Expected return of A after 20 years: \", f\"{horizon_mu(mu, year):.3f}\")\n",
    "print(\"Volatility of A after 20 years: \", f\"{horizon_sigma(sigma, year):.3f}\")\n",
    "print(\"Upper bound of A after 20 years: \", f\"{upper_mu(horizon_mu(mu, year), horizon_sigma(sigma, year), year):.3f}\")\n",
    "print(\"Lower bound of A after 20 years: \", f\"{lower_mu(horizon_mu(mu, year), horizon_sigma(sigma, year), year):.3f}\")"
   ]
  },
  {
   "cell_type": "markdown",
   "id": "e4q7YVfmfaDz",
   "metadata": {
    "id": "e4q7YVfmfaDz"
   },
   "source": [
    "Point B:"
   ]
  },
  {
   "cell_type": "code",
   "execution_count": 7,
   "id": "qWwrk16XfdO4",
   "metadata": {
    "colab": {
     "base_uri": "https://localhost:8080/"
    },
    "id": "qWwrk16XfdO4",
    "outputId": "f70fb530-aef4-4c58-d8d4-ceb659372d6f"
   },
   "outputs": [
    {
     "name": "stdout",
     "output_type": "stream",
     "text": [
      "Expected return of B after 20 years:  3.207\n",
      "Volatility of B after 20 years:  0.747\n",
      "Upper bound of B after 20 years:  4.701\n",
      "Lower bound of B after 20 years:  1.713\n"
     ]
    }
   ],
   "source": [
    "## input expected return and volatility of B\n",
    "mu = mu_B\n",
    "sigma = sigma_B\n",
    "\n",
    "## output\n",
    "print(\"Expected return of B after 20 years: \", f\"{horizon_mu(mu, year):.3f}\")\n",
    "print(\"Volatility of B after 20 years: \", f\"{horizon_sigma(sigma, year):.3f}\")\n",
    "print(\"Upper bound of B after 20 years: \", f\"{upper_mu(horizon_mu(mu, year), horizon_sigma(sigma, year), year):.3f}\")\n",
    "print(\"Lower bound of B after 20 years: \", f\"{lower_mu(horizon_mu(mu, year), horizon_sigma(sigma, year), year):.3f}\")"
   ]
  },
  {
   "cell_type": "markdown",
   "id": "_NHK3YRsKl_w",
   "metadata": {
    "id": "_NHK3YRsKl_w"
   },
   "source": [
    "By adding to and subtracting from the mean wealth two times the standard deviation of the wealth, we get a roughly $95\\%$ of a normal probability distribution. The probability of B having an outcome below A is less than $2.5 \\%\\times2.5 \\%$, or almost zero. Most rational investors would, for a $20$ year investment horizon, choose portfolio $B$ or $A$.\n",
    "\n",
    "This is partly due to the effect of time on risk and return: Return goes up exponentially with time, but risk only goes up by the square root of time.\n",
    "\n"
   ]
  },
  {
   "cell_type": "code",
   "execution_count": 8,
   "id": "F9DV8LXpL-ij",
   "metadata": {
    "colab": {
     "base_uri": "https://localhost:8080/",
     "height": 467
    },
    "id": "F9DV8LXpL-ij",
    "outputId": "30c3ecff-2661-4190-e3e7-7be50cdbe385"
   },
   "outputs": [
    {
     "data": {
      "text/plain": [
       "<module 'matplotlib.pyplot' from '/Library/Frameworks/Python.framework/Versions/3.11/lib/python3.11/site-packages/matplotlib/pyplot.py'>"
      ]
     },
     "execution_count": 8,
     "metadata": {},
     "output_type": "execute_result"
    },
    {
     "data": {
      "image/png": "[encoded data removed]",
      "text/plain": [
       "<Figure size 640x480 with 1 Axes>"
      ]
     },
     "metadata": {},
     "output_type": "display_data"
    }
   ],
   "source": [
    "import numpy as np\n",
    "import matplotlib.pyplot as plt\n",
    "\n",
    "mu_A = 0.02\n",
    "sigma_A = 0.01\n",
    "mu_B = 0.06\n",
    "sigma_B = 0.167\n",
    "\n",
    "T_years = 20\n",
    "freq = 12\n",
    "T = T_years*freq\n",
    "\n",
    "def simulate_returns(mu_A, sigma_A, mu_B, sigma_B, T, freq):\n",
    "    shocks = np.random.randn(T)\n",
    "    r_A = mu_A/freq + shocks*sigma_A/np.sqrt(freq)\n",
    "    r_B = mu_B/freq + shocks*sigma_B/np.sqrt(freq)\n",
    "\n",
    "    # compute the cumulative returns starting with 1 dollar\n",
    "    W_A = np.cumprod(1 + r_A)\n",
    "    W_B = np.cumprod(1 + r_B)\n",
    "\n",
    "    # add 1 at the beginning of the vectors W_A and W_B\n",
    "    W_A = np.concatenate(([1], W_A))\n",
    "    W_B = np.concatenate(([1], W_B))\n",
    "\n",
    "    return r_A, r_B, W_A, W_B\n",
    "\n",
    "r_A, r_B, W_A, W_B = simulate_returns(mu_A, sigma_A, mu_B, sigma_B, T, freq)\n",
    "\n",
    "\n",
    "plt.plot(r_A, label=r\"$r_A$\", linewidth=2.5, color='blue')\n",
    "plt.plot(r_B, label=r\"$r_B$\", linewidth=2, color='red', alpha=0.7)\n",
    "# put ticks on the axis that mark the years instead of the months\n",
    "plt.xticks(np.arange(0, T+1, freq), np.arange(0, T_years+1))\n",
    "plt.xlabel(\"Time (years)\")\n",
    "plt.ylabel(\"Returns\")\n",
    "plt.legend()\n",
    "plt\n",
    "\n"
   ]
  },
  {
   "cell_type": "code",
   "execution_count": 9,
   "id": "A3OKg-ibMC9X",
   "metadata": {
    "colab": {
     "base_uri": "https://localhost:8080/",
     "height": 449
    },
    "id": "A3OKg-ibMC9X",
    "outputId": "537db897-115f-4cb8-8cfa-c777600c14ae"
   },
   "outputs": [
    {
     "data": {
      "image/png": "[encoded data removed]",
      "text/plain": [
       "<Figure size 640x480 with 1 Axes>"
      ]
     },
     "metadata": {},
     "output_type": "display_data"
    }
   ],
   "source": [
    "import numpy as np\n",
    "import matplotlib.pyplot as plt\n",
    "\n",
    "T_years = 20\n",
    "\n",
    "# Calculate means, upper bounds, and lower bounds\n",
    "MEAN_A = (1 + mu_A) ** np.arange(0, T_years+1)\n",
    "MEAN_B = (1 + mu_B) ** np.arange(0, T_years+1)\n",
    "\n",
    "UB_A = (1 + mu_A) ** np.arange(0, T_years+1) + 1.96*sigma_A*np.sqrt(np.arange(0, T_years+1))\n",
    "UB_B = (1 + mu_B) ** np.arange(0, T_years+1) + 1.96*sigma_B*np.sqrt(np.arange(0, T_years+1))\n",
    "\n",
    "LB_A = (1 + mu_A) ** np.arange(0, T_years+1) - 1.96*sigma_A*np.sqrt(np.arange(0, T_years+1))\n",
    "LB_B = (1 + mu_B) ** np.arange(0, T_years+1) - 1.96*sigma_B*np.sqrt(np.arange(0, T_years+1))\n",
    "\n",
    "# Plot the results\n",
    "plt.plot(np.arange(0, T_years+1), MEAN_A, color='blue', label=r\"$E[W_A]$\", linewidth=2)\n",
    "plt.plot(np.arange(0, T_years+1), UB_A, linestyle='dashed', color='blue', label=r\"$97.5\\%$\")\n",
    "plt.plot(np.arange(0, T_years+1), LB_A, linestyle='dashed', color='blue', label=r\"$2.5\\%$\")\n",
    "\n",
    "plt.plot(np.arange(0, T_years+1), MEAN_B, color='red', label=r\"$E[W_B]$\", linewidth=2)\n",
    "plt.plot(np.arange(0, T_years+1), UB_B, linestyle='dashed', color='red', label=r\"$97.5\\%$\")\n",
    "plt.plot(np.arange(0, T_years+1), LB_B, linestyle='dashed', color='red', label=r\"$2.5\\%$\")\n",
    "\n",
    "# Make the lines thicker\n",
    "plt.gca().set_prop_cycle(None)  # Reset color cycle\n",
    "plt.plot(np.arange(0, T_years+1), MEAN_A, color='blue', linewidth=2)\n",
    "plt.plot(np.arange(0, T_years+1), UB_A, linestyle='dashed', color='blue', linewidth=2)\n",
    "plt.plot(np.arange(0, T_years+1), LB_A, linestyle='dashed', color='blue', linewidth=2)\n",
    "\n",
    "plt.plot(np.arange(0, T_years+1), MEAN_B, color='red', linewidth=2)\n",
    "plt.plot(np.arange(0, T_years+1), UB_B, linestyle='dashed', color='red', linewidth=2)\n",
    "plt.plot(np.arange(0, T_years+1), LB_B, linestyle='dashed', color='red', linewidth=2)\n",
    "\n",
    "# Set labels\n",
    "plt.xlabel(\"Time (years)\")\n",
    "plt.ylabel(\"Wealth\")\n",
    "\n",
    "# Show legend\n",
    "plt.legend()\n",
    "\n",
    "# Show the plot\n",
    "plt.show()\n"
   ]
  },
  {
   "cell_type": "markdown",
   "id": "qTfI9hnWLKAu",
   "metadata": {
    "id": "qTfI9hnWLKAu"
   },
   "source": [
    "<!-- **The Individual SAA Decision - Constructing the Mean-Variance Efficient Frontier**\n",
    "\n",
    "Suppose the client allows three asset classes: (1) T-bills, (2) bonds and (3) stocks. -->\n",
    "\n",
    "<!-- To construct the M-V efficient frontier, the first step is to find the minimum variance portfolio. This is the mix that is as far to the left in the $M-V$ graph as possible, regardless of expected return. This comes from choosing the weights, $X_{1}$ on T-bills, $X_{2}$ on bonds and $X_{3}=1-X_{1}-X_{2}$ in stock, to minimize the portfolio return variance:\n",
    "\n",
    "\\begin{align*}\n",
    "\\sigma_{p}^{2}=&X_{1}^{2} \\sigma_{1}^{2}+X_{2}^{2} \\sigma_{2}^{2}+\\left(1-X_{1}-X_{2}\\right)^{2} \\sigma_{3}^{2}+ \\\\\n",
    "&2 X_{1} X_{2} \\sigma_{1,2}+2 X_{1}\\left(1-X_{1}-X_{2}\\right) \\sigma_{1,3}+2 X_{2}\\left(1-X_{1}-X_{2}\\right) \\sigma_{2,3}\n",
    "\\end{align*}\n",
    "\n",
    "where $\\sigma_{i, j}$ is the covariance of the return on asset classes $i$ and $j$ and $\\sigma_{j}$ is the standard deviation of return on class $j$.\n",
    "\n",
    "Taking the derivatives of $\\sigma_{p}^{2}$ with respect to $X_{1}$ and $X_{2}$ gives two linear equations that can be solved for $X_{1}$ and $X_{2}$ and then $X_{3}=1-X_{1}-X_{2}$. Plugging these solutions into $\\sigma_{p}^{2}$ and $E\\left(r_{p}\\right)=X_{1} E\\left(r_{1}\\right)+$ $X_{2} E\\left(r_{2}\\right)+X_{3} E\\left(r_{3}\\right)$ gives us the point to plot in the mean-variance graph.\n",
    "\n",
    "The second step in constructing the M-V efficient frontier is to trace out the rest of the efficient frontier. We now solve a constrained minimization. We choose $X_{1}$ and $X_{2}$ to minimize $\\sigma_{p}^{2}$ subject to the portfolio having a specified expected return, ERP: $E R P=X_{1} E\\left(r_{1}\\right)+X_{2} E\\left(r_{2}\\right)+X_{3} E\\left(r_{3}\\right)$.\n",
    "\n",
    "We set ERP at different levels, starting at just a little bigger than the expected return on the minimum variance portfolio, and then getting bigger. For each ERP we solve the constrained minimization, getting the optimal asset class weights and the portfolio's expected return and standard deviation. We can then plot these, to get the mean-variance efficient frontier. -->\n",
    "\n",
    "<!-- The constrained optimization for a relatively simple problem like this can easily be set up on Excel to use Solver. In the 475 course Canvas module for spreadsheets you will find a file (MeanVariancePortfolioCalculator) with an optimizer on tab \"Optimizer.\" By clicking on \"data\" and \"Solver\" you can see the set-up for the constrained optimization. -->\n"
   ]
  },
  {
   "cell_type": "markdown",
   "id": "WSlvVLL9MFvM",
   "metadata": {
    "id": "WSlvVLL9MFvM"
   },
   "source": [
    "**A Mean Variance Efficient Frontier Example**\n",
    "\n",
    "Suppose we have the following data (see Hamilton and Heinkel (1994) \"*The Role of Real Estate in a Pension Portfolio*\", Bureau of Asset Management, University of British Columbia):"
   ]
  },
  {
   "cell_type": "markdown",
   "id": "TTumUu4eNKIs",
   "metadata": {
    "id": "TTumUu4eNKIs"
   },
   "source": [
    "| Asset Class   | Expected Returns (Quarterly) | Standard Deviation (Quarterly) |\n",
    "|---------------|-----------------------------|--------------------------------|\n",
    "| T-Bill        | 1%                          | 1%                             |\n",
    "| GoC           | 1.50%                       | 7%                             |\n",
    "| TSX (Cda)     | 2.10%                       | 9%                             |\n",
    "| DJI (US)      | 2.20%                       | 10%                            |\n",
    "| Real Estate (RE) | 1.50%                    | 8%                             |\n"
   ]
  },
  {
   "cell_type": "markdown",
   "id": "G8jG6f0ogoI0",
   "metadata": {
    "id": "G8jG6f0ogoI0"
   },
   "source": [
    "Correlations:"
   ]
  },
  {
   "cell_type": "markdown",
   "id": "_5gH4bvHNdb5",
   "metadata": {
    "id": "_5gH4bvHNdb5"
   },
   "source": [
    "<br>\n",
    "\n",
    "|         | T-Bill | GoC  | TSX  | DJI  | RE   |\n",
    "|---------|--------|------|------|------|------|\n",
    "| T-Bill  | 100%   | 15%  | -10% | -5%  | 15%  |\n",
    "| GoC     | 15%    | 100% | 40%  | 40%  | -15% |\n",
    "| TSX     | -10%   | 40%  | 100% | 75%  | -2%  |\n",
    "| DJI     | -5%    | 40%  | 75%  | 100% | -12% |\n",
    "| RE      | 15%    | -15% | -2%  | -12% | 100% |\n"
   ]
  },
  {
   "cell_type": "markdown",
   "id": "Mcle1gwp0Dun",
   "metadata": {
    "id": "Mcle1gwp0Dun"
   },
   "source": [
    "Let us first import packages that we need for our analysis"
   ]
  },
  {
   "cell_type": "code",
   "execution_count": 10,
   "id": "GdnMYtQ02WsP",
   "metadata": {
    "id": "GdnMYtQ02WsP"
   },
   "outputs": [],
   "source": [
    "# import packages\n",
    "\n",
    "import numpy as np   # needed to perform mathematical operations\n",
    "import matplotlib.pyplot as plt # needed to plot graphs\n",
    "from scipy.optimize import minimize # needed to solve optimization problems\n",
    "import pandas as pd  # to handle dataframes"
   ]
  },
  {
   "cell_type": "markdown",
   "id": "WjBdknks2ZXk",
   "metadata": {
    "id": "WjBdknks2ZXk"
   },
   "source": [
    "Here we manually input the expected returns, variances and correlations of risky assets"
   ]
  },
  {
   "cell_type": "code",
   "execution_count": 11,
   "id": "iywQCjQFhF2q",
   "metadata": {
    "colab": {
     "background_save": true
    },
    "id": "iywQCjQFhF2q"
   },
   "outputs": [],
   "source": [
    "# Input Data\n",
    "\n",
    "# Expected returns\n",
    "mu_t = 0.01   # tbill\n",
    "mu_g = 0.015  # Bonds\n",
    "mu_ts = 0.021  # canada tsx\n",
    "mu_d = 0.022  # us dow jones\n",
    "mu_r = 0.015  # real estate\n",
    "\n",
    "# Volatilities\n",
    "sigma_t = 0.01   # tbill\n",
    "sigma_g = 0.07  # Bonds\n",
    "sigma_ts = 0.09  # canada tsx\n",
    "sigma_d = 0.1  # us dow jones\n",
    "sigma_r = 0.08  # real estate\n",
    "\n",
    "# Correlations\n",
    "rho_tt = 1.0\n",
    "rho_tg = 0.15\n",
    "rho_tts = -0.1\n",
    "rho_td = -0.05\n",
    "rho_tr = 0.15\n",
    "\n",
    "rho_gt = rho_tg\n",
    "rho_gg = 1.0\n",
    "rho_gts = 0.4\n",
    "rho_gd = 0.4\n",
    "rho_gr = -0.15\n",
    "\n",
    "rho_tst = rho_tts\n",
    "rho_tsg = rho_gts\n",
    "rho_tsts = 1\n",
    "rho_tsd = 0.75\n",
    "rho_tsr = -0.02\n",
    "\n",
    "rho_dt = rho_td\n",
    "rho_dg = rho_gd\n",
    "rho_dts = rho_tsd\n",
    "rho_dd = 1\n",
    "rho_dr = -0.12\n",
    "\n",
    "rho_rt = rho_tr\n",
    "rho_rg = rho_gr\n",
    "rho_rts = rho_tsr\n",
    "rho_rd = rho_dr\n",
    "rho_rr = 1\n",
    "\n"
   ]
  },
  {
   "cell_type": "markdown",
   "id": "wVdfrA7tz9-6",
   "metadata": {
    "id": "wVdfrA7tz9-6"
   },
   "source": [
    "Next, the input code is to collect data of risky assets in the vector/matrix form:"
   ]
  },
  {
   "cell_type": "code",
   "execution_count": 12,
   "id": "VJQ9LLoBz6fh",
   "metadata": {
    "colab": {
     "base_uri": "https://localhost:8080/"
    },
    "id": "VJQ9LLoBz6fh",
    "outputId": "98339799-9a07-4a9c-9ee8-bbf2dec67515"
   },
   "outputs": [
    {
     "name": "stdout",
     "output_type": "stream",
     "text": [
      "[0.01 0.07 0.09 0.1  0.08]\n",
      "[0.01  0.015 0.021 0.022 0.015]\n",
      "['T-bill', 'GoC', 'TSX', 'DJI', 'RE']\n"
     ]
    }
   ],
   "source": [
    "# Collect data of risky assets in vector/matrix form\n",
    "mu_vec = np.array([mu_t, mu_g, mu_ts, mu_d, mu_r])\n",
    "sigmas = np.array([sigma_t, sigma_g, sigma_ts, sigma_d, sigma_r])\n",
    "N = len(mu_vec)  # number of risky assets\n",
    "\n",
    "# Typical asset used in the\n",
    "asset_labels = ['T-bill', 'GoC', 'TSX', 'DJI', 'RE']\n",
    "\n",
    "#correlation matrix -- Risky assets only\n",
    "corr = np.array([\n",
    "    [rho_tt, rho_tg, rho_tts, rho_td, rho_tr],\n",
    "    [rho_gt, rho_gg, rho_gts, rho_gd, rho_gr],\n",
    "    [rho_tst, rho_tsg, rho_tsts, rho_tsd, rho_tsr],\n",
    "    [rho_dt, rho_dg, rho_dts, rho_dd, rho_dr],\n",
    "    [rho_rt, rho_rg, rho_rts, rho_rd, rho_rr]\n",
    "])\n",
    "\n",
    "cov_matrix = np.outer(sigmas, sigmas)*corr #covariance matrix\n",
    "\n",
    "print(sigmas)\n",
    "print(mu_vec)\n",
    "\n",
    "print(asset_labels)"
   ]
  },
  {
   "cell_type": "markdown",
   "id": "O11XlT4z2vZS",
   "metadata": {
    "id": "O11XlT4z2vZS"
   },
   "source": [
    "Here we construct two functions that take a generic portfolio $w$ and compute\n",
    "1. the expected portfolio return (`portfolio_return`)\n",
    "2. the portfolio volatility (`portfolio_volatility`)"
   ]
  },
  {
   "cell_type": "code",
   "execution_count": 13,
   "id": "QBjGc3hI2xEj",
   "metadata": {
    "colab": {
     "base_uri": "https://localhost:8080/"
    },
    "id": "QBjGc3hI2xEj",
    "outputId": "fd065b39-dab2-4d0b-a1e4-941f73a1079b"
   },
   "outputs": [
    {
     "name": "stdout",
     "output_type": "stream",
     "text": [
      "0.0166\n",
      "0.04468646327468757\n"
     ]
    }
   ],
   "source": [
    "# Functions for portfolio return and volatility\n",
    "def portfolio_return(w, mu):\n",
    "    # return np.dot(w, mu)\n",
    "    return w @ mu\n",
    "\n",
    "def portfolio_volatility(w, cov_matrix):\n",
    "    # return np.sqrt(np.dot(w.T, np.dot(cov_matrix, w)))\n",
    "    return np.sqrt( w @ cov_matrix @ w)\n",
    "\n",
    "\n",
    "# Let us test that the functions work using the equal weight 1/N\n",
    "w = np.ones(len(mu_vec))*(1.0 / len(mu_vec))\n",
    "\n",
    "print(portfolio_return(w, mu_vec))\n",
    "print(portfolio_volatility(w, cov_matrix))"
   ]
  },
  {
   "cell_type": "markdown",
   "id": "tCxR_aSn21Jg",
   "metadata": {
    "id": "tCxR_aSn21Jg"
   },
   "source": [
    "The next function construct the mean-variance frontier by solving the problem:\n",
    "$$\\min_{w} \\sqrt{w^\\top \\Sigma w},~~s.t. w^\n",
    "\\top \\mu = \\mu^*,~~\\text{and}~~w^\\top\\mathbf{1}=1$$\n",
    "\n",
    "By varying the target $\\mu^*$ we can trace the whole frontier\n",
    "\n",
    "We first define a function that does the optimization.\n",
    "\n",
    "**Note: We do not have the risk-free rate in this version!**"
   ]
  },
  {
   "cell_type": "code",
   "execution_count": 14,
   "id": "FDIwL_FWaCjF",
   "metadata": {
    "colab": {
     "base_uri": "https://localhost:8080/"
    },
    "id": "FDIwL_FWaCjF",
    "outputId": "00074ef5-a7dc-455c-d310-407fb3465aef"
   },
   "outputs": [
    {
     "data": {
      "text/plain": [
       "array([6.82413151e-19, 3.86587441e-17, 9.96963224e-12, 1.00000000e+00,\n",
       "       2.45989691e-18])"
      ]
     },
     "execution_count": 14,
     "metadata": {},
     "output_type": "execute_result"
    }
   ],
   "source": [
    "# This function computes the minimum volatility portfolio for a given target return\n",
    "def find_min_volatility_given_target_mean(mu, cov_matrix, return_target, constr_sw, guess):\n",
    "\n",
    "    N = len(mu) #number of assets\n",
    "    #Here we define the cobnstraints for our optimization problem\n",
    "    constraints = ({'type': 'eq', 'fun': lambda x: portfolio_return(x, mu) - return_target}, #portfolio return= target\n",
    "                    {'type': 'eq', 'fun': lambda x: np.sum(x) - 1})                               # sum of weights =1\n",
    "\n",
    "    if constr_sw == 1:\n",
    "        bounds = [(0, 1)]*N #No short-selling in all assets\n",
    "\n",
    "        # You can customize the constraints here\n",
    "        #  bounds = [(-0.1, 0.5), (-0.1, 0.5), (0, 0.5)]\n",
    "\n",
    "    # Solve the optimization problem\n",
    "    if constr_sw==1:\n",
    "        result = minimize(portfolio_volatility, guess, args=(cov_matrix), method='SLSQP', bounds = bounds, constraints=constraints)\n",
    "    else:\n",
    "        result = minimize(portfolio_volatility, guess, args=(cov_matrix), method='SLSQP', constraints=constraints)\n",
    "\n",
    "\n",
    "    return result\n",
    "\n",
    "\n",
    "# Test the function\n",
    "guess = np.ones(len(mu_vec))*(1.0 / len(mu_vec))\n",
    "constr_sw = 1\n",
    "mu_target = 0.08\n",
    "result = find_min_volatility_given_target_mean(mu_vec, cov_matrix, mu_target, constr_sw, guess)\n",
    "\n",
    "result.x"
   ]
  },
  {
   "cell_type": "markdown",
   "id": "O2CpDXOgbC37",
   "metadata": {
    "id": "O2CpDXOgbC37"
   },
   "source": [
    "We then define a function that invokes the function `find_min_volatility_given_target_mean()` for many values of $\\mu^*$ to construct the contraint frontier"
   ]
  },
  {
   "cell_type": "code",
   "execution_count": 15,
   "id": "KhKcaFcBbGlh",
   "metadata": {
    "id": "KhKcaFcBbGlh"
   },
   "outputs": [],
   "source": [
    "# Function that generates the Efficient Frontier\n",
    "num_points = 100 # number of points (mu_targets) used to draw the frontier\n",
    "\n",
    "def construct_mv_frontier(mu_vec, cov_matrix, constr_sw=0):\n",
    "    mu_LB = min(mu_vec)/1.01 # Lower bound of expected return target\n",
    "    mu_UB = max(mu_vec)*1.01 # Upper biond of expected return target\n",
    "\n",
    "    frontier_returns = np.linspace(mu_LB, mu_UB, num_points)  #construct a grid of expexted returns\n",
    "    frontier_risks = np.full(num_points, np.nan) #Initialize the frontier to NaN (= Not a Number)\n",
    "    all_weights = []  # Collect portfolio weights for each iteration\n",
    "\n",
    "\n",
    "    N = len(mu_vec)\n",
    "    init_guess = np.ones(N)*(1.0 / N) # this is the initial guess used by the optimization algorithm\n",
    "\n",
    "    # Define constraints and bounds (no short selling for the first asset)\n",
    "    for i in range(num_points):\n",
    "        return_target = frontier_returns[i]\n",
    "\n",
    "        #Here we invoke the function that determine the minimum volatility portfolio given a target return [defined above]\n",
    "        result = find_min_volatility_given_target_mean(mu_vec, cov_matrix, return_target, constr_sw, init_guess)\n",
    "\n",
    "    # Collect portfolio weights, expected return, and volatility\n",
    "        weights_dict = {'Weights': result.x, 'Expected Return': return_target, 'Volatility': result.fun}\n",
    "        all_weights.append(weights_dict)\n",
    "\n",
    "     # updated Initial guess to the most recent solution\n",
    "        init_guess = result.x\n",
    "\n",
    "        if result.success:\n",
    "            frontier_risks[i] = result.fun\n",
    "\n",
    "    # Convert the list of dictionaries to a DataFrame\n",
    "    df_weights = pd.DataFrame(all_weights)\n",
    "\n",
    "    return frontier_risks, frontier_returns, df_weights"
   ]
  },
  {
   "cell_type": "markdown",
   "id": "4ZtsM68pvgJL",
   "metadata": {
    "id": "4ZtsM68pvgJL"
   },
   "source": [
    "Then we plot the constraint frontier:"
   ]
  },
  {
   "cell_type": "code",
   "execution_count": 16,
   "id": "1UtdLH7IbSaD",
   "metadata": {
    "colab": {
     "base_uri": "https://localhost:8080/",
     "height": 494
    },
    "id": "1UtdLH7IbSaD",
    "outputId": "8d3e842a-ac07-430c-b7e0-80bb26c1ec7b"
   },
   "outputs": [
    {
     "data": {
      "text/plain": [
       "<matplotlib.legend.Legend at 0x11d4c3d50>"
      ]
     },
     "execution_count": 16,
     "metadata": {},
     "output_type": "execute_result"
    },
    {
     "data": {
      "image/png": "[encoded data removed]",
      "text/plain": [
       "<Figure size 640x480 with 1 Axes>"
      ]
     },
     "metadata": {},
     "output_type": "display_data"
    }
   ],
   "source": [
    "#Constrained frontier\n",
    "# Generate Efficient Frontier and find Tangent Portfolio\n",
    "\n",
    "%matplotlib inline\n",
    "frontier_risks_constr, frontier_returns_constr, \\\n",
    "df_weights_constr = construct_mv_frontier(mu_vec, cov_matrix, constr_sw=1)\n",
    "\n",
    "# Define the sigma range range for the capital allocation line\n",
    "sigma_range = np.linspace(0, np.nanmax(frontier_risks_constr))\n",
    "\n",
    "# Plot the frontier\n",
    "fig, ax = plt.subplots()\n",
    "ax.plot(frontier_risks_constr, frontier_returns_constr, 'r--', linewidth=2, label='Constrained Frontier')\n",
    "\n",
    "# Mark the position of the assets\n",
    "ax.scatter(sigmas, mu_vec, color='black', alpha=0.5, s=40, marker='.')  # Asset points\n",
    "\n",
    "# Add labels for each asset\n",
    "for i, txt in enumerate(asset_labels):\n",
    "    ax.text(sigmas[i] + 0.000001, mu_vec[i] + 0.000001, txt, ha='right', va='bottom')  # Adjust label positioning if necessary\n",
    "\n",
    "\n",
    "# Add axis labels and title\n",
    "ax.set_xlabel(r'Volatility, $\\sigma$')\n",
    "ax.set_ylabel(r'Expected return, $\\mu$')\n",
    "ax.set_title('Efficient Frontier')\n",
    "\n",
    "# Show legend\n",
    "ax.legend()"
   ]
  },
  {
   "cell_type": "markdown",
   "id": "iNKkml-yWGi3",
   "metadata": {
    "id": "iNKkml-yWGi3"
   },
   "source": [
    "We have three portfolios on the frontier with target returns 1.5%, 2% and 2.2% respectively. Then we find the weights and calculate the respective volatility.\n"
   ]
  },
  {
   "cell_type": "code",
   "execution_count": 17,
   "id": "DRYRJJk6ESXh",
   "metadata": {
    "colab": {
     "base_uri": "https://localhost:8080/",
     "height": 143
    },
    "id": "DRYRJJk6ESXh",
    "outputId": "db48c6d9-609e-4f29-b539-05b996b92ac4"
   },
   "outputs": [
    {
     "data": {
      "text/html": [
       "<div>\n",
       "<style scoped>\n",
       "    .dataframe tbody tr th:only-of-type {\n",
       "        vertical-align: middle;\n",
       "    }\n",
       "\n",
       "    .dataframe tbody tr th {\n",
       "        vertical-align: top;\n",
       "    }\n",
       "\n",
       "    .dataframe thead th {\n",
       "        text-align: right;\n",
       "    }\n",
       "</style>\n",
       "<table border=\"1\" class=\"dataframe\">\n",
       "  <thead>\n",
       "    <tr style=\"text-align: right;\">\n",
       "      <th></th>\n",
       "      <th>Target_Return</th>\n",
       "      <th>Portfolio_Std_Dev</th>\n",
       "      <th>Portfolio_Weights</th>\n",
       "    </tr>\n",
       "  </thead>\n",
       "  <tbody>\n",
       "    <tr>\n",
       "      <th>0</th>\n",
       "      <td>0.015</td>\n",
       "      <td>0.033506</td>\n",
       "      <td>[0.397, 0.092, 0.138, 0.165, 0.208]</td>\n",
       "    </tr>\n",
       "    <tr>\n",
       "      <th>1</th>\n",
       "      <td>0.020</td>\n",
       "      <td>0.069349</td>\n",
       "      <td>[0.0, 0.0, 0.333, 0.429, 0.238]</td>\n",
       "    </tr>\n",
       "    <tr>\n",
       "      <th>2</th>\n",
       "      <td>0.022</td>\n",
       "      <td>0.100000</td>\n",
       "      <td>[0.0, 0.0, 0.0, 1.0, 0.0]</td>\n",
       "    </tr>\n",
       "  </tbody>\n",
       "</table>\n",
       "</div>"
      ],
      "text/plain": [
       "   Target_Return  Portfolio_Std_Dev                    Portfolio_Weights\n",
       "0          0.015           0.033506  [0.397, 0.092, 0.138, 0.165, 0.208]\n",
       "1          0.020           0.069349      [0.0, 0.0, 0.333, 0.429, 0.238]\n",
       "2          0.022           0.100000            [0.0, 0.0, 0.0, 1.0, 0.0]"
      ]
     },
     "execution_count": 17,
     "metadata": {},
     "output_type": "execute_result"
    }
   ],
   "source": [
    "# Target Returns\n",
    "target_returns = [0.015, 0.02, 0.022]\n",
    "\n",
    "# Store Results\n",
    "results = []\n",
    "\n",
    "constr_sw = 1; # 1: no short-selling, 0: short-selling allowed\n",
    "\n",
    "for target_return in target_returns:\n",
    "\n",
    "    initial_guess = np.ones(N)*(1.0 / N) # this is the initial guess used by the optimization algorithm\n",
    "\n",
    "    solution = find_min_volatility_given_target_mean(mu_vec, cov_matrix, target_return, constr_sw, initial_guess)\n",
    "\n",
    "    if solution.success:\n",
    "        optimized_weights = solution.x\n",
    "        optimized_std = portfolio_volatility(optimized_weights, cov_matrix)\n",
    "        results.append((target_return, optimized_std, optimized_weights))\n",
    "\n",
    "# Show Results\n",
    "\n",
    "df_results = pd.DataFrame(results, columns=['Target_Return', 'Portfolio_Std_Dev', 'Portfolio_Weights'])\n",
    "# round the portfolio weights to 4 digigts\n",
    "df_results['Portfolio_Weights'] = df_results['Portfolio_Weights'].apply(lambda x: np.round(x,3))\n",
    "df_results"
   ]
  },
  {
   "cell_type": "markdown",
   "id": "Mre5fNh94z0B",
   "metadata": {
    "id": "Mre5fNh94z0B"
   },
   "source": [
    "Finally, we plot the additional protfolios on the constraint frontier:"
   ]
  },
  {
   "cell_type": "code",
   "execution_count": 18,
   "id": "be4pa93T4hWT",
   "metadata": {
    "colab": {
     "base_uri": "https://localhost:8080/",
     "height": 494
    },
    "id": "be4pa93T4hWT",
    "outputId": "55c9dc6c-6e54-4ded-d65e-59795525a4a5"
   },
   "outputs": [
    {
     "data": {
      "text/plain": [
       "<matplotlib.legend.Legend at 0x11d569150>"
      ]
     },
     "execution_count": 18,
     "metadata": {},
     "output_type": "execute_result"
    },
    {
     "data": {
      "image/png": "[encoded data removed]",
      "text/plain": [
       "<Figure size 640x480 with 1 Axes>"
      ]
     },
     "metadata": {},
     "output_type": "display_data"
    }
   ],
   "source": [
    "# Plot the frontier\n",
    "fig, ax = plt.subplots()\n",
    "ax.plot(frontier_risks_constr, frontier_returns_constr, 'r--', linewidth=2, label='Constrained Frontier')\n",
    "\n",
    "# Mark the position of the assets\n",
    "ax.scatter(sigmas, mu_vec, color='black', alpha=0.5, s=40, marker='.')  # Asset points\n",
    "\n",
    "# Add labels for each asset\n",
    "for i, txt in enumerate(asset_labels):\n",
    "    ax.text(sigmas[i] + 0.000001, mu_vec[i] + 0.000001, txt, ha='right', va='bottom')  # Adjust label positioning if necessary\n",
    "\n",
    "# Extract return and volatility from df_results for plotting\n",
    "returns = df_results['Target_Return']\n",
    "volatilities = df_results['Portfolio_Std_Dev']\n",
    "\n",
    "# Plot each portfolio in df_results\n",
    "for i in range(len(returns)):\n",
    "    ax.scatter(volatilities[i], returns[i], s=100, label=f'Portfolio {i+1}')\n",
    "\n",
    "# Add axis labels and title\n",
    "ax.set_xlabel(r'Volatility, $\\sigma$')\n",
    "ax.set_ylabel(r'Expected return, $\\mu$')\n",
    "ax.set_title('Efficient Frontier')\n",
    "\n",
    "# Show legend\n",
    "ax.legend()"
   ]
  },
  {
   "cell_type": "markdown",
   "id": "VniRb908NjEO",
   "metadata": {
    "id": "VniRb908NjEO"
   },
   "source": [
    "The Minimum Variance Portfolio (MVP) is not all Tbills; it has 3 Dollars of the TSX because these two asset classes have a negative correlation of $-10\\%$.\n",
    "\n",
    "As we go up the risk-reward frontier, Tbills drop (low Expected Return), stocks rise (from $3\\%$ to $33\\%$ to $87\\%$ to $100\\%$) and bonds and Real Estate enter and exit (i.e. Real Estate's weight goes from $0\\%$ to $23\\%$ to $13\\%$ to $0\\%)$.\n",
    "\n",
    "Real Estate is valuable because it is diversifying: see all the negative correlations Real Estate has with the other Asset Classes. But, it eventually drops out in the high-reward portfolios because its expected return is not as great as stocks."
   ]
  },
  {
   "cell_type": "markdown",
   "id": "af4FT5lYZjSr",
   "metadata": {
    "id": "af4FT5lYZjSr"
   },
   "source": [
    "# The Individual SAA Decision - Life-cycle Investing"
   ]
  },
  {
   "cell_type": "markdown",
   "id": "kZH3xXRLN1eO",
   "metadata": {
    "id": "kZH3xXRLN1eO"
   },
   "source": [
    "The above decision involves allocating the investor's financial capital. But, for younger investors, a large portion of their total wealth is human capital, defined as the present value of the investor's expected future wage income. For someone just entering the work force, human capital is the majority of an investor's wealth. At retirement, the value of human capital may be near zero.\n",
    "\n",
    "The characteristics of an investor's human capital depend upon their profession. A tenured professor has an income stream that is very \"bond-like\" in that it will not fluctuate greatly over his or her career. A unionized employee in a stable industry would also have a bond-like income stream. An entrepreneur, on the other hand, may have an income stream that is much more \"equity-like.\"\n",
    "\n",
    "The characteristics of an investor's total wealth will, when human capital is the major source of wealth, look like that human capital. On the next page, we do an example of \"life-cycle investing\" in which the asset allocation of the investor's financial portfolio depends upon how big her human capital wealth is relative to her financial wealth.\n",
    "\n",
    "Suppose an investor has a projected income stream that is stable and that the investor has no financial wealth. This investor's total wealth looks like a bond portfolio. At retirement, that investor will have a large financial wealth, but her human capital value may be zero. She can set her total wealth allocation by setting her financial portfolio allocation.\n",
    "\n",
    "What if this investor wants her total wealth to always be $50\\%$ bonds and $50\\%$ stock? The following shows how to alter the investor's financial portfolio allocation to adjust for the change in the mix of human capital wealth and financial wealth. This is called \"life-cycle investing.\"\n"
   ]
  },
  {
   "cell_type": "markdown",
   "id": "AhrrRXCcN_Zf",
   "metadata": {
    "id": "AhrrRXCcN_Zf"
   },
   "source": [
    "**An Example of Life-Cycle Investing**\n",
    "\n",
    "Here we use the same notation as in the Multi-Risk Factor (MRF) section (see page MRF-4). A life-cycle investor considers her time t human capital value $\\left(H_{t}\\right)$ in making her SAA choice. We define total wealth $\\left(W_{t}\\right)$ as the sum of financial wealth $\\left(P_{t}\\right)$ plus human capital value $\\left(H_{t}\\right)$ :\n",
    "\n",
    "$$\n",
    "W_{t}=H_{t}+P_{t}\n",
    "$$\n",
    "\n",
    "Suppose this investor considers her human capital to be \"bond-like\" for purposes of the SAA choice, and she wants, at all points in time, to have $50 \\%$ of her total wealth in fixed income assets (defined as bonds, $B_{t}$, and/or human capital, $H_{t}$ ):\n",
    "\n",
    "$$\n",
    "B_{t}+H_{t}=.5 W_{t}\n",
    "$$"
   ]
  },
  {
   "cell_type": "markdown",
   "id": "vcGKXYhBYR-B",
   "metadata": {
    "id": "vcGKXYhBYR-B"
   },
   "source": [
    "We first define a function to calculate the optimal bond allocation for an investor who wants 50% of total wealth in fixed income assets."
   ]
  },
  {
   "cell_type": "code",
   "execution_count": 19,
   "id": "5N8b2dCyR2Is",
   "metadata": {
    "id": "5N8b2dCyR2Is"
   },
   "outputs": [],
   "source": [
    "def calculate_optimal_bond_allocation(P_t, H_t):\n",
    "    \"\"\"\n",
    "    :param P_t: Financial wealth at time t\n",
    "    :param H_t: Human capital value at time t\n",
    "    :return: Optimal bond allocation at time t\n",
    "    \"\"\"\n",
    "    W_t = H_t + P_t  # Total wealth\n",
    "    target_fixed_income = 0.5*W_t  # Target fixed income value\n",
    "    B_t = target_fixed_income - H_t  # Optimal bond allocation\n",
    "    return B_t"
   ]
  },
  {
   "cell_type": "markdown",
   "id": "LrwJk0ryR0Pq",
   "metadata": {
    "id": "LrwJk0ryR0Pq"
   },
   "source": [
    "**At age 25**:\n",
    "\n",
    "Suppose financial wealth $P_{25}=\\$50,000$ and human capital value $H_{25}=\\$ 950,000$ for total wealth of $W_{25}=\\$ 1$ million.\n",
    "\n",
    "So, the investor has $\\$ 950,000$ in \"fixed income\" (in the form of human capital). Using the above equation to find the optimal $B_{25}$ :\n",
    "\n",
    "\\begin{align*}\n",
    "B_{25}+H_{25}&=0.5 W_{25} \\\\\n",
    "B_{25}+950,000&=0.5(1,000,000)\n",
    "\\end{align*}\n",
    "\n",
    "So, $B_{25}=-\\$ 450,000$\n",
    "\n",
    "The investor has WAY too much human capital value, so to get her \"fixed income\" investment down to $\\$ 500,000$, she has to short bonds by borrowing $\\$ 450,000$.\n",
    "\n",
    "We will assume the investor cannot borrow $\\$ 450,000$ and so, instead, she holds her financial portfolio of $\\$ 50,000$ all in stocks. So, the investor has a financial portfolio that is all $(100 \\%)$ stocks, as most young people probably should!\n"
   ]
  },
  {
   "cell_type": "code",
   "execution_count": 20,
   "id": "kdZ9LCqIR6Z3",
   "metadata": {
    "colab": {
     "base_uri": "https://localhost:8080/"
    },
    "id": "kdZ9LCqIR6Z3",
    "outputId": "e0f15a6e-5541-4569-9b68-ff069b3b6e0b"
   },
   "outputs": [
    {
     "name": "stdout",
     "output_type": "stream",
     "text": [
      "Optimal bond allocation at age 25:  -450000.0\n"
     ]
    }
   ],
   "source": [
    "# At age 25\n",
    "P_25 = 50000  # Financial wealth at age 25\n",
    "H_25 = 950000  # Human capital value at age 25\n",
    "\n",
    "# Calculate the optimal bond allocation at age 25\n",
    "B_25 = calculate_optimal_bond_allocation(P_25, H_25)\n",
    "\n",
    "print(\"Optimal bond allocation at age 25: \", f\"{B_25}\")"
   ]
  },
  {
   "cell_type": "markdown",
   "id": "Zcj26kjeSA7_",
   "metadata": {
    "id": "Zcj26kjeSA7_"
   },
   "source": [
    "**At age 40**:\n",
    "\n",
    "Suppose now $P_{40}=\\$ 700,000$ (our financial portfolio has grown quite well over the last 15 years) and $H_{40}=\\$ 500,000$ for a total wealth of $W_{40}=\\$ 1.2$ million. Again, solving for the optimal bond holding:\n",
    "\n",
    "\\begin{align*}\n",
    "B_{40}+H_{40}&=.5 W_{40} \\\\\n",
    "B_{40}+500,000&=.5(1,200,000)\n",
    "\\end{align*}\n",
    "\n",
    "So, $B_{40}=\\$ 100,000$.\n",
    "\n",
    "The investor divides her financial wealth of $P_{40}=\\$ 700,000$ into stocks of $S_{40}=\\$ 600,000$, and bonds of $B_{40}=\\$ 100,000$ (note that $B_{40}+S_{40}=P_{40}$\n",
    "\n",
    "So, now the investor's SAA mix is $600 / 700=0.86$ in stocks (and so $14 \\%$ in bonds).\n",
    "\n",
    "15 years ago the investor was $100 \\%$ stocks and no bonds, so she has become less \"aggressive\" than she was at age 25 .\n"
   ]
  },
  {
   "cell_type": "code",
   "execution_count": 21,
   "id": "sI_6zIWdSLRO",
   "metadata": {
    "colab": {
     "base_uri": "https://localhost:8080/"
    },
    "id": "sI_6zIWdSLRO",
    "outputId": "69b73353-093b-401e-cc95-0335ff52e2aa"
   },
   "outputs": [
    {
     "name": "stdout",
     "output_type": "stream",
     "text": [
      "Optimal bond allocation at age 40:  100000.0\n"
     ]
    }
   ],
   "source": [
    "# At age 40\n",
    "P_40 = 700000  # Financial wealth at age 40\n",
    "H_40 = 500000  # Human capital value at age 40\n",
    "\n",
    "# Calculate the optimal bond allocation at age 40\n",
    "B_40 = calculate_optimal_bond_allocation(P_40, H_40)\n",
    "\n",
    "print(\"Optimal bond allocation at age 40: \", f\"{B_40}\")"
   ]
  },
  {
   "cell_type": "markdown",
   "id": "y4fSeayYSeuU",
   "metadata": {
    "id": "y4fSeayYSeuU"
   },
   "source": [
    "**At age 65**:\n",
    "\n",
    "Suppose now financial wealth $P_{65}=\\$ 900,000$ and human capital value $H_{65}=\\$ 0$ for total wealth of $W_{25}=$ $\\$ 900,000$. Her human capital is exhausted!\n",
    "\n",
    "Solving for the optimal amount of bonds to hold now:\n",
    "\n",
    "$$\n",
    "B_{65}+0=.5(900,000)\n",
    "$$\n",
    "\n",
    "So,\n",
    "\n",
    "$$\n",
    "B_{65}=450,000\n",
    "$$\n"
   ]
  },
  {
   "cell_type": "code",
   "execution_count": 22,
   "id": "nL8tpTAmXINF",
   "metadata": {
    "colab": {
     "base_uri": "https://localhost:8080/"
    },
    "id": "nL8tpTAmXINF",
    "outputId": "79496890-bd2a-43a8-de81-0cb6d06b3063"
   },
   "outputs": [
    {
     "name": "stdout",
     "output_type": "stream",
     "text": [
      "Optimal bond allocation at age 65:  450000.0\n"
     ]
    }
   ],
   "source": [
    "# At age 65\n",
    "P_65 = 900000  # Financial wealth at age 65\n",
    "H_65 = 0  # Human capital value at age 65\n",
    "\n",
    "# Calculate the optimal bond allocation at age 65\n",
    "B_65 = calculate_optimal_bond_allocation(P_65, H_65)\n",
    "\n",
    "print(\"Optimal bond allocation at age 65: \", f\"{B_65}\")"
   ]
  },
  {
   "cell_type": "markdown",
   "id": "iq2b_hpGY6lQ",
   "metadata": {
    "id": "iq2b_hpGY6lQ"
   },
   "source": [
    "Now the investor has a financial portfolio with $50 \\%$ in bonds and $50 \\%$ in stock. Because $H_{65}=\\$ 0$, the financial portfolio breakdown is the same as the total wealth split she desires $(50 / 50)$.\n",
    "\n",
    "As the investor ages, her financial wealth grows and her human capital wealth (which is bond-like) shrinks. So, the investor's financial portfolio transitions over time from being all equity, to a portfolio, at retirement, that is a mix of bonds and stock.\n",
    "\n",
    "Changing the year-by-year allocation of an investor's financial portfolio as the value of their human capital changes over time is called \"life cycle investing,\" and the particular path that the equity weighting in the financial portfolio decreases as retirement approaches is called the \"glide path\" of the investor's financial portfolio SAA decision. \"Target-Date Funds\" do this automatically for investors.\n"
   ]
  },
  {
   "cell_type": "markdown",
   "id": "30_xkWLTZoym",
   "metadata": {
    "id": "30_xkWLTZoym"
   },
   "source": [
    "# The Institutional Client Objective"
   ]
  },
  {
   "cell_type": "markdown",
   "id": "Y9BkB7eOXgGi",
   "metadata": {
    "id": "Y9BkB7eOXgGi"
   },
   "source": [
    "**Defined Benefit Pension Plans**\n",
    "\n",
    "(1) Benefits paid to retiring members are promised when the member joins the pension plan\n",
    "\n",
    "(2) Benefits are typically related to:\n",
    "\n",
    "Length of service\n",
    "\n",
    "Ending wage\n",
    "\n",
    "Cost of living (inflation indexed)\n",
    "\n",
    "(3) Promised benefits are a stream of payments stretching for 40 or 50 years (the retirement life of the member)\n",
    "\n",
    "(4) The pension plan's liability is the present value of all the promised payments\n",
    "\n",
    "The present value typically uses a mid-length (e.g. 10 year) bond yield as the discount rate\n",
    "\n",
    "(5) The Pension Plan Trustees' concern is with the stochastic Funding Surplus, which is the difference between Pension Plan assets and the liability\n",
    "\n",
    "| Pension Plan Balance Sheet |       |       |\n",
    "|----------------------------|-------|-------|\n",
    "| **Assets**                 |       | **Liability** |\n",
    "|                            |       |       |\n",
    "|                            |       |   **Funding Surplus** = Assets - Liability    |\n",
    "\n",
    "\n",
    "\n",
    "Assets $=$ the plan endowment + the present value of future contributions\n",
    "\n",
    "Liability $=$ present value of pension payment future promised payments\n"
   ]
  },
  {
   "cell_type": "markdown",
   "id": "sIQICgI2ZgH1",
   "metadata": {
    "id": "sIQICgI2ZgH1"
   },
   "source": [
    "**Defined Contribution Pension Plans**\n",
    "\n",
    "The sponsor only promises to make contributions into the members retirement account until retirement. The benefit the member gets at retirement depends upon how much the account earned during the members' working life.\n",
    "\n",
    "Thus, there is no \"promise,\" so there is no explicit liability for the pension plan\n",
    "\n",
    "BUT, there is an implicit liability: the pension trustees should work to raise the member's standard of retirement living to an appropriate level. This implicit liability is really no different than the real liability in the defined benefit pension plans.\n",
    "\n",
    "So, we will use the DB Plan as our example, but the same analysis applies for DC plans as well!\n",
    "\n",
    "**The DB Pension Plan Structure**\n",
    "\n",
    "Assets: the market value of all the contributions (made by the Sponsor) and retained earnings accumulated in the plan, plus the present value of future promised contributions from the sponsor. Retired members receive pension payments from this account. Contributions are required to keep the plan \"funded\" (see below)\n",
    "\n",
    "Liability: the present value of all promised payments, to all members currently working and retired\n",
    "\n",
    "Funding Surplus: the difference between assets and liability; a positive funding surplus means the plan is funded, a negative funding surplus means the plan is underfunded and the Sponsor will be required to make additional contributions to the plan.\n"
   ]
  },
  {
   "cell_type": "markdown",
   "id": "0jocb0TiaANH",
   "metadata": {
    "id": "0jocb0TiaANH"
   },
   "source": [
    "**A Strategic Asset Allocation (SAA) Example**\n",
    "\n",
    "|                                 | Present Value | **t=1** | **t=2** | **t=3** |\n",
    "|---------------------------------|---------------|---------|---------|---------|\n",
    "| + Contributions (from Sponsor)  | 27.23         | 10      | 10      | 10      |\n",
    "| - Liability                     | 40.41         | 10      | 15      | 20      |\n",
    "| + Investments                   | 13.17         |         |         |         |\n",
    "| = Total (Funding Surplus)       | 0.00          |         |         |         |\n",
    "\n",
    "\n",
    "Discount rate for Contributions (C) and Liability (L) $=5 \\%$\n",
    "\n",
    "**Scenario 1:** Buy Strip Bonds to pay 5 at $\\mathrm{t}=2$ and 10 at $\\mathrm{t}=3$\n",
    "\n",
    "$Cost = \\frac{5}{(1.05)^{2}}+\\frac{10}{(1.05)^{3}}=13.17$\n",
    "\n",
    "Would just meet all its expected payments (liability)\n",
    "\n",
    "Strategy known as cash flow matching, it \"immunizes\" the Funding Surplus: FS=0 today and for the future\n",
    "\n",
    "**Scenario 2:** Instead of investing in strips, suppose the plan manager chooses to invest the $\\$ 13.17$ in an equity portfolio, which has an expected return of $10 \\%$ each period:"
   ]
  },
  {
   "cell_type": "markdown",
   "id": "Bb0A4QRqa4HV",
   "metadata": {
    "id": "Bb0A4QRqa4HV"
   },
   "source": [
    "|                             | Present Value | **t=1** | **t=2** | **t=3** |\n",
    "|-----------------------------|---------------|---------|---------|---------|\n",
    "| Contributions (from Sponsor) | 27.23         | 10      | 10      | 10      |\n",
    "| Liability                   | 40.41         | 10      | 15      | 20      |\n",
    "| Investments                 | 13.17         | 14.49   | 15.94   | 12.03   |\n",
    "| Pay shortfall               |               | 0       | 5       | 10      |\n",
    "| Remaining Investments       | 0             | 14.49   | 10.94   | 2.03    |\n",
    "\n",
    "\n",
    "The plan thus expects to have $\\$ 2.03$ extra left when the plan closes. That means, at $t=3$, the sponsor need only contribute $\\$ 10-2.03=\\$ 7.97$. This is call a \"Contribution Holiday\" for plan sponsor, and they can redeploy that money to shareholders!\n",
    "\n",
    "Taking out this extra is a contribution holiday and it eases the funding burden of the sponsor. This may be why some plans increase the equity portion of the assets: They want the stock market to fund the plan so they don't need to make contributions into the plan."
   ]
  },
  {
   "cell_type": "markdown",
   "id": "5zuYOpRdd0Sg",
   "metadata": {
    "id": "5zuYOpRdd0Sg"
   },
   "source": [
    "But suppose the stock market does NOT earn $10 \\%$, as we expected. In fact, suppose we lose EVERYTHING at $\\mathrm{t}=1$ (i.e. the $\\$ 13.17$ investment ends up worth zero). In this case we have no cash to pay the needed $\\$ 5$ at $t=2$ and $\\$ 10$ at $t=3$. Our risky strategy didn't work and the sponsor has to cough up the additional $\\$ 5$ at $t=2$ and the $\\$ 10$ at $t=3$, over and above the expected $\\$ 10$ contribution each period.\n",
    "\n",
    "The first Scenario (cash flow matching) strategy is riskless, but the sponsor must contribute $\\$ 10$ at $\\mathrm{t}=1,2$, and 3 . If the risky (equity investment) strategy is employed and it works, then the sponsor can take \"contribution holidays\" and reduce their required cash injections.\n",
    "\n",
    "But, if the risky strategy fails, the sponsor has to inject even more cash than under the cash flow matching strategy..... \"Risk and Reward\"!!!\n"
   ]
  },
  {
   "cell_type": "markdown",
   "id": "aCm-gRC-d6xk",
   "metadata": {
    "id": "aCm-gRC-d6xk"
   },
   "source": [
    "**How a DB Plan Liability Can Change**\n",
    "\n",
    "We will use the example from the previous page. This is a Defined Benefit pension plan with 3 years of promised payments to pensioners.\n",
    "\n",
    "**Case (a)** Suppose GDP surges, causing the marginal productivity of labor to rise, causing wages to rise, causing future pension benefits to rise to 12 at $t=1,20$ at $t=2$ and 25 at $t=3$. At the $5 \\%$ discount rate, these payments have a present value of $L=51.17$. Thus,\n",
    "\n",
    "\\% change in $\\mathrm{L}=\\frac{51.17}{40.41}-1=0.266=26.6 \\%$\n",
    "\n",
    "Thus, an increase in expected future pension payouts can certainly raise the liability and throw the plan into a funding shortfall (Funding Surplus $<0$ ).\n",
    "\n",
    "**Case (b)** Suppose a rise in interest rates causes the discount rate for the liability to rise to $7 \\%$. Here, we will assume the discount rate on future contributions does NOT change from $5 \\%$. Discounting the original required payments at this new discount rate leads to $L=38.77$. Thus,\n",
    "\n",
    "\\% change in $\\mathrm{L}=\\frac{38.77}{40.41}-1=-0.041=-4.1 \\%$\n",
    "\n",
    "This decrease in the liability raises the funding surplus of the plan.\n",
    "\n",
    "We may want our assets to have similar exposures to changes in GDP and changes in interest rates as the liability. So, if the liability moves because of these risk factors, then the assets will tend to move in the same direction; this will reduce the volatility of the funding surplus, since it is $FS + A - L$.\n",
    "\n",
    "The assets will move with GDP if we hold stocks (e.g., industrials and transportation stocks) in the portfolio and the assets will move inversely with interest rates (as the liability does) if we hold bonds in the asset portfolio.\n",
    "\n",
    "Most pension plans DO have both stock and bond exposure in their asset risk profile, and this DOES mean $A$ and $L$ will tend to move together, reducing $F S=A-L$ volatility.\n"
   ]
  },
  {
   "cell_type": "markdown",
   "id": "X7leylk1mXta",
   "metadata": {
    "id": "X7leylk1mXta"
   },
   "source": [
    "# A Defined Benefit Pension Plan Objective:\n",
    "\n",
    "**Funding Surplus Risk Management**"
   ]
  },
  {
   "cell_type": "markdown",
   "id": "toFf39aRgEli",
   "metadata": {
    "id": "toFf39aRgEli"
   },
   "source": [
    "|              |                         |               |                         |\n",
    "|:------------|:-----------------------|:-------------|:-----------------------|\n",
    "|   **t=0**    |                         |   **t=1**     |                         |\n",
    "| **Assets** $A_0$ | **Liability** $L_0$ | **Assets** $A_1= A_0\\times (1+r_A)$ | **Liability** $L_1 = L_0\\times (1 + r_L)$|\n",
    "|   &nbsp;     | **Funding Surplus** $FS_0 =  A_0 - L_0$ |   &nbsp;      | **Funding Surplus** $FS_1 = A_1 - L_1$ |\n",
    "\n",
    "\n",
    "\n",
    "Above are the pension plan's balances sheets at the start of the year $(t=0)$ and at the end of the year $(\\mathrm{t}=1)$. In between, the assets had a return of $r_{A}$ and the liability had a change in value of $r_{L}$, leading to new asset and liability values at date $t=1$. Since the assets and liability changed value over the year, so will the funding surplus, FS.\n",
    "\n",
    "The change over a period in the funding surplus is $F S_{1}-F S_{0}$, and the percentage change in the funding surplus, which we call the return to the funding surplus, is $r_{FS}= \\frac{F S_{1}-F S_{0}}{F S_{0}}$ Where:\n",
    "\n",
    "So\n",
    "\n",
    "$$\n",
    "F S_{1}=A_{1}-L_{1}=A_{0}\\left(1+r_{A}\\right)-L_{0}\\left(1+r_{L}\\right)=A_{0}-L_{0}+r_{A} A_{0}-r_{L} L_{0}\n",
    "$$\n",
    "\n",
    "Therefore, \n",
    "\\begin{align*}\n",
    "F S_{1}-F S_{0}&=r_{A} A_{0}-r_{L} L_{0}\n",
    "r_{FS}&= \\frac{F S_{1}-F S_{0}}{F S_{0}}=\\left(\\frac{A_{0}}{F S_{0}}\\right) r_{A}-\\left(\\frac{L_{0}}{F S_{0}}\\right) r_{L}=\\alpha r_{A}+(1-\\alpha) r_{L}\n",
    "\\end{align*}\n",
    "\n",
    "With $\\alpha=\\left(\\frac{A_{0}}{F S_{0}}\\right)>1$ and $(1-\\alpha)=-\\left(\\frac{L_{0}}{F S_{0}}\\right)<0$.\n",
    "\n",
    "So, $r_{FS}=\\alpha r_{A}+(1-\\alpha) r_{L}$ looks like a weighted average of the two returns, with slightly unusual weights. But, $r_{FS}$ is basically like $r_{A}-r_{L}$. We'll now define $r_{A}$ and $r_{L}$.\n",
    "\n",
    "We use the MRF Model return generating functions, and the expected return equations:\n",
    "\n",
    "\\begin{align*}\n",
    "r_{A}&=E\\left(r_{A}\\right)+\\beta_{1 A} I_{1}+\\beta_{2 A} I_{2}+e_{A} \\\\\n",
    "r_{L}&=E\\left(r_{L}\\right)+\\beta_{1 L} I_{1}+\\beta_{2 L} I_{2}+e_{l} \\\\\n",
    "E\\left(r_{A}\\right)&=r_{f}+\\lambda_{1} \\beta_{1 A}+\\lambda_{2} \\beta_{2 A} \\\\\n",
    "E\\left(r_{L}\\right)&=r_{f}+\\lambda_{1} \\beta_{1 L}+\\lambda_{2} \\beta_{2 L}\n",
    "\\end{align*}\n",
    "\n",
    "\n",
    "The random \"shocks\" (all with expected values of 0 ) are the risk factor shocks, $I_{1}$ (GDP risk?) and $I_{2}$ (interest rate risk?) and the unsystematic shocks, $e_{a}$ and $e_{l}$.\n",
    "\n",
    "The sensitivities of the assets to risk factors shocks are the betas: $\\beta_{1 A}$ and $\\beta_{2 A}$ and the liability has its own betas, $\\beta_{1 L}$ and $\\beta_{2 L}$. The liability betas are given by the features of the pension plan promises, but the pension plan can choose the asset betas.\n"
   ]
  },
  {
   "cell_type": "markdown",
   "id": "4g33td3Oyz2H",
   "metadata": {
    "id": "4g33td3Oyz2H"
   },
   "source": [
    "Plugging these 4 equations into $r_{FS}$ shows\n",
    "\n",
    "\n",
    "\\begin{align*}\n",
    "r_{FS}=r_{f}+\\lambda_{1}\\left[\\alpha \\beta_{1 A}+(1-\\alpha) \\beta_{1 L}\\right]+\\lambda_{2}\\left[\\alpha \\beta_{2 A}+(1-\\alpha) \\beta_{2 L}\\right] \\\\\n",
    "+\\left[\\alpha \\beta_{1 A}+(1-\\alpha) \\beta_{1 L}\\right] I_{1}+\\left[\\alpha \\beta_{2 A}+(1-\\alpha) \\beta_{2 L}\\right] I_{2}+\\alpha e_{a}+(1-\\alpha) e_{l} .\n",
    "\\end{align*}\n",
    "\n",
    "\n",
    "The two terms in the square brackets are basically asset beta minus liability beta for risk factors 1 and 2 . If we define those as funding surplus betas:\n",
    "\n",
    "\n",
    "\\begin{align}\n",
    "\\beta_{1 FS}&=\\alpha \\beta_{1 A}+(1-\\alpha) \\beta_{1 L}=\\left(\\frac{A_{0}}{F S_{0}}\\right) \\beta_{1 A}-\\left(\\frac{L_{0}}{F S_{0}}\\right) \\beta_{1 L} \\\\\n",
    "\\beta_{2 FS}&=\\alpha \\beta_{2 A}+(1-\\alpha) \\beta_{2 L}=\\left(\\frac{A_{0}}{F S_{0}}\\right) \\beta_{2 A}-\\left(\\frac{L_{0}}{F S_{0}}\\right) \\beta_{2 L}\n",
    "\\end{align}\n",
    "\n",
    "\n",
    "To understand this, for the $\\beta_{1 FS}$ equation, for example, if I multiply through by $F S_{0}$,\n",
    "\n",
    "$$\n",
    "F S_{0} \\beta_{1 FS}=A_{0} \\beta_{1 A}-L_{0} \\beta_{1 L}\n",
    "$$\n",
    "\n",
    "This equation says that the funding surplus dollar volatility (this is what the pension plan trustees care about!) is the asset dollar volatility minus the liability dollar volatility. Again, the liability and its betas to the two risk factors are given, but the trustees can choose $\\beta_{1 A}$ and $\\beta_{2 A}$.\n",
    "\n",
    "For example, if we want $\\beta_{1 FS}=0$ we must choose $\\beta_{1 A}$ such that $A_{0} \\beta_{1 A}-L_{0} \\beta_{1 L}=0$.\n",
    "\n",
    "We use these definitions in getting the expected funding surplus return (or \"funding surplus growth\") and variance of the funding surplus return:\n",
    "\n",
    "$$\n",
    "\\begin{gathered}\n",
    "E[r_{FS}]=r_{f}+\\lambda_{1} \\beta_{1 FS}+\\lambda_{2} \\beta_{2 FS} \\\\\n",
    "\\sigma^{2}\\left(r_{FS}\\right)=\\beta_{1 FS}^{2} \\sigma^{2}\\left(I_{1}\\right)+\\beta_{2 FS}^{2} \\sigma^{2}\\left(I_{2}\\right)\n",
    "\\end{gathered}\n",
    "$$\n",
    "\n",
    "In the funding surplus variance equation we are ignoring the unsystematic variances. Note we assume the risk factors shocks are uncorrelated with each other. These equations should look familiar from the MRF Model notes! But here, the funding surplus betas are determined by the liability betas (which trustees CANNOT pick) and the asset betas (which the trustees CAN control). So, the trustees CAN set the funding surplus betas.\n",
    "\n",
    "In the next section we will pick the funding surplus betas, $\\beta_{1 A}$ and $\\beta_{2 A}$, to minimize the funding surplus variance, $\\sigma^{2}\\left(r_{FS}\\right)$, subject to achieving a satisfactory level of expected funding surplus growth, $E[r_{FS}]$. That is, we want a point on the efficient frontier of the funding surplus expected growth (return) and risk.\n"
   ]
  },
  {
   "cell_type": "markdown",
   "id": "u9pwPLytn2t_",
   "metadata": {
    "id": "u9pwPLytn2t_"
   },
   "source": [
    "# The Funding Surplus Capital Market Line"
   ]
  },
  {
   "cell_type": "markdown",
   "id": "679fW2Xsy_Xf",
   "metadata": {
    "id": "679fW2Xsy_Xf"
   },
   "source": [
    "The FS CML comes from an optimization process that finds portfolios, and their associated factor betas, that minimize FS risk, holding FS expected growth constant (and done for all levels of expected FS growth).\n",
    "\n",
    "Each point on the CML represents optimal betas. In the 1-factor CAPM, the two key points are an all Tbill portfolio and the market (tangent) portfolio with, respectively:\n",
    "\n",
    "\\begin{align*}\n",
    "E[r_p]&=r_f,~\\sigma[r_p]=0,~~\\text{and}~~ \\beta_p=0\\\\\n",
    "E[r_p]&=r_m,~\\sigma[r_p]=\\sigma_m,~~\\text{and}~~ \\beta_p = \\beta_m=1\n",
    "\\end{align*}\n",
    "\n",
    "The similar idea holds in the multi-factor model, but each point on the CML is characterized by as many betas as we have risk factors\n",
    "\n",
    "The pension manager's job is to choose a funding surplus growth rate, $E[r_{FS}]=\\bar{r}_{FS}$, that suits that pension plan; the plan must also be happy with the level of funding surplus volatility that goes along with that optimal portfolio, $\\sigma^{*}[r_{FS}]$.\n",
    "\n",
    "Then, the composition of that portfolio is the factor betas corresponding to that point on the CML: $\\beta^*_{1,FS}$ and $\\beta^*_{2,FS}$. Thus, to achieve a funding surplus growth rate and volatility we prefer, we know what systematic risk exposures the funding surplus must have to reach that reward-risk point in the most efficient way.\n",
    "\n",
    "Once we have chosen the optimal funding surplus betas, we use the definitions shown before:\n",
    "\n",
    "\n",
    "\\begin{align*}\n",
    "\\beta^*_{1,FS} &= \\alpha \\beta^*_{1A}+(1-\\alpha) \\beta^*_{1L} \\\\\n",
    "\\beta^*_{2,FS} &= \\alpha \\beta^*_{2A}+(1-\\alpha) \\beta^*_{2L}\n",
    "\\end{align*}\n",
    "\n",
    "\n",
    "We know the liability betas and have chosen the funding surplus betas, so we can solve these equations for the optimal asset betas (for our asset portfolio).\n",
    "\n"
   ]
  },
  {
   "cell_type": "markdown",
   "id": "IgPBZiYP2D9k",
   "metadata": {
    "id": "IgPBZiYP2D9k"
   },
   "source": [
    "**Determining the Optimal Asset Risk Exposure**\n",
    "\n",
    "**Step 1**\n",
    "\n",
    "The trustee knows $A_{0}, L_{0}, F S_{0}=A_{0}-L_{0}$ and $\\beta_{1 L}$ and $\\beta_{2 L}$.\n",
    "\n",
    "$\\beta_{1 L}$ and $\\beta_{2 L}$ can be estimated from a regression of historical liability percentage changes on historical risk factor shocks.\n",
    "\\end{itemize}\n",
    "\n",
    "**Step 2**\n",
    "The trustee specifies a desired expected return, $E[r_{FS}]= \\overline{r}_{FS}$\n",
    "\n",
    "Choosing $\\overline{r}_{FS}$ determines how fast the plan's funding surplus is expected to grow.\n",
    "\n",
    "**Step 3**\n",
    "\n",
    "The trustee calculates the ex-ante funding surplus CML (CML is Capital Market Line, as in the CAPM 1factor model). As in the CAPM, this is a schedule of efficient combinations of assets, meaning they minimize funding surplus risk for a given level of expected funding surplus growth. Recall what happens in the CAPM CML: the intercept has $\\sigma_{p}=0$ and $E\\left(r_{p}\\right)=r_{f}$ and this portfolio of all Tbills has $\\beta_{p}=0$. As one moves out the CML, the $\\beta_{p}$ gets bigger, exceeding 1 when you begin to short Tbills to invest in the market portfolio (with $\\beta_{m}=1$ ).\n",
    "\n",
    "A similar \"efficient frontier\" CML results from multi-factor model. But, because there is more than one risk factor, each point on the funding surplus CML is characterized by as many factor betas as we have risk factors.\n",
    "\n",
    "**Step 4**\n",
    "\n",
    "By choosing the $\\overline{r}_{FS}$, the trustee can then see from the CML what is the funding surplus risk level and what are the optimal funding surplus betas to the risk factors necessary to obtain that $\\overline{r}_{FS}$.\n",
    "\n",
    "The optimizing procedure to identify the optimal funding surplus betas for any reward-risk point on the FS CML provides the mean-variance efficient funding surplus betas:\n",
    "\n",
    "\n",
    "\\begin{align*}\n",
    "\\beta_{1 FS}^{*}&=\\frac{\\lambda_{1} / \\sigma_{1}^{2}}{\\lambda_{1}^{2} / \\sigma_{1}^{2}+\\lambda_{2}^{2} / \\sigma_{2}^{2}}\\left(\\overline{r}_{FS}-r_{f}\\right) \\quad \\text { where } \\sigma_{1}^{2}=\\sigma^{2}\\left(I_{1}\\right) \\text { and } \\sigma_{2}^{2}=\\sigma^{2}\\left(I_{2}\\right) \\\\\n",
    "\\beta_{2 FS}^{*}&=\\frac{\\lambda_{2} / \\sigma_{2}^{2}}{\\lambda_{1}^{2} / \\sigma_{1}^{2}+\\lambda_{2}^{2} / \\sigma_{2}^{2}}\\left(\\overline{r}_{FS}-r_{f}\\right)\n",
    "\\end{align*}\n",
    "\n",
    "\n",
    "so that: $\\sigma^{*}[r_{FS}]=\\frac{\\overline{r}_{FS}-r_{f}}{\\sqrt{\\lambda_{1}^{2} / \\sigma_{1}^{2}+\\lambda_{2}^{2} / \\sigma_{2}^{2}}}$\n",
    "\n",
    "and:\n",
    "\n",
    "$$\n",
    "E[r_{FS}]=r_{f}+\\lambda_{1} \\beta_{1 FS}^{*}+\\lambda_{2} \\beta_{2 FS}^{*}=\\overline{r}_{FS}\n",
    "$$\n",
    "\n",
    "Note that both $E[r_{FS}]$ and $\\sigma^{*}\\left(r_{FS}\\right)$ are linear in $\\overline{r}_{FS}$, which means the CML is a straight line.\n",
    "\n",
    "Finally, the above optimal funding surplus betas can be converted to the corresponding optimal asset betas.\n",
    "\n",
    "Since $\\quad F S_{0} \\beta_{1 FS}=A_{0} \\beta_{1 A}-L_{0} \\beta_{1 L} \\quad$ and $\\quad F S_{0} \\beta_{2 FS}=A_{0} \\beta_{2 A}-L_{0} \\beta_{2 L}$\n",
    "\n",
    "the trustees determine the optimal exposure to risks 1 and 2 for the client's assets:\n",
    "\n",
    "\n",
    "\\begin{align*}\n",
    "\\beta_{1 A}^{*}&=\\left(\\frac{F S_{0}}{A_{0}}\\right) \\beta_{1 FS}^{*}+\\left(\\frac{L_{0}}{A_{0}}\\right) \\beta_{1 L} \\\\\n",
    "\\beta_{2 A}^{*}&=\\left(\\frac{F S_{0}}{A_{0}}\\right) \\beta_{2 FS}^{*}+\\left(\\frac{L_{0}}{A_{0}}\\right) \\beta_{2 L}\n",
    "\\end{align*}\n",
    "\n",
    "\n",
    "These are what the trustee needs to structure the pension plan's optimal asset investments. An asset portfolio with $\\left(\\beta_{1 A}^{*}, \\beta_{2 A}^{*}\\right)$ will provide funding surplus betas of $\\left(\\beta_{1 FS}^{*}, \\beta_{2 FS}^{*}\\right)$, which will yield the point on the funding surplus CML that the trustees chose."
   ]
  },
  {
   "cell_type": "markdown",
   "id": "WyK3DhLg2zG2",
   "metadata": {
    "id": "WyK3DhLg2zG2"
   },
   "source": [
    "**A Summary of the ALM Model Procedure**\n",
    "\n",
    "Step 1: Trustees know the basic pension plan characteristics: $A_{0}, L_{0}, F S_{0}=A_{0}-L_{0}$ and $\\beta_{1 L}$ and $\\beta_{2 L}$.\n",
    "\n",
    "Step 2: Trustees choose a growth rate for the funding surplus ($\\overline{r}_{FS}$).\n",
    "\n",
    "Step 3: From basic capital market data, trustees know $\\lambda_{1}, \\lambda_{2}, \\sigma_{1}$ and $\\sigma_{2}$. This allows them to construct the Funding Surplus CML.\n",
    "\n",
    "Step 4: Given the CML (Step 3) and the chosen growth rate for the funding surplus, $\\overline{r}_{FS}$ (Step 2), the trustees can calculate the optimal funding surplus betas. Knowing the pension plan's characteristics (from Step 1), the trustees can convert the optimal funding surplus betas into optimal asset betas.\n",
    "\n",
    "The portfolio construction process begins with knowing the optimal pension plan asset betas desired by the trustees. They can then construct a portfolio of existing assets, like a TBill fund, a bond fund, an equity fund, and perhaps some real assets, like real estate or infrastructure investments, to provide the funding surplus growth and risk features they want.\n",
    "\n",
    "For each of these asset class investments, like the bond portfolio, B, we need to know that asset class' exposure to the risk factors, like $\\beta_{1 B}$ and $\\beta_{2 B}$ for the bond asset investment.\n",
    "\n",
    "To construct the pension plan's asset portfolio, the trustees chose weights on each asset class (say TBIIls, Bonds and Stocks) with weights $x_{B}$ on bonds, $x_{S}$ on stocks and $1-x_{B}-x_{S}=x_{T B}$ in Tbills. They will choose the weights so that the pension plan's assets have the optimal asset betas. For example, for risk factor 1, the weights must satisfy:\n",
    "\n",
    "And for risk factor 2:\n",
    "\n",
    "$$\n",
    "\\beta_{1 A}^{*}=x_{T B} \\beta_{1 T B}+x_{B} \\beta_{1 B}+x_{S} \\beta_{1 S}\n",
    "$$\n",
    "\n",
    "$$\n",
    "\\beta_{2 A}^{*}=x_{T B} \\beta_{2 T B}+x_{B} \\beta_{2 B}+x_{S} \\beta_{2 S}\n",
    "$$\n",
    "\n",
    "We solve these two equations for $x_{B}$ and $x_{S}$ with $x_{T B}=1-x_{B}-x_{S}$.\n"
   ]
  },
  {
   "cell_type": "markdown",
   "id": "WmhhawO-3JF-",
   "metadata": {
    "id": "WmhhawO-3JF-"
   },
   "source": [
    "## Choosing Asset Risk Exposure: A Two Factor Example\n",
    "\n",
    "Your DB pension plan uses a two-factor ALM model.\n",
    "\n",
    "The relevant capital market data is:\n",
    "\n",
    "$$\n",
    "r_{f}=0.06, \\lambda_{1}=0.16, \\lambda_{2}=0.06, \\sigma_{1}^{2}=0.09 \\text { and } \\sigma_{2}^{2}=0.05\n",
    "$$\n",
    "\n",
    "Your relevant pension plan data is:\n",
    "\n",
    "$$\n",
    "\\beta_{1 L}=0.8, \\beta_{2 L}=1.3, A_{0}=100, L_{0}=70 \\text {, so } F S_{0}=100-70=30 \\text {. }\n",
    "$$\n",
    "\n",
    "Then, we can calculate:\n",
    "\n",
    "$$\n",
    "\\begin{aligned}\n",
    "& \\frac{\\lambda_{1}}{\\sigma_{1}^{2}}=1.7778 \\quad \\frac{\\lambda_{1}^{2}}{\\sigma_{1}^{2}}=0.28444 \\text { and } \\frac{\\lambda_{2}}{\\sigma_{2}^{2}}=1.2000 \\quad \\frac{\\lambda_{2}^{2}}{\\sigma_{2}^{2}}=0.0720 \\\\\n",
    "& \\frac{\\lambda_{1}^{2}}{\\sigma_{1}^{2}}+\\frac{\\lambda_{2}^{2}}{\\sigma_{2}^{2}}=0.35644 \\\\\n",
    "& \\beta_{1 FS}^{*}=\\left(\\frac{1.7778}{0.35644}\\right)(\\overline{r}_{FS}-0.06)=4.9877(\\overline{r}_{FS}-0.06) \\\\\n",
    "& \\beta_{2 FS}^{*}=\\left(\\frac{1.2000}{0.35644}\\right)(\\overline{r}_{FS}-0.06)=3.3666(\\overline{r}_{FS}-0.06) \\\\\n",
    "& \\sigma_{FS}^{*}=\\frac{(\\overline{r}_{FS}-0.06)}{(0.35644)^{5}}=1.675(\\overline{r}_{FS}-0.06) \\\\\n",
    "& \\beta_{1 A}^{*}=\\left(\\frac{30}{100}\\right) \\beta_{1 FS}^{*}+\\left(\\frac{70}{100}\\right) \\beta_{1 L}=0.3 \\beta_{1 FS}^{*}+0.7(0.8) \\\\\n",
    "& \\beta_{2 A}^{*}=\\left(\\frac{30}{100}\\right) \\beta_{2 FS}^{*}+\\left(\\frac{70}{100}\\right) \\beta_{2 L}=0.3 \\beta_{2 FS}^{*}+0.7(1.3)\n",
    "\\end{aligned}\n",
    "$$\n",
    "\n",
    "|      | $\\overline{r}_{FS}$ | $\\beta_{1 FS}^{*}$ | $\\beta_{2 FS}^{*}$  | $\\sigma_{FS}^{*}$  | $\\beta^{*}_{1A}$ | $\\beta^{*}_{2A}$|\n",
    "|------|----------|-------------------------|-------------------------|-------------------------|------------------------|------------------------|\n",
    "| A    | 0.06     | 0.00                    | 0.00                    | 0.00                    | 0.5600                 | 0.9100                 |\n",
    "| B    | 0.10     | 0.1995                  | 0.1347                  | 0.0670                  | 0.6199                 | 0.9504                 |\n",
    "| C    | 0.15     | 0.4489                  | 0.3030                  | 0.1508                  | 0.6947                 | 1.0010                 |\n",
    "| D    | 0.20     | 0.6983                  | 0.4713                  | 0.2345                  | 0.7695                 | 1.0510                 |"
   ]
  },
  {
   "cell_type": "markdown",
   "id": "oMd-j1pezcK3",
   "metadata": {
    "id": "oMd-j1pezcK3"
   },
   "source": [
    "As trustees raise their expected funding surplus growth rate ($\\overline{r}_{FS}$), the funding surplus volatility $\\left(\\sigma_{FS}^{*}\\right)$ of course rises. Since both risk factors, 1 and 2, are risk-enhancing (both lambdas $>0$ ), to achieve higher FS growth requires taking more systematic risk to each risk factor (the betaFS's get bigger). And, since the betasFS's get bigger, so do the asset betas. The asset portfolio gets more systematic risk (and volatility) to achieve higher FS growth rates. These 4 points ($A$ through $D$) are shown in the figure below.\n"
   ]
  },
  {
   "cell_type": "markdown",
   "id": "nw6g0AbYIMH6",
   "metadata": {
    "id": "nw6g0AbYIMH6"
   },
   "source": [
    "**Choosing Asset Risk Exposure-Graphs from the Example**\n",
    "\n",
    "The previous page shows four possible points on the mean-variance efficient Funding Surplus CML involving different funding surplus growth rates and volatilities. The example shows what optimal ASSET betas are required to achieve those funding surplus growth rates and volatilities. First we plot the FS CML:"
   ]
  },
  {
   "cell_type": "markdown",
   "id": "Pt9-tATQ8DiU",
   "metadata": {
    "id": "Pt9-tATQ8DiU"
   },
   "source": [
    "(1) We input the sigma and expected return:"
   ]
  },
  {
   "cell_type": "code",
   "execution_count": 23,
   "id": "gLxfmp1M8BN6",
   "metadata": {
    "id": "gLxfmp1M8BN6"
   },
   "outputs": [],
   "source": [
    "# Expected returns\n",
    "mu_A = 0.06\n",
    "mu_B = 0.1\n",
    "mu_C = 0.15\n",
    "mu_D = 0.2\n",
    "\n",
    "#Sigma\n",
    "sigma_A = 0\n",
    "sigma_B = 0.067\n",
    "sigma_C = 0.1508\n",
    "sigma_D = 0.2345\n"
   ]
  },
  {
   "cell_type": "markdown",
   "id": "UzSDi4JdE-Xy",
   "metadata": {
    "id": "UzSDi4JdE-Xy"
   },
   "source": [
    "(2) Make the matrix to store the points"
   ]
  },
  {
   "cell_type": "code",
   "execution_count": 24,
   "id": "owafUfWtE9M0",
   "metadata": {
    "id": "owafUfWtE9M0"
   },
   "outputs": [],
   "source": [
    "points = {\n",
    "    'A': (sigma_A, mu_A),\n",
    "    'B': (sigma_B, mu_B),\n",
    "    'C': (sigma_C, mu_C),\n",
    "    'D': (sigma_D, mu_D)\n",
    "}"
   ]
  },
  {
   "cell_type": "markdown",
   "id": "euwlei-ZFfap",
   "metadata": {
    "id": "euwlei-ZFfap"
   },
   "source": [
    "(3) We need one line to link the points"
   ]
  },
  {
   "cell_type": "code",
   "execution_count": 25,
   "id": "pkRdean4FkmV",
   "metadata": {
    "id": "pkRdean4FkmV"
   },
   "outputs": [],
   "source": [
    "lines = {\n",
    "    'red': ('A', 'B', 'C', 'D')\n",
    "}"
   ]
  },
  {
   "cell_type": "markdown",
   "id": "ZR6iSpS6Fzt7",
   "metadata": {
    "id": "ZR6iSpS6Fzt7"
   },
   "source": [
    "(4) Plot the lines and points"
   ]
  },
  {
   "cell_type": "code",
   "execution_count": 26,
   "id": "sPOSHO7rFywg",
   "metadata": {
    "colab": {
     "base_uri": "https://localhost:8080/",
     "height": 472
    },
    "id": "sPOSHO7rFywg",
    "outputId": "78f121c1-11b5-4e9c-940d-85a42cd9037e"
   },
   "outputs": [
    {
     "data": {
      "image/png": "[encoded data removed]",
      "text/plain": [
       "<Figure size 640x480 with 1 Axes>"
      ]
     },
     "metadata": {},
     "output_type": "display_data"
    }
   ],
   "source": [
    "import matplotlib.pyplot as plt\n",
    "# Plot the lines and points\n",
    "\n",
    "#points\n",
    "for color, line_points in lines.items():\n",
    "    x_values = [points[pt][0] for pt in line_points]\n",
    "    y_values = [points[pt][1] for pt in line_points]\n",
    "    plt.plot(x_values, y_values, linestyle='dotted', color=color)\n",
    "\n",
    "#label\n",
    "for label, (x, y) in points.items():\n",
    "    plt.scatter(x, y, color='blue', zorder=5)\n",
    "    plt.text(x, y, f'  {label}', verticalalignment='bottom', horizontalalignment='right', fontsize=12)\n",
    "\n",
    "# Set the labels and title\n",
    "plt.title('Funding Surplus CML')\n",
    "plt.xlabel(r'Volatility, $\\sigma[r_{FS}]$')\n",
    "plt.ylabel(r'Expected Return, $E[r_{FS}]$')\n",
    "# Show the grid\n",
    "plt.grid(True)\n",
    "\n",
    "#Show the figure\n",
    "plt.show()"
   ]
  },
  {
   "cell_type": "markdown",
   "id": "z6XtLRf2LgmE",
   "metadata": {
    "id": "z6XtLRf2LgmE"
   },
   "source": [
    "To attain higher funding surplus growth rates, the manager must accept more funding surplus volatility.\n",
    "\n",
    "Then we plot the optimal asset betas:"
   ]
  },
  {
   "cell_type": "markdown",
   "id": "U0061aCIG6EB",
   "metadata": {
    "id": "U0061aCIG6EB"
   },
   "source": [
    "(1) We input the beta 1a and beta 2a"
   ]
  },
  {
   "cell_type": "code",
   "execution_count": 27,
   "id": "9qlwbJ1sHGCj",
   "metadata": {
    "id": "9qlwbJ1sHGCj"
   },
   "outputs": [],
   "source": [
    "# beta_1a\n",
    "beta1a_A = 0.56\n",
    "beta1A_b = 0.6199\n",
    "beta1a_C = 0.6947\n",
    "beta1a_D = 0.7695\n",
    "\n",
    "#beta_2a\n",
    "beta2a_A = 0.91\n",
    "beta2A_b = 0.9504\n",
    "beta2a_C = 1.0010\n",
    "beta2a_D = 1.0510"
   ]
  },
  {
   "cell_type": "markdown",
   "id": "5ITX0jHrHpBY",
   "metadata": {
    "id": "5ITX0jHrHpBY"
   },
   "source": [
    "(2) Make the matrix to store the points"
   ]
  },
  {
   "cell_type": "code",
   "execution_count": 28,
   "id": "GWHmIopzHtY_",
   "metadata": {
    "id": "GWHmIopzHtY_"
   },
   "outputs": [],
   "source": [
    "points = {\n",
    "    'A': (beta2a_A, beta1a_A),\n",
    "    'B': (beta2A_b, beta1A_b),\n",
    "    'C': (beta2a_C, beta1a_C),\n",
    "    'D': (beta2a_D, beta1a_D)\n",
    "}"
   ]
  },
  {
   "cell_type": "markdown",
   "id": "FZ1tRmE_IEzT",
   "metadata": {
    "id": "FZ1tRmE_IEzT"
   },
   "source": [
    "(3) We need one line to link the points"
   ]
  },
  {
   "cell_type": "code",
   "execution_count": 29,
   "id": "3Sg_OTQUIHtL",
   "metadata": {
    "id": "3Sg_OTQUIHtL"
   },
   "outputs": [],
   "source": [
    "lines = {\n",
    "    'red': ('A', 'B', 'C', 'D')\n",
    "}"
   ]
  },
  {
   "cell_type": "markdown",
   "id": "rb7MCh2XILRU",
   "metadata": {
    "id": "rb7MCh2XILRU"
   },
   "source": [
    "(4) Plot the lines and points"
   ]
  },
  {
   "cell_type": "code",
   "execution_count": 30,
   "id": "l8irvzMsIMkH",
   "metadata": {
    "colab": {
     "base_uri": "https://localhost:8080/",
     "height": 472
    },
    "id": "l8irvzMsIMkH",
    "outputId": "b05eb0ef-0922-4dcc-8aab-8981ba7b2c51"
   },
   "outputs": [
    {
     "data": {
      "image/png": "[encoded data removed]",
      "text/plain": [
       "<Figure size 640x480 with 1 Axes>"
      ]
     },
     "metadata": {},
     "output_type": "display_data"
    }
   ],
   "source": [
    "# Plot the lines and points\n",
    "\n",
    "#points\n",
    "for color, line_points in lines.items():\n",
    "    x_values = [points[pt][0] for pt in line_points]\n",
    "    y_values = [points[pt][1] for pt in line_points]\n",
    "    plt.plot(x_values, y_values, linestyle='dotted', color=color)\n",
    "\n",
    "#label\n",
    "for label, (x, y) in points.items():\n",
    "    plt.scatter(x, y, color='blue', zorder=5)\n",
    "    plt.text(x, y, f'  {label}', verticalalignment='bottom', horizontalalignment='right', fontsize=12)\n",
    "\n",
    "# Set the labels and title\n",
    "plt.title('Optimal ASSET Betas')\n",
    "plt.xlabel(r'$\\beta_{2A}$')\n",
    "plt.ylabel(r'$\\beta_{1A}$')\n",
    "\n",
    "# Show the grid\n",
    "plt.grid(True)\n",
    "\n",
    "#Show the figure\n",
    "plt.show()"
   ]
  },
  {
   "cell_type": "markdown",
   "id": "GRl-_VmnMBAl",
   "metadata": {
    "id": "GRl-_VmnMBAl"
   },
   "source": [
    "We move from asset betas of $(.56,91)$ if we want $E[r_{FS}]=6 \\%$ to betas of $(.7695,1.051)$ if want $E[r_{FS}]=20 \\%$. Since both assets are risk-enhancing factors, we must increase exposure to each of them as we increase $E[r_{FS}]$. The slope of this line characterizes the efficient combinations of the two risk factors.\n",
    "\n",
    "The liability of this plan lies to the right of the graph at $\\left(\\operatorname{Beta}_{11}, \\operatorname{Beta}_{21}\\right)=(.8,1.3)$. The betas of the assets are less than the betas of the liability because the assets are larger than the liability, and so we need less exposure per dollar of assets of the liability.\n"
   ]
  },
  {
   "cell_type": "markdown",
   "id": "ZrJKkHkxZ8Q4",
   "metadata": {
    "id": "ZrJKkHkxZ8Q4"
   },
   "source": [
    "**Another Two Risk Factor Model Example**\n",
    "\n",
    "| Risk Factor, $i$         | $\\lambda_i$ | $\\sigma_i$ | $\\sigma_i^2$ | $\\lambda_i/\\sigma_i^2$ | $\\lambda_i^2/\\sigma_i^2$ |\n",
    "|---------------------|--------|-------|---------|----------------|------------------:|\n",
    "| GDP risk            | 0.15   | 25%   | 0.0625  | 2.4            | 0.3600             |\n",
    "| Unemployment risk   | -0.05  | 20%   | 0.04    | -1.25          | 0.0625           |\n",
    "|Risk Free Rate= 4%   |        |       |         |                | sum = 0.4225     |\n",
    "\n",
    "\n",
    "The pension plan's liability betas are: $\\beta_{1L}=0.65$, and $\\beta_{2L}=0.44$\n",
    "\n",
    "The plan's Assets, liability and funding Surplus are: $A_{0}=2300, L_{0}=1750, FS_{0}=550$\n",
    "\n",
    "a) What are the optimal funding surplus betas and optimal asset betas if the plan wants its funding surplus to have an expected growth rate ($\\overline{r}_{FS}$) of $6 \\%$ or $15 \\%$ ?\n",
    "\n",
    "b) Describe the change in the funding surplus betas and the asset betas between the low growth and high growth portfolios ($\\overline{r}_{FS}$ $=6 \\%$ and $15 \\%$ respectively).\n",
    "\n",
    "**Expected FS Return ($\\overline{r}_{FS}$)**\n",
    "\n",
    "|      | $\\beta^*_{1FS}$ | $\\beta^*_{2FS}$ | $\\beta^*_{1A}$ | $\\beta^*_{2A}$ |\n",
    "|------|---------------------|---------------------|--------------------|--------------------|\n",
    "| 6%   | 0.1136              | -0.0592             | 0.5217             | 0.3206             |\n",
    "| 15%  | 0.6249              | -0.3254             | 0.6440             | 0.2570             |\n",
    "\n",
    "\n",
    "$\\beta^*_{1FS}=(2.4 / .4225)*(6 \\%-4 \\%)=.1136$\n",
    "\n",
    "$\\beta^*_{1A}=(550 / 2300)\\times.1136+(1750 / 2300)\\times.65=.5217$\n",
    "\n",
    "The liability betas are both positive: this plan has positive liability exposure to both GDP and UI risk. So, in general, it's asset portfolio will have positive betas as well (both growth portfolios do)\n",
    "\n",
    "In moving from the low-risk to the high-risk portfolio, the funding surplus beta for GDP risk gets bigger. GDP is a risk-enhancing factor and we wish to increase risk. Also the exposure to UI (unemployment) risk gets smaller (more negative). This is because UI risk is an insurance factor, and we need more (not less) risk. So, we are negatively exposed to the insurance factor and we make it more negative as $\\overline{r}_{FS}$ goes up.\n",
    "\n",
    "Similarly in the Asset portfolio, the GDP beta goes up with $\\overline{r}_{FS}$ and the UI beta goes down.\n",
    "\n",
    "\n"
   ]
  },
  {
   "cell_type": "markdown",
   "id": "WAV1BxDbN_ID",
   "metadata": {
    "id": "WAV1BxDbN_ID"
   },
   "source": [
    "### The SAA Decision"
   ]
  },
  {
   "cell_type": "markdown",
   "id": "sOG2fOfab8Uz",
   "metadata": {
    "id": "sOG2fOfab8Uz"
   },
   "source": [
    "**Converting Optimal Asset Betas to an Asset Mix**\n",
    "\n",
    "**A Two Factor Example**\n",
    "\n",
    "A Corporate Pension Plan (Defined Benefit) is concerned with MP risk (Risk Factor 1 = changes in GDP) and DEI risk (Risk Factor 2 = changes in expected inflation). Possible asset class investments are:\n",
    "\n",
    "-Point C: \"Cash\" (TBills): no asset risk exposure (zero betas).\n",
    "\n",
    "Is this good? What if liabilities have exposure? Also without exposure to risk we will have low asset and FS growth rates.\n",
    "\n",
    "-Point B: A bond portfolio. This investment is hurt by positive shocks to $\\mathrm{DEl}: \\beta_{D E I}=-0.2<0$.\n",
    "\n",
    "-Point M: An equity portfolio. Positive risk exposure (asset class betas) to both MP and DEI shocks.\n",
    "\n",
    "Note, combining points $C$, $B$ and $M$, with non-negative weights, puts the portfolio exposure somewhere in the triangle $(C,M,B)$ in the below figure.\n",
    "\n",
    "Suppose we want our asset portfolio to have $\\beta_{A}=(.3, .1)$, i.e., we want $\\beta_{M P, A}=.3$ and $\\beta_{D E I, A}=.1$. This is point $X$ on the figure below.\n",
    "\n",
    "To solve for the optimal portfolio weights in $C$, $B$ and $M$ we set up two equations (because we have two risk factor betas we want) and two unknowns (the weights $X_{B}$ and $X_{M}$, and with $X_{C}=1-X_{B}-X_{M}$ )\n",
    "\n",
    "MP Risk: $.3=.2 X_{B}+1.2 X_{M}+0\\left(1-X_{B}-X_{M}\\right)$\n",
    "\n",
    "DEI Risk: $.1=-.2 X_{B}+0.7 X_{M}+0\\left(1-X_{B}-X_{M}\\right)$\n",
    "\n",
    "One way to solve these equations is to add them up. This eliminates $X_{B}$ and gives us\n",
    "\n",
    "$$0.4=1.9 X_{M} \\implies X_{M}=.2105$$\n",
    "\n",
    "Putting $X_{M}=.2105$ into the first equation: $.3=.2 X_{B}+(1.2)(.2105)$ or $X_{B}=.2370$\n",
    "\n",
    "Finally, we see our TBill (Cash) investment is $X_{C}=1-X_{B}-X_{M}=.5525$.\n",
    "\n",
    "So, to achieve the asset portfolio exposures we want, we will put $55.25 \\%$ of our endowment in TBills (C), $23.7 \\%$ in bonds (B) and $21.05 \\%$ in stocks (M). We just constructed our portfolio!\n"
   ]
  },
  {
   "cell_type": "markdown",
   "id": "sCiMs4oKOxQG",
   "metadata": {
    "id": "sCiMs4oKOxQG"
   },
   "source": [
    "Here we use python to constuct the portfolio:\n",
    "\n",
    "We first define the function to solve the asset weight"
   ]
  },
  {
   "cell_type": "code",
   "execution_count": 31,
   "id": "iEOm9e4PUNwp",
   "metadata": {
    "id": "iEOm9e4PUNwp"
   },
   "outputs": [],
   "source": [
    "def solve_asset_mix(target_beta_mp, target_beta_dei, beta_mp_b, beta_dei_b, beta_mp_m, beta_dei_m):\n",
    "    \"\"\"\n",
    "    Solve for the optimal portfolio weights on assets C (Cash), B (Bonds), and M (Stocks) to achieve desired beta exposures.\n",
    "\n",
    "    :param target_beta_mp: Target beta for MP risk\n",
    "    :param target_beta_dei: Target beta for DEI risk\n",
    "    :param beta_mp_b: Beta for MP risk for bond portfolio\n",
    "    :param beta_dei_b: Beta for DEI risk for bond portfolio\n",
    "    :param beta_mp_m: Beta for MP risk for equity portfolio\n",
    "    :param beta_dei_m: Beta for DEI risk for equity portfolio\n",
    "    :return: Portfolio weights for C, B, and M\n",
    "    \"\"\"\n",
    "    # Solving the linear system of equations\n",
    "    # x[0] = XB, x[1] = XM\n",
    "    from numpy.linalg import solve\n",
    "    import numpy as np\n",
    "\n",
    "    A = np.array([[beta_mp_b, beta_mp_m], [beta_dei_b, beta_dei_m]])\n",
    "    B = np.array([target_beta_mp, target_beta_dei])\n",
    "\n",
    "    x = solve(A, B)\n",
    "\n",
    "    XB = x[0]\n",
    "    XM = x[1]\n",
    "    XC = 1 - XB - XM\n",
    "\n",
    "    return XC, XB, XM"
   ]
  },
  {
   "cell_type": "markdown",
   "id": "68Frvgf3aqVn",
   "metadata": {
    "id": "68Frvgf3aqVn"
   },
   "source": [
    "Then we input the target betas（risk) for the asset portfolio and betas for bond (B) and equity (M) portfolios, to get the asset weight:"
   ]
  },
  {
   "cell_type": "code",
   "execution_count": 32,
   "id": "39r7Td_SeWdG",
   "metadata": {
    "colab": {
     "base_uri": "https://localhost:8080/"
    },
    "id": "39r7Td_SeWdG",
    "outputId": "c347d194-3a63-456f-a61a-3cf5ea38e5bf"
   },
   "outputs": [
    {
     "name": "stdout",
     "output_type": "stream",
     "text": [
      "Optimal portfolio weights for Cash, Bonds and Stocks are:  (0.5526315789473686, 0.2368421052631578, 0.2105263157894737)\n"
     ]
    }
   ],
   "source": [
    "# Target betas (risk) for the asset portfolio\n",
    "target_beta_mp = 0.3\n",
    "target_beta_dei = 0.1\n",
    "\n",
    "# Betas for bond (B) and equity (M) portfolios\n",
    "beta_mp_b = 0.2\n",
    "beta_dei_b = -0.2\n",
    "beta_mp_m = 1.2\n",
    "beta_dei_m = 0.7\n",
    "\n",
    "# Calculate the optimal portfolio weights\n",
    "XC, XB, XM = solve_asset_mix(target_beta_mp, target_beta_dei, beta_mp_b, beta_dei_b, beta_mp_m, beta_dei_m)\n",
    "\n",
    "print(\"Optimal portfolio weights for Cash, Bonds and Stocks are: \", f\"{XC, XB, XM}\")\n"
   ]
  },
  {
   "cell_type": "markdown",
   "id": "KmiT-CNhejTL",
   "metadata": {
    "id": "KmiT-CNhejTL"
   },
   "source": [
    "So, the SAA process was as follows:\n",
    "\n",
    "-We chose a funding surplus growth rate, $\\overline{r}_{FS}$.\n",
    "\n",
    "-From the FS CML, this gave us the optimal funding surplus betas, $\\beta_{M P, FS}^{*}$ and $\\beta_{D E I, f s}^{*}$.\n",
    "\n",
    "\n",
    "-We then calculated the optimal asset betas that gave us the chosen funding surplus betas; in this example, the optimal asset betas are $\\beta_{M P, A}^{*}=.3$ and $\\beta_{D E I, A}^{*}=.1$.\n",
    "\n",
    "-Finally, here we have converted our asset betas to an SAA mix: $55.25 \\%$ in cash, $23.70 \\%$ in bonds and $21.05 \\%$ in stocks. Notice that, in this case, the optimal asset beta point, $X$, lies within the triangle defined by the three investment vehicles we can access: $C, B$ and $M$. Because the optimal point $X$ is within the triangle, all the asset class weights are positive: we hold some $C$, some $B$ and some $S$.\n",
    "\n",
    "What if we want a portfolio that is outside of the triangle area defined by $(C, M, B)$ ? If we use asset classes $C, M$ and $B$, we must short (i.e., disinvest) some asset class. Say we want Point $Y$ in the top graph on page OBJ-25: $\\beta_{M P, A}^{*}=.2$ and $\\beta_{D E I, A}^{*}=.7$. This is outside of the space defined by the triangle $(C,B,M)$.\n",
    "\n",
    "Solving two equations as we did before:\n",
    "\n",
    "MP Risk: $.2=.2 X_{B}+1.2 X_{M}+0\\left(1-X_{B}-X_{M}\\right)$\n",
    "\n",
    "DEI Risk: $.7=-.2 X_{B}+0.7 X_{M}+0\\left(1-X_{B}-X_{M}\\right)$\n",
    "\n",
    "Again, adding the two equations gives $X_{M}=.4737$, which, when substituted back in to either equation above gives $X_{B}=-1.8421$ and $X_{C}=2.3684$.\n",
    "\n",
    "What a difference from Point $\\mathrm{X}$ ! We must now short-sell bonds (i.e., the $X_{B}$ weight is negative) and invest in a mix of cash (a LOT of cash) and stocks to achieve point $Y$.\n",
    "\n",
    "But, many endowments restrict their investment portfolio to have no short-selling. This could be a big problem if the asset beta point they want lies outside the area defined by the investments the endowment is allowed to hold. What do these trustees do? They fine additional investment vehicles (beyond $C, B$ and $S$ ) that expand their area of long-only investing.\n"
   ]
  },
  {
   "cell_type": "code",
   "execution_count": 33,
   "id": "i2blLULanmXr",
   "metadata": {
    "colab": {
     "base_uri": "https://localhost:8080/"
    },
    "id": "i2blLULanmXr",
    "outputId": "2baf3a34-14f0-4a45-83b4-503a05e3f74f"
   },
   "outputs": [
    {
     "name": "stdout",
     "output_type": "stream",
     "text": [
      "Optimal portfolio weights for Cash, Bonds and Stocks are:  (2.3684210526315783, -1.8421052631578942, 0.47368421052631576)\n"
     ]
    }
   ],
   "source": [
    "# Target betas for the asset portfolio\n",
    "target_beta_mp = 0.2\n",
    "target_beta_dei = 0.7\n",
    "\n",
    "# Betas for bond (B) and equity (M) portfolios\n",
    "beta_mp_b = 0.2\n",
    "beta_dei_b = -0.2\n",
    "beta_mp_m = 1.2\n",
    "beta_dei_m = 0.7\n",
    "\n",
    "# Calculate the optimal portfolio weights\n",
    "XC, XB, XM = solve_asset_mix(target_beta_mp, target_beta_dei, beta_mp_b, beta_dei_b, beta_mp_m, beta_dei_m)\n",
    "XC, XB, XM\n",
    "\n",
    "print(\"Optimal portfolio weights for Cash, Bonds and Stocks are: \", f\"{XC, XB, XM}\")"
   ]
  },
  {
   "cell_type": "markdown",
   "id": "jyIpA8gPh71Q",
   "metadata": {
    "id": "jyIpA8gPh71Q"
   },
   "source": [
    "Then we plot the Beta-changes in GDP (MP) and Beta-changes in Expected Inflation (DEI)"
   ]
  },
  {
   "cell_type": "markdown",
   "id": "05s7u3R5iQNS",
   "metadata": {
    "id": "05s7u3R5iQNS"
   },
   "source": [
    "(1) input the points:"
   ]
  },
  {
   "cell_type": "code",
   "execution_count": 34,
   "id": "Jl5a7n0uiXPK",
   "metadata": {
    "id": "Jl5a7n0uiXPK"
   },
   "outputs": [],
   "source": [
    "# beta dei\n",
    "betadei_C = 0\n",
    "betadei_B = -0.2\n",
    "betadei_M = 0.7\n",
    "betadei_X = 0.1\n",
    "betadei_Y = 0.7\n",
    "\n",
    "#beta mp\n",
    "betamp_C = 0\n",
    "betamp_B = 0.2\n",
    "betamp_M = 1.2\n",
    "betamp_X = 0.3\n",
    "betamp_Y = 0.2"
   ]
  },
  {
   "cell_type": "markdown",
   "id": "xagWVInHiWQs",
   "metadata": {
    "id": "xagWVInHiWQs"
   },
   "source": [
    "(2) make the matrix to input the points:"
   ]
  },
  {
   "cell_type": "code",
   "execution_count": 35,
   "id": "gwhxdObbkiXM",
   "metadata": {
    "id": "gwhxdObbkiXM"
   },
   "outputs": [],
   "source": [
    "points = {\n",
    "    'C': (betamp_C, betadei_C),\n",
    "    'B': (betamp_B, betadei_B),\n",
    "    'M': (betamp_M, betadei_M),\n",
    "    'X': (betamp_X, betadei_X),\n",
    "    'Y': (betamp_Y, betadei_Y),\n",
    "}"
   ]
  },
  {
   "cell_type": "markdown",
   "id": "4oKNBaGyiTz8",
   "metadata": {
    "id": "4oKNBaGyiTz8"
   },
   "source": [
    "(3) We need lines to link points:"
   ]
  },
  {
   "cell_type": "code",
   "execution_count": 36,
   "id": "0hh8gxARlJkv",
   "metadata": {
    "id": "0hh8gxARlJkv"
   },
   "outputs": [],
   "source": [
    "lines = {\n",
    "    'red': ('M', 'C'),\n",
    "    'blue': ('M', 'B'),\n",
    "    'black': ('C', 'B'),\n",
    "\n",
    "}"
   ]
  },
  {
   "cell_type": "markdown",
   "id": "Z4UpnXRflgW7",
   "metadata": {
    "id": "Z4UpnXRflgW7"
   },
   "source": [
    "(4) Plot the figure:"
   ]
  },
  {
   "cell_type": "code",
   "execution_count": 37,
   "id": "xdSxHNmClnyX",
   "metadata": {
    "colab": {
     "base_uri": "https://localhost:8080/",
     "height": 472
    },
    "id": "xdSxHNmClnyX",
    "outputId": "3ea2395a-19d3-4440-ae98-e5be67a01b3a"
   },
   "outputs": [
    {
     "data": {
      "image/png": "[encoded data removed]",
      "text/plain": [
       "<Figure size 640x480 with 1 Axes>"
      ]
     },
     "metadata": {},
     "output_type": "display_data"
    }
   ],
   "source": [
    "# Plot the lines and points\n",
    "\n",
    "#points\n",
    "for color, line_points in lines.items():\n",
    "    x_values = [points[pt][0] for pt in line_points]\n",
    "    y_values = [points[pt][1] for pt in line_points]\n",
    "    plt.plot(x_values, y_values, linestyle='dotted', color=color)\n",
    "\n",
    "#label\n",
    "for label, (x, y) in points.items():\n",
    "    plt.scatter(x, y, color='blue', zorder=5)\n",
    "    plt.text(x, y, f'  {label}', verticalalignment='bottom', horizontalalignment='right', fontsize=12)\n",
    "\n",
    "# Set the labels and title\n",
    "plt.title('Beta-changes in GDP (MP) vs Beta-changes in Expected Inflation (DEI)')\n",
    "plt.xlabel(r'$\\beta_{MP}$')\n",
    "plt.ylabel(r'$\\beta_{DEI}$')\n",
    "# Show the grid\n",
    "plt.grid(True)\n",
    "\n",
    "#Show the figure\n",
    "plt.show()"
   ]
  },
  {
   "cell_type": "markdown",
   "id": "lX2ZRmXEoC8s",
   "metadata": {
    "id": "lX2ZRmXEoC8s"
   },
   "source": [
    "The previous page shows that if the trustees' preferred asset portfolio beta point lies outside the area defined by the asset class investments they can make (here, C, B and M), then they must short-sell some asset class to achieve a point outside the \"feasible long-only area\". But, if the endowment can NOT short-sell, then they must expand the area of \"feasible long-only investments\".\n",
    "\n",
    "Suppose an intermediary forms two factor portfolios, QDEI and QMP, and sells them as mutual funds or ETFs, in which our trustees ARE allowed to invest (go long). Suppose an investment bank constructs these two ETFs:\n",
    "\n",
    "Point $Q M P$ in the graph has $\\beta_{M P, Q M P}=1.0$ and $\\beta_{D E I, Q M P}=0$ and\n",
    "\n",
    "Point $\\mathrm{QDEI}$ in the graph has $\\beta_{M P, Q D E I}=0$ and $\\beta_{D E I, Q D E I}=1.0$\n",
    "\n",
    "As shown below figure, this has expanded the feasible area of investing for the trustees. Now, Point $Y$ falls within the new feasible long-only investment area. Note that to create these two ETFs, the investment bank (the intermediary) did have to short some of the original asset classes $\\mathrm{C}$, $B$ and $M$, but an investment bank CAN short! To create these ETFs, the bank had to form portfolios with weights:\n",
    "\n",
    "Point QMP comes from: $X_{C}=-1.368, X_{B}=1.842$ and $X_{M}=0.526$\n",
    "\n",
    "Point QDEl comes from: $X_{C}=3.633, X_{B}=-3.159$ and $X_{M}=0.526$\n",
    "\n",
    "So, to create the QMP ETF, the investment bank had to short TBills (borrow) and to create the QDEI ETF, the investment bank had to short bonds. It can do that. And, the trustees can buy (go long) either or both of these ETFs as part of their investment portfolio.\n"
   ]
  },
  {
   "cell_type": "code",
   "execution_count": 38,
   "id": "MX4Ea53yoc4J",
   "metadata": {
    "colab": {
     "base_uri": "https://localhost:8080/"
    },
    "id": "MX4Ea53yoc4J",
    "outputId": "cdfcf31a-8eca-4b20-98ab-58065882ec98"
   },
   "outputs": [
    {
     "name": "stdout",
     "output_type": "stream",
     "text": [
      "When target betas are for QMP, Optimal portfolio weights for Cash, Bonds and Stocks are:  (-1.3684210526315792, 1.842105263157895, 0.5263157894736842)\n"
     ]
    }
   ],
   "source": [
    "# Target betas for QMP\n",
    "target_beta_mp = 1\n",
    "target_beta_dei = 0\n",
    "\n",
    "# Betas for bond (B) and equity (M) portfolios\n",
    "beta_mp_b = 0.2\n",
    "beta_dei_b = -0.2\n",
    "beta_mp_m = 1.2\n",
    "beta_dei_m = 0.7\n",
    "\n",
    "# Calculate the optimal portfolio weights\n",
    "XC, XB, XM = solve_asset_mix(target_beta_mp, target_beta_dei, beta_mp_b, beta_dei_b, beta_mp_m, beta_dei_m)\n",
    "print(\"When target betas are for QMP, Optimal portfolio weights for Cash, Bonds and Stocks are: \", f\"{XC, XB, XM}\")"
   ]
  },
  {
   "cell_type": "code",
   "execution_count": 39,
   "id": "EalB4NkGooo3",
   "metadata": {
    "colab": {
     "base_uri": "https://localhost:8080/"
    },
    "id": "EalB4NkGooo3",
    "outputId": "2a705b21-527d-42e1-e51f-deb5f94b357d"
   },
   "outputs": [
    {
     "name": "stdout",
     "output_type": "stream",
     "text": [
      "When target betas are for QDEI, Optimal portfolio weights for Cash, Bonds and Stocks are:  (3.6315789473684204, -3.157894736842105, 0.5263157894736842)\n"
     ]
    }
   ],
   "source": [
    "# Target betas for QDEI\n",
    "target_beta_mp = 0\n",
    "target_beta_dei = 1\n",
    "\n",
    "# Betas for bond (B) and equity (M) portfolios\n",
    "beta_mp_b = 0.2\n",
    "beta_dei_b = -0.2\n",
    "beta_mp_m = 1.2\n",
    "beta_dei_m = 0.7\n",
    "\n",
    "# Calculate the optimal portfolio weights\n",
    "XC, XB, XM = solve_asset_mix(target_beta_mp, target_beta_dei, beta_mp_b, beta_dei_b, beta_mp_m, beta_dei_m)\n",
    "print(\"When target betas are for QDEI, Optimal portfolio weights for Cash, Bonds and Stocks are: \", f\"{XC, XB, XM}\")"
   ]
  },
  {
   "cell_type": "markdown",
   "id": "Eh9iaMGboRwK",
   "metadata": {
    "id": "Eh9iaMGboRwK"
   },
   "source": [
    "Now (see the bottom graph on the next page), if the pension plan wants its asset portfolio at point $Y$, it can use 5 possible investments: C. M, B, QMP and QDEI. With two risk factors (2 equations to solve), we only need three asset classes to get a solution. We could use M, QDEl and C:\n",
    "\n",
    "MP Risk: $.2=1.2 X_{M}+0 X_{Q D E I}+0\\left(1-X_{M}-X_{Q D E I}\\right)$\n",
    "\n",
    "DEI Risk: . $7=.7 X_{M}+1 X_{Q D E I}+0\\left(1-X_{M}-X_{Q D E I}\\right)$\n",
    "\n",
    "Solving yields $X_{C}=0.25, X_{M}=0.1667$ and $X_{Q D E I}=0.5833$\n",
    "\n",
    "An even easier solution is to use cash and the two factor portfolios:\n",
    "\n",
    "MP Risk: $.2=1 X_{Q M P}+0 X_{Q D E I}+0\\left(1-X_{M}-X_{Q D E I}\\right)$\n",
    "\n",
    "DEI Risk: . $7=0 X_{Q M P}+1 X_{Q D E I}+0\\left(1-X_{M}-X_{Q D E I}\\right)$\n",
    "\n",
    "Solving yields $X_{C}=0.1, X_{Q M P}=0.20$ and $X_{Q D E I}=0.70$\n"
   ]
  },
  {
   "cell_type": "markdown",
   "id": "Gc_NniYymNWN",
   "metadata": {
    "id": "Gc_NniYymNWN"
   },
   "source": [
    "We plot the Beta-Changes in GDP (MP) vs Beta-Changes in Expected Inflation (DEI):"
   ]
  },
  {
   "cell_type": "markdown",
   "id": "bhHjzuUVmwG-",
   "metadata": {
    "id": "bhHjzuUVmwG-"
   },
   "source": [
    "(1) input the beta dei and beta mp"
   ]
  },
  {
   "cell_type": "code",
   "execution_count": 40,
   "id": "nUmLkN3nmwdV",
   "metadata": {
    "id": "nUmLkN3nmwdV"
   },
   "outputs": [],
   "source": [
    "# beta dei\n",
    "betadei_C = 0\n",
    "betadei_B = -0.2\n",
    "betadei_M = 0.7\n",
    "betadei_X = 0.1\n",
    "betadei_Y = 0.7\n",
    "betadei_dei = 1\n",
    "betadei_mp =0\n",
    "\n",
    "#beta mp\n",
    "betamp_C = 0\n",
    "betamp_B = 0.2\n",
    "betamp_M = 1.2\n",
    "betamp_X = 0.3\n",
    "betamp_Y = 0.2\n",
    "betamp_dei = 0\n",
    "betamp_mp = 1"
   ]
  },
  {
   "cell_type": "markdown",
   "id": "S2l6JvwuvGg1",
   "metadata": {
    "id": "S2l6JvwuvGg1"
   },
   "source": [
    "(2) make the matrix to input points"
   ]
  },
  {
   "cell_type": "code",
   "execution_count": 41,
   "id": "2JO925Y8vLfC",
   "metadata": {
    "id": "2JO925Y8vLfC"
   },
   "outputs": [],
   "source": [
    "points = {\n",
    "    'C': (betamp_C, betadei_C),\n",
    "    'B': (betamp_B, betadei_B),\n",
    "    'M': (betamp_M, betadei_M),\n",
    "    'X': (betamp_X, betadei_X),\n",
    "    'Y': (betamp_Y, betadei_Y),\n",
    "    'Q(DEI)': (betamp_dei, betadei_dei),\n",
    "    'Q(MP)': (betamp_mp, betadei_mp),\n",
    "}"
   ]
  },
  {
   "cell_type": "markdown",
   "id": "9B-64eblvarX",
   "metadata": {
    "id": "9B-64eblvarX"
   },
   "source": [
    "(3) use the lines to link points"
   ]
  },
  {
   "cell_type": "code",
   "execution_count": 42,
   "id": "ZNxt7M8-mHV6",
   "metadata": {
    "id": "ZNxt7M8-mHV6"
   },
   "outputs": [],
   "source": [
    "lines = {\n",
    "    'blue': ('M', 'Q(MP)'),\n",
    "    'black': ('Q(MP)', 'B'),\n",
    "    'red': ('C', 'B'),\n",
    "    'green': ('M', 'Q(DEI)'),\n",
    "\n",
    "}"
   ]
  },
  {
   "cell_type": "markdown",
   "id": "d0Rz1QItmoPY",
   "metadata": {
    "id": "d0Rz1QItmoPY"
   },
   "source": [
    "(4) plot the figure:"
   ]
  },
  {
   "cell_type": "code",
   "execution_count": 43,
   "id": "za6-U1BBv88G",
   "metadata": {
    "colab": {
     "base_uri": "https://localhost:8080/",
     "height": 472
    },
    "id": "za6-U1BBv88G",
    "outputId": "3a19d932-7d9e-4b42-f245-3864ca641fe7"
   },
   "outputs": [
    {
     "data": {
      "image/png": "[encoded data removed]",
      "text/plain": [
       "<Figure size 640x480 with 1 Axes>"
      ]
     },
     "metadata": {},
     "output_type": "display_data"
    }
   ],
   "source": [
    "# Plot the lines and points\n",
    "\n",
    "#points\n",
    "for color, line_points in lines.items():\n",
    "    x_values = [points[pt][0] for pt in line_points]\n",
    "    y_values = [points[pt][1] for pt in line_points]\n",
    "    plt.plot(x_values, y_values, linestyle='dotted', color=color)\n",
    "\n",
    "#label\n",
    "for label, (x, y) in points.items():\n",
    "    plt.scatter(x, y, color='blue', zorder=5)\n",
    "    plt.text(x, y, f'  {label}', verticalalignment='bottom', horizontalalignment='right', fontsize=12)\n",
    "\n",
    "# makes the vertical and horizontal axis intersect at the origin\n",
    "plt.axhline(y=0, color='k')\n",
    "plt.axvline(x=0, color='k')\n",
    "\n",
    "    \n",
    "\n",
    "# Set the labels and title\n",
    "plt.xlabel(r'$\\beta_{MP}$')\n",
    "plt.ylabel(r'$\\beta_{DEI}$')\n",
    "plt.title('Beta-Changes in GDP (MP) vs Beta-Changes in Expected Inflation (DEI)')\n",
    "# Show the grid\n",
    "plt.grid(True)\n",
    "\n",
    "#Show the figure\n",
    "plt.show()"
   ]
  },
  {
   "cell_type": "markdown",
   "id": "vanV3QIBwX68",
   "metadata": {
    "id": "vanV3QIBwX68"
   },
   "source": [
    "## Examples"
   ]
  },
  {
   "cell_type": "markdown",
   "id": "hXISOeGsr4z-",
   "metadata": {
    "id": "hXISOeGsr4z-"
   },
   "source": [
    "Assume for both the following examples that we can invest in the asset classes shown on the previous page. We use the market-related data:\n",
    "\n",
    "$$\n",
    "r_{f}=0.02, \\lambda_{M P}=0.16, \\lambda_{D E I}=0.06, \\sigma_{M P}^{2}=0.09 \\text { and } \\sigma_{D E I}^{2}=0.05\n",
    "$$\n",
    "\n",
    "**Example 1**\n",
    "\n",
    "Consider a new plan with $A_{0}=900, L_{0}=700$, so $F S_{0}=200$. This plan's liability has only modest exposure to both MP risk and DEI risk: $\\beta_{M P, L}=0.5$ and $\\beta_{D E I, L}=0.25$\n",
    "\n",
    "Using the capital market data above, we calculate:\n",
    "\n",
    "\n",
    "\\begin{align*}\n",
    "\\beta_{M P, FS}^{*}&=\\left(\\frac{1.7778}{0.35644}\\right)(\\overline{r}_{FS}-0.02) \\\\\n",
    "\\beta_{D E I, FS}^{*}&=\\left(\\frac{1.2000}{0.35644}\\right)(\\overline{r}_{FS}-0.02) \\\\\n",
    "\\beta_{M P, A}^{*}&=\\left(\\frac{200}{900}\\right) \\beta_{M P, FS}^{*}+\\left(\\frac{700}{900}\\right)(0.50)=0.2222 \\beta_{M P, FS}^{*}+0.3889 \\\\\n",
    "\\beta_{D E I, A}^{*}&=\\left(\\frac{200}{900}\\right) \\beta_{D E I, FS}^{*}+\\left(\\frac{700}{900}\\right)(0.25)=0.2222 \\beta_{D E I,FS}^{*}+0.1944\n",
    "\\end{align*}\n",
    "\n",
    "\n",
    "For a modest desired funding surplus growth rate of $\\overline{r}_{FS}=0.04$, this requires (try this yourself):\n",
    "\n",
    "$$\n",
    "\\beta_{M P, FS}^{*}=0.0997, \\beta_{D E I, FS}^{*}=0.0673 \\beta_{M P, A}^{*}=0.41 \\text { and } \\beta_{D E I, A}^{*}=0.21\n",
    "$$\n",
    "\n",
    "Using the five asset classes in the previous graph, we can achieve this FS growth rate in more than one way. For example (check for yourself):\n",
    "\n",
    "$$\n",
    "X_{C}=.582 X_{B}=.092 \\text { and } X_{M}=.326\n",
    "$$\n",
    "\n",
    "The modest growth required ($\\overline{r}_{FS}=0.04$) means a large cash position, and a bigger liability to MP risk leads to the stock market investment. Alternatively,\n",
    "\n",
    "$$\n",
    "X_{C}=.38 X_{Q M P}=.41 \\text { and } X_{Q D E I}=.21\n",
    "$$\n",
    "\n",
    "also works. We invest in the factor portfolios in the proportions needed by our desired asset exposures.\n"
   ]
  },
  {
   "cell_type": "markdown",
   "id": "EGmGT2OvzQCe",
   "metadata": {
    "id": "EGmGT2OvzQCe"
   },
   "source": [
    "**Example 2**\n",
    "\n",
    "Consider another plan with $A_{0}=900, L_{0}=700$, so $F S_{0}=200$, and $\\beta_{M P, L}=0.4$ and $\\beta_{D E I, L}=1.40$.\n",
    "\n",
    "So, this plan has a liability that is much more exposed to DEI risk than was the plan in the previous example. Also, this plan wants a much higher FS growth rate: $\\overline{r}_{FS}=0.10$. This leads to optimal asset betas (you can check for yourself): $\\beta_{M P, A}^{*}=0.40$ and $\\beta_{D E I, A}^{*}=1.15$.\n",
    "\n",
    "From the bottom graph on page OBJ-25, we see that the trustees need asset betas that are not attainable without shorting some asset class.\n",
    "\n",
    "What do we do in this case? Assuming we can't short any asset class, we can only choose an asset risk profile within the feasible region. If we wanted to get to $\\beta_{M P, A}^{*}=0.40$ and $\\beta_{D E I, A}^{*}=1.15$, we would have to invest with:\n",
    "\n",
    "$$\n",
    "X_{B}=-.217 X_{M}=.370 \\text { and } X_{Q D E I}=.848\n",
    "$$\n",
    "\n",
    "which we cannot do because of the short position in bonds. We are outside the feasible area in the bottom graph on page OBJ-25, but we're not too far from edge of the area just using QDEI and M. So, we can search over different combinations of $\\mathrm{M}$ and DEI with $X_{M}+X_{Q D E I}=1$ to find that\n",
    "\n",
    "$$\n",
    "X_{M}=.420 \\text { and } X_{Q D E I}=.580\n",
    "$$\n",
    "\n",
    "yields:\n",
    "\n",
    "$\\beta_{M P, A}=.504, \\beta_{D E I, A}=.874, \\beta_{M P, FS}=.868$ and $\\beta_{D E I, FS}=-.967$ for $E[r_{FS}]=.101$\n",
    "\n",
    "The expected funding surplus growth rate is close to the desired $\\overline{r}_{FS}=0.10$ is pretty close to the FS growth rate we originally wanted. However, this solution is not a mean-variance efficient way to achieve $\\overline{r}_{FS}=.10$, so that we are bearing a little more FS risk than we would like. But, we can't short!\n",
    "\n",
    "So, in this example, we just worked backwards in the portfolio construction process: we decided we could only use assets $\\mathrm{M}$ and QDEI, and we found a combination of the two that had acceptable asset betas and, converting those back to FS betas, we got the FS growth rate of $10.1 \\%$.\n",
    "\n",
    "In summary, the SAA decision using the ALM model takes into account the plan's liability exposure to the risk factors and then selects asset exposures to minimize funding surplus volatility for a chosen level of funding surplus expected growth.\n"
   ]
  },
  {
   "cell_type": "markdown",
   "id": "7KIGnpXJxV4D",
   "metadata": {
    "id": "7KIGnpXJxV4D"
   },
   "source": [
    "## An alternative SAA Technique: Monte Carlo Simulation"
   ]
  },
  {
   "cell_type": "markdown",
   "id": "N0HwJrHt2ZNN",
   "metadata": {
    "id": "N0HwJrHt2ZNN"
   },
   "source": [
    "A convenient and flexible way to assess the effect of factor risk exposures to portfolio returns is to perform \"Monte-Carlo Simulations.\" This technique relies on drawing hypothetical realization of the factor shocks in order to simulate possible future scenarios. These shocks are used to assess the future distribution of portfolio returns implied by a chosen asset allocation. We provide an example below that involves two risk factors. \n"
   ]
  },
  {
   "cell_type": "markdown",
   "id": "kknkISDh2m2f",
   "metadata": {
    "id": "kknkISDh2m2f"
   },
   "source": [
    "**Step 1:** Define the relevant risk factors, $I_{1}$ and $I_{2}$ : perhaps GDP risk and Unexpected Inflation\n",
    "\n",
    "Generate 10,000 observations from a random number generator, for $I_{1}$ and $I_{2}$, for 10 straight years.\n",
    "\n",
    "Here we assume:\n",
    "\n",
    "$$\n",
    "I_{1} \\sim U(-0.05, 0.05)\n",
    "$$\n",
    "\n",
    "$$\n",
    "I_{2} \\sim U(-0.006, 0.006)\n",
    "$$\n",
    "\n",
    "The assumption is close to the data in Liu and Zhang (2008)"
   ]
  },
  {
   "cell_type": "code",
   "execution_count": 44,
   "id": "XREpEhn42vm0",
   "metadata": {
    "id": "XREpEhn42vm0"
   },
   "outputs": [],
   "source": [
    "##Import the package:\n",
    "import numpy as np\n",
    "import matplotlib.pyplot as plt\n",
    "\n",
    "np.random.seed(1)"
   ]
  },
  {
   "cell_type": "code",
   "execution_count": 45,
   "id": "7z-g_-3F4C_k",
   "metadata": {
    "id": "7z-g_-3F4C_k"
   },
   "outputs": [],
   "source": [
    "# Step 1\n",
    "# Define the relevant risk factors and their distributions\n",
    "I1 = 'GDP Risk' # GDP risk\n",
    "I2 = 'Unexpected Inflation' #Unexpected inlfation\n",
    "\n",
    "# Define the number of observations and the year\n",
    "num_observations = 10000 #Set the number of observations in the simulation\n",
    "num_years = 10 #Set the number of years\n",
    "\n",
    "#generate the I1_shock and I2_shock\n",
    "I1_shock = np.random.uniform(-0.05, 0.05, (num_years, num_observations))\n",
    "I2_shock = np.random.uniform(-0.006, 0.006, (num_years, num_observations))\n",
    "\n",
    "random_shocks = np.array([[[I1_shock[i,j], I2_shock[i, j]] for j in range(num_observations)] for i in range(num_years)] )"
   ]
  },
  {
   "cell_type": "markdown",
   "id": "pSshkf4YUw2V",
   "metadata": {
    "id": "pSshkf4YUw2V"
   },
   "source": [
    "**Step 2:** Define asset class exposures: $\\beta_{i j}$, $\\lambda_{k}$ and risk-free rate $r_f$\n",
    "\n",
    "-For example: stock market exposure to MP and DEI risks, bond index exposure to MP and DEI risks, etc. These can come from regressions of asset class returns on risk factor shocks, using historical data. Here we use the guess value of beta from the above example.\n",
    "\n",
    "Assume we have two assets: Bond (b) and Stock (m):"
   ]
  },
  {
   "cell_type": "code",
   "execution_count": 46,
   "id": "YqddQxPMU-xY",
   "metadata": {
    "id": "YqddQxPMU-xY"
   },
   "outputs": [],
   "source": [
    "# Define asset class exposures (betas) to the risk factors\n",
    "\n",
    "#bond beta for mp and dei\n",
    "beta_mp_b = 0.2\n",
    "beta_dei_b = -0.2\n",
    "\n",
    "#stock beta for mp and dei\n",
    "beta_mp_m = 1.2\n",
    "beta_dei_m = 0.7\n",
    "\n",
    "beta_ij = {\n",
    "    'bonds': {'I1': beta_mp_b, 'I2': beta_dei_b},\n",
    "    'stocks': {'I1': beta_mp_m, 'I2': beta_dei_m},\n",
    "}"
   ]
  },
  {
   "cell_type": "markdown",
   "id": "ClVIW3B2JvfP",
   "metadata": {
    "id": "ClVIW3B2JvfP"
   },
   "source": [
    "$\\lambda_{M P}=0.136, \\lambda_{D E I}=-0.001$, which are risk premiums for GDP and unexpected inflation respectively. The parameters are consistent with those in CRR paper."
   ]
  },
  {
   "cell_type": "code",
   "execution_count": 47,
   "id": "KWfFcqPGI96H",
   "metadata": {
    "id": "KWfFcqPGI96H"
   },
   "outputs": [],
   "source": [
    "# Define lambdas for mp risk and dei risk\n",
    "lambda_mp = 0.136\n",
    "lambda_dei = -0.001"
   ]
  },
  {
   "cell_type": "markdown",
   "id": "h49NVVMOKGNf",
   "metadata": {
    "id": "h49NVVMOKGNf"
   },
   "source": [
    "Risk free rate $r_f$ = 0.02"
   ]
  },
  {
   "cell_type": "code",
   "execution_count": 48,
   "id": "jWUjiJRDKOmE",
   "metadata": {
    "id": "jWUjiJRDKOmE"
   },
   "outputs": [],
   "source": [
    "# Define the risk free rate\n",
    "rf = 0.02"
   ]
  },
  {
   "cell_type": "markdown",
   "id": "Nsnix5v8WnL6",
   "metadata": {
    "id": "Nsnix5v8WnL6"
   },
   "source": [
    "**Step 3:** Define the plan's liability betas: $\\beta_{1 L}$ and $\\beta_{2 L}$\n",
    "\n",
    "-These can also come from regressions\n",
    "\n",
    "Here we still use the value from the above example 1"
   ]
  },
  {
   "cell_type": "code",
   "execution_count": 49,
   "id": "1GQLrAdBYtx1",
   "metadata": {
    "id": "1GQLrAdBYtx1"
   },
   "outputs": [],
   "source": [
    "# Define the plan's liability betas to the risk factors, with modest exposure:\n",
    "beta_1l = 0.5\n",
    "beta_2l = 0.25\n",
    "\n",
    "beta_l = np.array([beta_1l, beta_2l])"
   ]
  },
  {
   "cell_type": "markdown",
   "id": "3nVR_ZYOZLUu",
   "metadata": {
    "id": "3nVR_ZYOZLUu"
   },
   "source": [
    "**Step 4: Initial setting**"
   ]
  },
  {
   "cell_type": "code",
   "execution_count": 50,
   "id": "QjHDo4kyZYg6",
   "metadata": {
    "id": "QjHDo4kyZYg6"
   },
   "outputs": [],
   "source": [
    "##Initial setting\n",
    "FS0 = 2  # Initial funding surplus\n",
    "A0 = 9  # Initial assets\n",
    "L0 = 7 # Initial liabilities"
   ]
  },
  {
   "cell_type": "markdown",
   "id": "WGyVLhvBZSiI",
   "metadata": {
    "id": "WGyVLhvBZSiI"
   },
   "source": [
    "**Step 5:** Try a specific asset mix (i.e., a SAA), i.e., the weights on the asset classes. This implies the asset betas, $\\beta_{1 A}$ and $\\beta_{2 A}$\n",
    "\n",
    "-Calculate 10,000 10-year paths of asset returns,\n",
    "\n",
    "$$\n",
    "r_{A} = r_f + w_{b}\\times[\\beta_{1A_b}\\times(\\lambda_1 + I_{1}) + \\beta_{2A_b}\\times(\\lambda_2 + I_{2})] + w_{m}\\times[\\beta_{1A_m}\\times(\\lambda_1 + I_{1}) + \\beta_{2A_m}\\times(\\lambda_2 + I_{2})]\n",
    "$$\n",
    "\n",
    "-Calculate $r_{L}$\n",
    "\n",
    "$$\n",
    "r_{L} = r_f + \\beta_{1L}\\times(\\lambda_1 + I_{1}) + \\beta_{2L}\\times(\\lambda_2 + I_{2})\n",
    "$$\n",
    "\n",
    "-Calculate $r_{FS}$\n",
    "\n",
    "$$\n",
    "r_{FS}=\\frac{F S_{1}-F S_{0}}{F S_{0}}=\\left(\\frac{A_{0}}{F S_{0}}\\right) r_{A}-\\left(\\frac{L_{0}}{F S_{0}}\\right) r_{L}\n",
    "$$\n",
    "\n",
    "-For each of the 10,000 observations, get\n",
    "\n",
    "$$\n",
    "F S_{10}=F S_{0} \\left[\\left(1+r_{FS,1}\\right) \\times  \\left(1+r_{FS,2}\\right)\\times\\ldots \\left(1+r_{FS,10}\\right)\\right]\n",
    "$$\n",
    "\n",
    "Where $r_{FS,1}$ is a year 1 return, $r_{FS,2}$ is a year 2 return, etc.\n",
    "\n",
    "The end result is, for a particular SAA (asset class weights) choice, a distribution (of 10,000 observations) for the funding surplus after 10 years. Trustees must decide which distribution (for different SAA choices) meets their preferred reward-risk trade-off."
   ]
  },
  {
   "cell_type": "code",
   "execution_count": 51,
   "id": "ghyeWoEO7yP_",
   "metadata": {
    "id": "ghyeWoEO7yP_"
   },
   "outputs": [],
   "source": [
    "# Define the asset mixes for the conservative and aggressive SAA\n",
    "#conservative strategy\n",
    "conservative_bond_w = 0.6\n",
    "conservative_stock_w = 0.4\n",
    "conservative_mix = {'bonds': conservative_bond_w , 'stocks': conservative_stock_w}\n",
    "\n",
    "#aggressive strategy\n",
    "aggressive_bond_w = 0.4\n",
    "aggressive_stock_w = 0.6\n",
    "aggressive_mix = {'bonds': aggressive_bond_w, 'stocks': aggressive_stock_w}\n",
    "\n",
    "#Calculate the stock returns and bond returns based on the random shocks\n",
    "r_a_conservative = np.zeros((num_observations, num_years))\n",
    "r_a_aggressive = np.zeros((num_observations, num_years))\n",
    "r_l = np.zeros((num_observations, num_years))\n",
    "\n",
    "#Calculate conservative ra\n",
    "for year in range(num_years):\n",
    "    for observation in range(num_observations):\n",
    "      r_a_aggressive[observation, year] += rf\n",
    "      for asset, weights in conservative_mix.items():\n",
    "          r_a_conservative[observation, year] += weights * (beta_ij[asset]['I1'] * (random_shocks[year, observation, 0] + lambda_mp) +\n",
    "                                                            beta_ij[asset]['I2'] * (random_shocks[year, observation, 1] + lambda_dei))\n",
    "\n",
    "#Calculate aggressive ra\n",
    "for year in range(num_years):\n",
    "    for observation in range(num_observations):\n",
    "      r_a_aggressive[observation, year] += rf\n",
    "      for asset, weights in aggressive_mix.items():\n",
    "          r_a_aggressive[observation, year] += weights * (beta_ij[asset]['I1'] * (random_shocks[year, observation, 0] + lambda_mp) +\n",
    "                                                          beta_ij[asset]['I2'] * (random_shocks[year, observation, 1] + lambda_dei))\n",
    "\n",
    "#Calculate aggressive rl\n",
    "r_l[observation, year] = rf + beta_l[0] * (random_shocks[year, observation, 0] + lambda_mp) + beta_l[1] * (random_shocks[year, observation, 1] + lambda_dei)\n",
    "\n",
    "# Calculate funding surplus returns and final FS after 10 years for both strategies\n",
    "FS_10_conservative = FS0 * np.cumprod(1 + (A0 / FS0) * r_a_conservative - (L0 / FS0) * r_l, axis=1)[:, -1]\n",
    "FS_10_aggressive = FS0 * np.cumprod(1 + (A0 / FS0) * r_a_aggressive - (L0 / FS0) * r_l, axis=1)[:, -1]\n"
   ]
  },
  {
   "cell_type": "markdown",
   "id": "H9PDpQnLE9wS",
   "metadata": {
    "id": "H9PDpQnLE9wS"
   },
   "source": [
    "**Step 6:** Plot the result"
   ]
  },
  {
   "cell_type": "markdown",
   "id": "I0lOD4nraGbF",
   "metadata": {
    "id": "I0lOD4nraGbF"
   },
   "source": [
    "Plot the histogram"
   ]
  },
  {
   "cell_type": "code",
   "execution_count": 52,
   "id": "Xh6KmcYzaKNP",
   "metadata": {
    "colab": {
     "base_uri": "https://localhost:8080/",
     "height": 807
    },
    "id": "Xh6KmcYzaKNP",
    "outputId": "ba0673c1-1d39-45e4-f6b7-52ed7b03c3dc"
   },
   "outputs": [
    {
     "data": {
      "image/png": "[encoded data removed]",
      "text/plain": [
       "<Figure size 1000x600 with 1 Axes>"
      ]
     },
     "metadata": {},
     "output_type": "display_data"
    }
   ],
   "source": [
    "# Plotting the results\n",
    "\n",
    "# plot the above results on a single graph and make it a density plot\n",
    "plt.figure(figsize=(10, 6))\n",
    "plt.hist(FS_10_conservative, bins=10, color='skyblue', edgecolor='black', label='Conservative SAA', density=True, alpha=0.7)\n",
    "plt.hist(FS_10_aggressive, bins=50, color='orange', edgecolor='black', label='Aggressive SAA', density=True, alpha=0.7)\n",
    "plt.title('Funding Surplus after 10 Years')\n",
    "plt.xlabel('FS10')\n",
    "plt.ylabel('Density')\n",
    "plt.legend()\n",
    "plt.show()\n",
    "\n"
   ]
  },
  {
   "cell_type": "markdown",
   "id": "2dcd6b2f",
   "metadata": {},
   "source": [
    "Based on the above histogram, trustees of a pension plan can assess the likelihood of the fund being underfunded over a 10-year horizon. In the example above, the likelihood of underfunding ($FS<0$) is very low under both strategies."
   ]
  },
  {
   "cell_type": "code",
   "execution_count": null,
   "id": "992be31a",
   "metadata": {},
   "outputs": [],
   "source": []
  }
 ],
 "metadata": {
  "colab": {
   "provenance": []
  },
  "kernelspec": {
   "display_name": "Python 3",
   "language": "python",
   "name": "python3"
  },
  "language_info": {
   "codemirror_mode": {
    "name": "ipython",
    "version": 3
   },
   "file_extension": ".py",
   "mimetype": "text/x-python",
   "name": "python",
   "nbconvert_exporter": "python",
   "pygments_lexer": "ipython3",
   "version": "3.11.5"
  }
 },
 "nbformat": 4,
 "nbformat_minor": 5
}
