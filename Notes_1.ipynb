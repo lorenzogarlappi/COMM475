{
  "cells": [
    {
      "cell_type": "markdown",
      "id": "05902d65",
      "metadata": {
        "id": "05902d65"
      },
      "source": [
        "# **COMMERCE 475 - Review**"
      ]
    },
    {
      "cell_type": "markdown",
      "id": "6331547b",
      "metadata": {
        "id": "6331547b"
      },
      "source": [
        "<strong> Instructor: Lorenzo Garlappi\n",
        "\n",
        "<strong> TA: Tianping Wu"
      ]
    },
    {
      "cell_type": "markdown",
      "id": "6657eb16",
      "metadata": {
        "id": "6657eb16"
      },
      "source": [
        "# A New Look at the CAPM"
      ]
    },
    {
      "cell_type": "markdown",
      "id": "5ff2f4ee",
      "metadata": {
        "id": "5ff2f4ee"
      },
      "source": [
        "The Capital Asset Pricing Model (CAPM) is a VERY simple way of viewing risk and return in traded securities. It postulates that individual stock returns come from two sources: (i) unsystematic, stock- specific returns and (ii) systematic returns due to how this stock is exposed to movements in the whole stock market. Thus, the CAPM assumes the following “return generating function” (RGF):"
      ]
    },
    {
      "cell_type": "markdown",
      "id": "2fcefede",
      "metadata": {
        "id": "2fcefede"
      },
      "source": [
        "$$\n",
        "r_{s}=r_{f}+\\beta_{s}\\left(r_{m}-r_{f}\\right)+e_{s}\n",
        "$$"
      ]
    },
    {
      "cell_type": "markdown",
      "id": "119f772d",
      "metadata": {
        "id": "119f772d"
      },
      "source": [
        "The actual, realized return on a stock (s), $r_{s}$, comes from the riskless return, $r_{f}$, plus the stock's \"beta,\" $\\beta_{s}$, times the actual \"excess return\" on the whole stock market, $r_{m}-r_{f}$, plus the stock's firm-specific return, $e_{s}$. Thus, the actual return is assumed to come from the riskless return, plus a systematic return plus an unsystematic return."
      ]
    },
    {
      "cell_type": "markdown",
      "id": "98fe7e2b",
      "metadata": {
        "id": "98fe7e2b"
      },
      "source": [
        "You can see that, if beta $=1$, then $r_{s}=r_{m}+e_{s}$ : the stock moves just like the market, plus or minus some return that is just due to this particular stock getting good or bad news, like a company winning a new contract or the CEO retiring.\n",
        "\n",
        "Taking the variance of the return equation:\n",
        "\n",
        "$$\n",
        "\\operatorname{Var}\\left(r_{s}\\right)=\\beta_{s}^{2} \\sigma_{m}^{2}+\\sigma_{e s}^{2}\n",
        "$$\n",
        "\n",
        "The stock's variance of return, or \"total risk,\" consists of the systematic risk component and an unsystematic risk component. The unsystematic risk can be diversified away in a well-diversified portfolio of individual stocks."
      ]
    },
    {
      "cell_type": "markdown",
      "id": "7b68ce67",
      "metadata": {
        "id": "7b68ce67"
      },
      "source": [
        "Since a stock's risk measure is $\\beta_{s}$, and investors don't like systematic risk, they demand a higher EXPECTED return on a stock with more systematic risk: this results in an equation that relates a stock's systematic risk to its expected return:\n",
        "\n",
        "$$\n",
        "E\\left(r_{s}\\right)=r_{f}+\\beta_{s} \\lambda\n",
        "$$\n",
        "\n",
        "where $\\lambda=E\\left(r_{m}\\right)-r_{f}$ is the \"market price of risk.\" The above equation is called, in the CAPM, the \"Security Market Line,\" (SML).\n",
        "\n",
        "We will rewrite the CAPM **return generating function (RGF)** slightly to introduce the Multi-Risk Factor (MRF) Model, originally called the \"APT Model,\" which we will employ regularly in the rest of the course. To adapt the CAPM RGF, we just add and subtract $\\beta_{s} E\\left(r_{m}\\right)$, so we are not really changing anything, and rearrange that equation to give:\n",
        "\n",
        "$$\n",
        "r_{s}=r_{f}+\\beta_{s}\\left(E\\left(r_{m}\\right)-r_{f}\\right)+\\beta_{s}\\left(r_{m}-E\\left(r_{m}\\right)\\right)+e_{s}\n",
        "$$\n",
        "\n",
        "But, the first two terms on the right-hand side of the equation are just $E\\left(r_{s}\\right)$, the stock's expected return (from the SML). Also, we will define $r_{m}-E\\left(r_{m}\\right)=I_{m}$ as the \"risk factor shock\" for the market risk factor, m. A \"shock\" in statistics, is defined as a mean-zero random variable. And, $I_{m}=r_{m}-E\\left(r_{m}\\right)$ does, indeed, have a zero mean: If you ask anyone what the expected value is of $I_{m}$, they will reply \"zero.\" If the market return turns out, at the end of a period, to be bigger than it was expected to be, then $I_{m}>$ 0 , and if the market does less than what was expected, $I_{m}<0$."
      ]
    },
    {
      "cell_type": "markdown",
      "id": "f518486e",
      "metadata": {
        "id": "f518486e"
      },
      "source": [
        "So, we can rewrite the CAPM RGF in a way that is the same as a \"one-factor risk model\" RGF:\n",
        "\n",
        "$$\n",
        "r_{s}=E\\left(r_{s}\\right)+\\beta_{s} I_{m}+e_{s}\n",
        "$$\n",
        "\n",
        "Thus, for the CAPM, a stock's actual, ex-post (i.e., \"after-the-fact\": at the end of a period) realized return can be decomposed into three parts: (i) the expected return (what investors, at the start of the period, expected the return to be, (ii) the stock's actual return due to an unexpected return on the market portfolio, $I_{m}$, which is the ONLY risk factor in the CAPM \"one risk factor\" model, and (iii) the stock's unsystematic return.\n",
        "\n",
        "Moving one term in the above equation: $r_{s}-E\\left(r_{s}\\right)=\\beta_{s} I_{m}+e_{s}$, which says that a stock's UNEXPECTED return (a \"surprise\"!) comes from an UNEXPECTED return on the whole market $\\left(I_{m}\\right.$ not equal to zero) and from UNEXPECTED firm-specific news.\n",
        "\n",
        "To summarize, the CAPM says that stocks have returns that differ from what was expected due only to unexpected changes in the total market portfolio of stocks (assuming unsystematic risk is diversified away). So, when the market does unexpectedly well, and if the stock's beta is positive, then that stock will do unexpectedly well, and vice-versa.\n",
        "\n",
        "But, do we believe that the ONLY systematic risk factor is the unexpected return (\"shock\") to the whole market portfolio? What about systematic risk factors like macroeconomic activity, as measured by changes in GDP? Or, are stock prices affected when interest rates change? YES!\n",
        "\n",
        "The Multi-Risk Factor (MRF) Model allows many risk factors, rather than just one, which the CAPM assumes.\n"
      ]
    },
    {
      "cell_type": "markdown",
      "id": "1e141f32",
      "metadata": {
        "id": "1e141f32"
      },
      "source": [
        "# Some conccepts and example\n"
      ]
    },
    {
      "cell_type": "markdown",
      "id": "473dbdc0",
      "metadata": {
        "id": "473dbdc0"
      },
      "source": [
        "**(1) Institutional Investment is Important: Pension Earnings Determine Retirement Income**\n",
        "\n",
        "Assume a 35-year old will save c= 5,000$ per year for 30 years, then buy a 15-year annuity w, which depend on pension earnings from age 36 to age 65 (they plan to die at 80).\n",
        "\n",
        "** Future Value of annuity with payment = $c$ **\n",
        "\n",
        "$$ \\color{red}{FV = c \\times \\frac{(1+r)^{T -1}}{r}}$$\n",
        "\n",
        "\n"
      ]
    },
    {
      "cell_type": "code",
      "execution_count": 10,
      "id": "e6aca541",
      "metadata": {
        "id": "e6aca541"
      },
      "outputs": [],
      "source": [
        "# Function to calculate future value of a series of investments\n",
        "def future_value_annuity(c, r, T):\n",
        "    FV = c * ((1 + r)**T - 1) / r\n",
        "    return FV\n",
        "\n"
      ]
    },
    {
      "cell_type": "markdown",
      "source": [
        "**Case A.** Suppose we invest $5,000 pre-retirement from age 35 to 65 at a 3% rate. At the retirement we accumultate the FV which is"
      ],
      "metadata": {
        "id": "76nmS4pJ0dl5"
      },
      "id": "76nmS4pJ0dl5"
    },
    {
      "cell_type": "code",
      "execution_count": 12,
      "id": "cc683a83",
      "metadata": {
        "colab": {
          "base_uri": "https://localhost:8080/"
        },
        "id": "cc683a83",
        "outputId": "f008dedc-8630-4a4f-ae4c-7c1853c78868"
      },
      "outputs": [
        {
          "output_type": "stream",
          "name": "stdout",
          "text": [
            "Future value at 65 is 237877.07853161037\n"
          ]
        }
      ],
      "source": [
        "# Case A:\n",
        "# Pre-retirement\n",
        "c = 5000  # Annual investment\n",
        "rate_pre_retirement = 0.03  # Annual growth rate\n",
        "years_pre_retirement = 30  # Investment period\n",
        "future_value_at_65 = future_value_annuity(c, rate_pre_retirement, years_pre_retirement)\n",
        "\n",
        "print(\"Future value at 65 is\", future_value_at_65)"
      ]
    },
    {
      "cell_type": "markdown",
      "source": [
        "Now suppose that we buy a 15-year annuity at year 65. How much retirement income can we enjoy if we are able to invest the lump sum received at year 65 at a 5% annual rate?\n",
        "\n",
        "We know that the present value of a \\$w-annuity for a total of $T$  years is\n",
        "\n",
        "$$ {\\color{red} {PV~of~1$~annuity~at~ r\\% = \\frac{(1-(1+r)^{-T})}{r} }}$$\n",
        "\n",
        "We want to find $w$ such that the PVA equals the FV we have accumulated so far from our investment during our working life that is\n",
        "\n",
        "$$ w = \\frac{Capital~accumulated}{PV~of~1$~annuity}$$\n"
      ],
      "metadata": {
        "id": "JRQPRy1V2JBH"
      },
      "id": "JRQPRy1V2JBH"
    },
    {
      "cell_type": "code",
      "source": [
        "# Function to calculate the annual withdrawal\n",
        "def annual_withdrawal(lump_sum, r, T):\n",
        "    unit_annuity = (1 - (1 + r)**-T) / r # This is the present value of a 1-dollar annuity\n",
        "    withdrawal = lump_sum / unit_annuity\n",
        "    return withdrawal\n",
        "\n",
        "lump_sum= future_value_at_65\n",
        "investment_rate= 0.05\n",
        "retirement_years = 15\n",
        "\n",
        "w = annual_withdrawal(lump_sum, investment_rate, retirement_years)\n",
        "\n",
        "print('Annual withdrawal is: ', w )\n"
      ],
      "metadata": {
        "colab": {
          "base_uri": "https://localhost:8080/"
        },
        "id": "qPEwAfjN2xqD",
        "outputId": "fc43802f-9450-490c-a520-63d3956c126c"
      },
      "id": "qPEwAfjN2xqD",
      "execution_count": 19,
      "outputs": [
        {
          "output_type": "stream",
          "name": "stdout",
          "text": [
            "Annual withdrawal is:  22917.621915539206\n"
          ]
        }
      ]
    },
    {
      "cell_type": "markdown",
      "source": [
        "**Case B.** Suppose now that the pension earns 10% per year from age 35 to 65 and that the lump sum accumulated can still be invested at 5%. What is the annual withdrawal?"
      ],
      "metadata": {
        "id": "d15NYfhG6S8_"
      },
      "id": "d15NYfhG6S8_"
    },
    {
      "cell_type": "code",
      "execution_count": 22,
      "id": "73c9cd82",
      "metadata": {
        "colab": {
          "base_uri": "https://localhost:8080/"
        },
        "id": "73c9cd82",
        "outputId": "e5110015-a9fa-43b6-bc3a-0b44e7a40f73"
      },
      "outputs": [
        {
          "output_type": "stream",
          "name": "stdout",
          "text": [
            "Future value at 65 is:  822470.1134443225\n",
            "Annual withdrawal from 65 to 80 is:  79238.65221946072\n"
          ]
        }
      ],
      "source": [
        "# Case B:\n",
        "# Pre-retirement\n",
        "investment = 5000  # Annual investment\n",
        "rate_pre_retirement = 0.1  # Annual growth rate\n",
        "years_pre_retirement = 30  # Investment period\n",
        "future_value_at_65 = future_value_annuity(investment, rate_pre_retirement, years_pre_retirement)\n",
        "\n",
        "# Post-retirement\n",
        "rate_post_retirement = 0.05  # Annual growth rate during retirement\n",
        "years_post_retirement = 15  # Withdrawal period\n",
        "w = annual_withdrawal(future_value_at_65, rate_post_retirement, years_post_retirement)\n",
        "\n",
        "print('Future value at 65 is: ', future_value_at_65)\n",
        "print('Annual withdrawal from 65 to 80 is: ', w)\n",
        ""
      ]
    },
    {
      "cell_type": "markdown",
      "id": "59994995",
      "metadata": {
        "id": "59994995"
      },
      "source": [
        "# **Does Tactical Asset Allocation (TAA) add value?**\n",
        "\n",
        "The stock market will, at times, grow faster than its long-run average growth rate and, at other times, grow negatively or slower than its long-run average growth rate. Is this behavior a market inefficiency or a time-varying equity risk premium (ERP)?\n",
        "\n",
        "The answer is that it may be both or either one!\n",
        "\n",
        "A market inefficiency: The stock market \"over-reacts\": it goes too high, and it goes too low, always reverting back to its long-run mean after overshooting, but then overshooting in the other direction. The winning strategy: buy low (when you think the market has over-reacted negatively) and sell high (when you think the market is too optimistic). The (smart?) investor wants to invest only when the growth rate is greater than the long-run average growth rate. The other investors are too busy over- and underreacting!\n",
        "\n",
        "BUT, if all investors buy low and sell high, then stock prices will not over- or under-react - that's market efficiency!\n",
        "\n",
        "A time-varying equity risk premium (ERP) in an efficient market: In the CAPM, for example,\n",
        "\n",
        "$$\n",
        "E\\left(r_{s}\\right)=r_{f}+\\lambda \\beta_{s}\n",
        "$$\n",
        "\n",
        "Could lambda $(\\lambda)$ vary over time? Yes! At low market levels, investors are poor and so more risk averse, demanding a higher-than-normal expected rate of return (slope going forward) and, at market peaks, investors are wealthy, with lower risk aversion, and they are willing to accept a lower-than-normal expected rate of return.\n",
        "\n",
        "As a TAA investor, we invest in stocks when the lambda is high. This is a \"contrarian\" strategy, since others' risk aversion makes them want out of the stock market.\n",
        "\n",
        "The next page is one simple argument that TAA is very hard to do: there is no significant serial correlation in stock market returns over short intervals: a month, a quarter, or a year (as shown on the next page). So, simply knowing that the market was up last year, tells you NOTHING about what the market might do this year. TAA can't be simply a \"momentum\" call.\n"
      ]
    },
    {
      "cell_type": "markdown",
      "id": "099f2224",
      "metadata": {
        "id": "099f2224"
      },
      "source": [
        "# **The Portfolio Management Process -- Outline of the course**\n",
        "\n",
        "**Client objectives**\n",
        "\n",
        "Individual Investor Goal = maximize the amount of retirement savings available at retirement (a specific date), subject to some limit on the range of possible outcomes (risk management)\n",
        "\n",
        "An example: A dynamic SAA: Life-cycle Investing\n",
        "\n",
        "Institutional Investor Goal = meet the obligations of the pension plan (a very long-maturity stream of future payments) with the minimum plan sponsor contributions and a limit on the riskiness of those contributions - there is no specific target date\n",
        "\n",
        "**Asset class choices**\n",
        "\n",
        "Define a broad range of investment vehicles\n",
        "\n",
        "Criteria:\n",
        "\n",
        "Internal homogeneity\n",
        "\n",
        "Low correlation with other classes\n",
        "\n",
        "Different economic drivers\n",
        "\n",
        "An example:\n",
        "\n",
        "Canadian equities\n",
        "\n",
        "International equities\n",
        "\n",
        "Canadian bonds\n",
        "\n",
        "Global bonds\n",
        "\n",
        "Real return assets\n",
        "\n",
        "Real estate\n",
        "\n",
        "Real return bonds\n",
        "\n",
        "Private equity\n",
        "\n",
        "Infrastructure\n",
        "\n",
        "**Strategic Asset Allocation (SAA)**\n",
        "The choice of a long-term asset allocation over allowed asset classes\n",
        "\n",
        "From a Mean-Variance optimization or an Asset-Liability model\n",
        "\n",
        "**Portfolio Construction**\n",
        "Active versus passive investing\n",
        "\n",
        "Active investing, in general, can be comprised of:\n",
        "\n",
        "Tactical Asset Allocation (TAA)\n",
        "\n",
        "Insured Asset Allocation (IAA) and\n",
        "\n",
        "Security Selection\n",
        "\n",
        "Balanced versus specialist structure (if using an active style)\n",
        "\n",
        "Use style diversification or not\n",
        "\n",
        "Examples: passive, active (long only), active (130/30) and passive plus market-neutral\n",
        "\n",
        "**Risk Management**\n",
        "\n",
        "Limits on Divergence from \"policy\"\n",
        "\n",
        "Limits on asset allocation deviation from SAA mix\n",
        "\n",
        "Limits on sectoral allocations in bond and equity portfolios\n",
        "\n",
        "Limits on amount of diversification in any asset class\n",
        "\n",
        "Direct limits on \"tracking error\" relative to a policy benchmark\n",
        "\n",
        "**Performance Measurement**\n",
        "\n",
        "Is the client's objective met satisfactorily?\n",
        "\n",
        "Did the manager add value in ways that she was supposed to?\n",
        "\n"
      ]
    }
  ],
  "metadata": {
    "kernelspec": {
      "display_name": "Python 3 (ipykernel)",
      "language": "python",
      "name": "python3"
    },
    "language_info": {
      "codemirror_mode": {
        "name": "ipython",
        "version": 3
      },
      "file_extension": ".py",
      "mimetype": "text/x-python",
      "name": "python",
      "nbconvert_exporter": "python",
      "pygments_lexer": "ipython3",
      "version": "3.9.12"
    },
    "colab": {
      "provenance": []
    }
  },
  "nbformat": 4,
  "nbformat_minor": 5
}